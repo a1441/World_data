{
 "cells": [
  {
   "cell_type": "markdown",
   "id": "f14bdcac",
   "metadata": {
    "heading_collapsed": true
   },
   "source": [
    "# Libraries & Dependencies"
   ]
  },
  {
   "cell_type": "code",
   "execution_count": 1,
   "id": "b1109ea0",
   "metadata": {
    "ExecuteTime": {
     "end_time": "2022-04-22T15:17:39.033407Z",
     "start_time": "2022-04-22T15:17:35.792451Z"
    },
    "hidden": true
   },
   "outputs": [],
   "source": [
    "import pandas as pd\n",
    "import requests\n",
    "import pycountry\n",
    "import pycountry_convert as pc\n",
    "import plotly.express as px\n",
    "import plotly.figure_factory as ff\n",
    "import plotly.graph_objects as go"
   ]
  },
  {
   "cell_type": "markdown",
   "id": "d8370bcd",
   "metadata": {
    "heading_collapsed": true
   },
   "source": [
    "# Import Data"
   ]
  },
  {
   "cell_type": "code",
   "execution_count": 16,
   "id": "ef9ab6c4",
   "metadata": {
    "ExecuteTime": {
     "end_time": "2022-04-22T16:53:23.252374Z",
     "start_time": "2022-04-22T16:53:22.998443Z"
    },
    "hidden": true
   },
   "outputs": [
    {
     "data": {
      "text/plain": [
       "<Response [200]>"
      ]
     },
     "execution_count": 16,
     "metadata": {},
     "output_type": "execute_result"
    }
   ],
   "source": [
    "url = 'https://www.worlddata.info/average-penissize.php?fbclid=IwAR1P_W7VGwkctlgu5iF4jpS3FMSDncC9UQmIRIH5CYjg0nukskUSKcyRvDE'\n",
    "\n",
    "r = requests.get(url)\n",
    "r"
   ]
  },
  {
   "cell_type": "code",
   "execution_count": 17,
   "id": "eede7e12",
   "metadata": {
    "ExecuteTime": {
     "end_time": "2022-04-22T16:53:23.298278Z",
     "start_time": "2022-04-22T16:53:23.255360Z"
    },
    "hidden": true
   },
   "outputs": [],
   "source": [
    "df = pd.read_html(r.text)[0]"
   ]
  },
  {
   "cell_type": "markdown",
   "id": "c0e17c26",
   "metadata": {
    "hidden": true
   },
   "source": [
    "## Data Prep"
   ]
  },
  {
   "cell_type": "code",
   "execution_count": 11,
   "id": "32a0de3d",
   "metadata": {
    "ExecuteTime": {
     "end_time": "2022-04-22T15:29:22.493272Z",
     "start_time": "2022-04-22T15:29:22.475277Z"
    },
    "hidden": true
   },
   "outputs": [
    {
     "data": {
      "text/html": [
       "<div>\n",
       "<style scoped>\n",
       "    .dataframe tbody tr th:only-of-type {\n",
       "        vertical-align: middle;\n",
       "    }\n",
       "\n",
       "    .dataframe tbody tr th {\n",
       "        vertical-align: top;\n",
       "    }\n",
       "\n",
       "    .dataframe thead th {\n",
       "        text-align: right;\n",
       "    }\n",
       "</style>\n",
       "<table border=\"1\" class=\"dataframe\">\n",
       "  <thead>\n",
       "    <tr style=\"text-align: right;\">\n",
       "      <th></th>\n",
       "      <th>Country</th>\n",
       "      <th>Erect length</th>\n",
       "      <th>Body­size</th>\n",
       "      <th>Percentage of height</th>\n",
       "    </tr>\n",
       "  </thead>\n",
       "  <tbody>\n",
       "    <tr>\n",
       "      <th>0</th>\n",
       "      <td>Ecuador</td>\n",
       "      <td>17.61 cm</td>\n",
       "      <td>1.67 m</td>\n",
       "      <td>10.54 %</td>\n",
       "    </tr>\n",
       "    <tr>\n",
       "      <th>1</th>\n",
       "      <td>Cameroon</td>\n",
       "      <td>16.67 cm</td>\n",
       "      <td>1.71 m</td>\n",
       "      <td>9.75 %</td>\n",
       "    </tr>\n",
       "    <tr>\n",
       "      <th>2</th>\n",
       "      <td>Bolivia</td>\n",
       "      <td>16.51 cm</td>\n",
       "      <td>1.68 m</td>\n",
       "      <td>9.84 %</td>\n",
       "    </tr>\n",
       "    <tr>\n",
       "      <th>3</th>\n",
       "      <td>Sudan</td>\n",
       "      <td>16.47 cm</td>\n",
       "      <td>1.71 m</td>\n",
       "      <td>9.63 %</td>\n",
       "    </tr>\n",
       "    <tr>\n",
       "      <th>4</th>\n",
       "      <td>Haiti</td>\n",
       "      <td>16.01 cm</td>\n",
       "      <td>1.72 m</td>\n",
       "      <td>9.32 %</td>\n",
       "    </tr>\n",
       "    <tr>\n",
       "      <th>...</th>\n",
       "      <td>...</td>\n",
       "      <td>...</td>\n",
       "      <td>...</td>\n",
       "      <td>...</td>\n",
       "    </tr>\n",
       "    <tr>\n",
       "      <th>83</th>\n",
       "      <td>Hong Kong</td>\n",
       "      <td>11.19 cm</td>\n",
       "      <td>1.74 m</td>\n",
       "      <td>6.42 %</td>\n",
       "    </tr>\n",
       "    <tr>\n",
       "      <th>84</th>\n",
       "      <td>Sri Lanka</td>\n",
       "      <td>10.89 cm</td>\n",
       "      <td>1.67 m</td>\n",
       "      <td>6.50 %</td>\n",
       "    </tr>\n",
       "    <tr>\n",
       "      <th>85</th>\n",
       "      <td>Philippines</td>\n",
       "      <td>10.85 cm</td>\n",
       "      <td>1.65 m</td>\n",
       "      <td>6.59 %</td>\n",
       "    </tr>\n",
       "    <tr>\n",
       "      <th>86</th>\n",
       "      <td>Burma</td>\n",
       "      <td>10.70 cm</td>\n",
       "      <td>1.66 m</td>\n",
       "      <td>6.45 %</td>\n",
       "    </tr>\n",
       "    <tr>\n",
       "      <th>87</th>\n",
       "      <td>Cambodia</td>\n",
       "      <td>10.04 cm</td>\n",
       "      <td>1.65 m</td>\n",
       "      <td>6.09 %</td>\n",
       "    </tr>\n",
       "  </tbody>\n",
       "</table>\n",
       "<p>88 rows × 4 columns</p>\n",
       "</div>"
      ],
      "text/plain": [
       "        Country Erect length Body­size Percentage of height\n",
       "0       Ecuador     17.61 cm    1.67 m              10.54 %\n",
       "1      Cameroon     16.67 cm    1.71 m               9.75 %\n",
       "2       Bolivia     16.51 cm    1.68 m               9.84 %\n",
       "3         Sudan     16.47 cm    1.71 m               9.63 %\n",
       "4         Haiti     16.01 cm    1.72 m               9.32 %\n",
       "..          ...          ...       ...                  ...\n",
       "83    Hong Kong     11.19 cm    1.74 m               6.42 %\n",
       "84    Sri Lanka     10.89 cm    1.67 m               6.50 %\n",
       "85  Philippines     10.85 cm    1.65 m               6.59 %\n",
       "86        Burma     10.70 cm    1.66 m               6.45 %\n",
       "87     Cambodia     10.04 cm    1.65 m               6.09 %\n",
       "\n",
       "[88 rows x 4 columns]"
      ]
     },
     "execution_count": 11,
     "metadata": {},
     "output_type": "execute_result"
    }
   ],
   "source": [
    "df"
   ]
  },
  {
   "cell_type": "code",
   "execution_count": 12,
   "id": "cbd02578",
   "metadata": {
    "ExecuteTime": {
     "end_time": "2022-04-22T16:50:50.613361Z",
     "start_time": "2022-04-22T16:50:50.594341Z"
    },
    "hidden": true
   },
   "outputs": [
    {
     "data": {
      "text/plain": [
       "Index(['Country', 'Erect length', 'Body­size', 'Percentage of height'], dtype='object')"
      ]
     },
     "execution_count": 12,
     "metadata": {},
     "output_type": "execute_result"
    }
   ],
   "source": [
    "df.columns"
   ]
  },
  {
   "cell_type": "code",
   "execution_count": 14,
   "id": "50cedd4d",
   "metadata": {
    "ExecuteTime": {
     "end_time": "2022-04-22T16:51:32.273296Z",
     "start_time": "2022-04-22T16:51:32.254304Z"
    },
    "hidden": true
   },
   "outputs": [
    {
     "data": {
      "text/html": [
       "<div>\n",
       "<style scoped>\n",
       "    .dataframe tbody tr th:only-of-type {\n",
       "        vertical-align: middle;\n",
       "    }\n",
       "\n",
       "    .dataframe tbody tr th {\n",
       "        vertical-align: top;\n",
       "    }\n",
       "\n",
       "    .dataframe thead th {\n",
       "        text-align: right;\n",
       "    }\n",
       "</style>\n",
       "<table border=\"1\" class=\"dataframe\">\n",
       "  <thead>\n",
       "    <tr style=\"text-align: right;\">\n",
       "      <th></th>\n",
       "      <th>Country</th>\n",
       "      <th>Erect length</th>\n",
       "      <th>Body­size</th>\n",
       "      <th>Percentage of height</th>\n",
       "      <th>Penis_Size</th>\n",
       "    </tr>\n",
       "  </thead>\n",
       "  <tbody>\n",
       "    <tr>\n",
       "      <th>0</th>\n",
       "      <td>Ecuador</td>\n",
       "      <td>17.61 cm</td>\n",
       "      <td>1.67 m</td>\n",
       "      <td>10.54 %</td>\n",
       "      <td>17.61</td>\n",
       "    </tr>\n",
       "    <tr>\n",
       "      <th>1</th>\n",
       "      <td>Cameroon</td>\n",
       "      <td>16.67 cm</td>\n",
       "      <td>1.71 m</td>\n",
       "      <td>9.75 %</td>\n",
       "      <td>16.67</td>\n",
       "    </tr>\n",
       "    <tr>\n",
       "      <th>2</th>\n",
       "      <td>Bolivia</td>\n",
       "      <td>16.51 cm</td>\n",
       "      <td>1.68 m</td>\n",
       "      <td>9.84 %</td>\n",
       "      <td>16.51</td>\n",
       "    </tr>\n",
       "    <tr>\n",
       "      <th>3</th>\n",
       "      <td>Sudan</td>\n",
       "      <td>16.47 cm</td>\n",
       "      <td>1.71 m</td>\n",
       "      <td>9.63 %</td>\n",
       "      <td>16.47</td>\n",
       "    </tr>\n",
       "    <tr>\n",
       "      <th>4</th>\n",
       "      <td>Haiti</td>\n",
       "      <td>16.01 cm</td>\n",
       "      <td>1.72 m</td>\n",
       "      <td>9.32 %</td>\n",
       "      <td>16.01</td>\n",
       "    </tr>\n",
       "    <tr>\n",
       "      <th>...</th>\n",
       "      <td>...</td>\n",
       "      <td>...</td>\n",
       "      <td>...</td>\n",
       "      <td>...</td>\n",
       "      <td>...</td>\n",
       "    </tr>\n",
       "    <tr>\n",
       "      <th>83</th>\n",
       "      <td>Hong Kong</td>\n",
       "      <td>11.19 cm</td>\n",
       "      <td>1.74 m</td>\n",
       "      <td>6.42 %</td>\n",
       "      <td>11.19</td>\n",
       "    </tr>\n",
       "    <tr>\n",
       "      <th>84</th>\n",
       "      <td>Sri Lanka</td>\n",
       "      <td>10.89 cm</td>\n",
       "      <td>1.67 m</td>\n",
       "      <td>6.50 %</td>\n",
       "      <td>10.89</td>\n",
       "    </tr>\n",
       "    <tr>\n",
       "      <th>85</th>\n",
       "      <td>Philippines</td>\n",
       "      <td>10.85 cm</td>\n",
       "      <td>1.65 m</td>\n",
       "      <td>6.59 %</td>\n",
       "      <td>10.85</td>\n",
       "    </tr>\n",
       "    <tr>\n",
       "      <th>86</th>\n",
       "      <td>Burma</td>\n",
       "      <td>10.70 cm</td>\n",
       "      <td>1.66 m</td>\n",
       "      <td>6.45 %</td>\n",
       "      <td>10.70</td>\n",
       "    </tr>\n",
       "    <tr>\n",
       "      <th>87</th>\n",
       "      <td>Cambodia</td>\n",
       "      <td>10.04 cm</td>\n",
       "      <td>1.65 m</td>\n",
       "      <td>6.09 %</td>\n",
       "      <td>10.04</td>\n",
       "    </tr>\n",
       "  </tbody>\n",
       "</table>\n",
       "<p>88 rows × 5 columns</p>\n",
       "</div>"
      ],
      "text/plain": [
       "        Country Erect length Body­size Percentage of height  Penis_Size\n",
       "0       Ecuador     17.61 cm    1.67 m              10.54 %       17.61\n",
       "1      Cameroon     16.67 cm    1.71 m               9.75 %       16.67\n",
       "2       Bolivia     16.51 cm    1.68 m               9.84 %       16.51\n",
       "3         Sudan     16.47 cm    1.71 m               9.63 %       16.47\n",
       "4         Haiti     16.01 cm    1.72 m               9.32 %       16.01\n",
       "..          ...          ...       ...                  ...         ...\n",
       "83    Hong Kong     11.19 cm    1.74 m               6.42 %       11.19\n",
       "84    Sri Lanka     10.89 cm    1.67 m               6.50 %       10.89\n",
       "85  Philippines     10.85 cm    1.65 m               6.59 %       10.85\n",
       "86        Burma     10.70 cm    1.66 m               6.45 %       10.70\n",
       "87     Cambodia     10.04 cm    1.65 m               6.09 %       10.04\n",
       "\n",
       "[88 rows x 5 columns]"
      ]
     },
     "execution_count": 14,
     "metadata": {},
     "output_type": "execute_result"
    }
   ],
   "source": [
    "df"
   ]
  },
  {
   "cell_type": "code",
   "execution_count": 18,
   "id": "bbd1c722",
   "metadata": {
    "ExecuteTime": {
     "end_time": "2022-04-22T16:54:07.693300Z",
     "start_time": "2022-04-22T16:54:07.687290Z"
    },
    "hidden": true
   },
   "outputs": [
    {
     "data": {
      "text/plain": [
       "Index(['Country', 'Erect length', 'Body­size', 'Percentage of height'], dtype='object')"
      ]
     },
     "execution_count": 18,
     "metadata": {},
     "output_type": "execute_result"
    }
   ],
   "source": [
    "df.columns"
   ]
  },
  {
   "cell_type": "code",
   "execution_count": 21,
   "id": "ad751436",
   "metadata": {
    "ExecuteTime": {
     "end_time": "2022-04-22T16:55:10.113989Z",
     "start_time": "2022-04-22T16:55:10.094996Z"
    },
    "hidden": true
   },
   "outputs": [],
   "source": [
    "df['Penis_Size'] = df['Erect length'].str.replace('cm','').astype(float)\n",
    "df['Body_Size'] = df['Body­size'].str.replace('m','').astype(float)*100"
   ]
  },
  {
   "cell_type": "code",
   "execution_count": 27,
   "id": "9b445127",
   "metadata": {
    "ExecuteTime": {
     "end_time": "2022-04-22T16:56:20.745629Z",
     "start_time": "2022-04-22T16:56:20.734634Z"
    },
    "hidden": true
   },
   "outputs": [],
   "source": [
    "df['Penis2Body'] = (df['Penis_Size'] / df['Body_Size']*100).round(2)"
   ]
  },
  {
   "cell_type": "code",
   "execution_count": 28,
   "id": "96e0219d",
   "metadata": {
    "ExecuteTime": {
     "end_time": "2022-04-22T16:56:21.235982Z",
     "start_time": "2022-04-22T16:56:21.209991Z"
    },
    "hidden": true
   },
   "outputs": [
    {
     "data": {
      "text/html": [
       "<div>\n",
       "<style scoped>\n",
       "    .dataframe tbody tr th:only-of-type {\n",
       "        vertical-align: middle;\n",
       "    }\n",
       "\n",
       "    .dataframe tbody tr th {\n",
       "        vertical-align: top;\n",
       "    }\n",
       "\n",
       "    .dataframe thead th {\n",
       "        text-align: right;\n",
       "    }\n",
       "</style>\n",
       "<table border=\"1\" class=\"dataframe\">\n",
       "  <thead>\n",
       "    <tr style=\"text-align: right;\">\n",
       "      <th></th>\n",
       "      <th>Country</th>\n",
       "      <th>Erect length</th>\n",
       "      <th>Body­size</th>\n",
       "      <th>Percentage of height</th>\n",
       "      <th>Penis_Size</th>\n",
       "      <th>Body_Size</th>\n",
       "      <th>Penis2Body</th>\n",
       "    </tr>\n",
       "  </thead>\n",
       "  <tbody>\n",
       "    <tr>\n",
       "      <th>0</th>\n",
       "      <td>Ecuador</td>\n",
       "      <td>17.61 cm</td>\n",
       "      <td>1.67 m</td>\n",
       "      <td>10.54 %</td>\n",
       "      <td>17.61</td>\n",
       "      <td>167.0</td>\n",
       "      <td>10.54</td>\n",
       "    </tr>\n",
       "    <tr>\n",
       "      <th>1</th>\n",
       "      <td>Cameroon</td>\n",
       "      <td>16.67 cm</td>\n",
       "      <td>1.71 m</td>\n",
       "      <td>9.75 %</td>\n",
       "      <td>16.67</td>\n",
       "      <td>171.0</td>\n",
       "      <td>9.75</td>\n",
       "    </tr>\n",
       "    <tr>\n",
       "      <th>2</th>\n",
       "      <td>Bolivia</td>\n",
       "      <td>16.51 cm</td>\n",
       "      <td>1.68 m</td>\n",
       "      <td>9.84 %</td>\n",
       "      <td>16.51</td>\n",
       "      <td>168.0</td>\n",
       "      <td>9.83</td>\n",
       "    </tr>\n",
       "    <tr>\n",
       "      <th>3</th>\n",
       "      <td>Sudan</td>\n",
       "      <td>16.47 cm</td>\n",
       "      <td>1.71 m</td>\n",
       "      <td>9.63 %</td>\n",
       "      <td>16.47</td>\n",
       "      <td>171.0</td>\n",
       "      <td>9.63</td>\n",
       "    </tr>\n",
       "    <tr>\n",
       "      <th>4</th>\n",
       "      <td>Haiti</td>\n",
       "      <td>16.01 cm</td>\n",
       "      <td>1.72 m</td>\n",
       "      <td>9.32 %</td>\n",
       "      <td>16.01</td>\n",
       "      <td>172.0</td>\n",
       "      <td>9.31</td>\n",
       "    </tr>\n",
       "    <tr>\n",
       "      <th>...</th>\n",
       "      <td>...</td>\n",
       "      <td>...</td>\n",
       "      <td>...</td>\n",
       "      <td>...</td>\n",
       "      <td>...</td>\n",
       "      <td>...</td>\n",
       "      <td>...</td>\n",
       "    </tr>\n",
       "    <tr>\n",
       "      <th>83</th>\n",
       "      <td>Hong Kong</td>\n",
       "      <td>11.19 cm</td>\n",
       "      <td>1.74 m</td>\n",
       "      <td>6.42 %</td>\n",
       "      <td>11.19</td>\n",
       "      <td>174.0</td>\n",
       "      <td>6.43</td>\n",
       "    </tr>\n",
       "    <tr>\n",
       "      <th>84</th>\n",
       "      <td>Sri Lanka</td>\n",
       "      <td>10.89 cm</td>\n",
       "      <td>1.67 m</td>\n",
       "      <td>6.50 %</td>\n",
       "      <td>10.89</td>\n",
       "      <td>167.0</td>\n",
       "      <td>6.52</td>\n",
       "    </tr>\n",
       "    <tr>\n",
       "      <th>85</th>\n",
       "      <td>Philippines</td>\n",
       "      <td>10.85 cm</td>\n",
       "      <td>1.65 m</td>\n",
       "      <td>6.59 %</td>\n",
       "      <td>10.85</td>\n",
       "      <td>165.0</td>\n",
       "      <td>6.58</td>\n",
       "    </tr>\n",
       "    <tr>\n",
       "      <th>86</th>\n",
       "      <td>Burma</td>\n",
       "      <td>10.70 cm</td>\n",
       "      <td>1.66 m</td>\n",
       "      <td>6.45 %</td>\n",
       "      <td>10.70</td>\n",
       "      <td>166.0</td>\n",
       "      <td>6.45</td>\n",
       "    </tr>\n",
       "    <tr>\n",
       "      <th>87</th>\n",
       "      <td>Cambodia</td>\n",
       "      <td>10.04 cm</td>\n",
       "      <td>1.65 m</td>\n",
       "      <td>6.09 %</td>\n",
       "      <td>10.04</td>\n",
       "      <td>165.0</td>\n",
       "      <td>6.08</td>\n",
       "    </tr>\n",
       "  </tbody>\n",
       "</table>\n",
       "<p>88 rows × 7 columns</p>\n",
       "</div>"
      ],
      "text/plain": [
       "        Country Erect length Body­size Percentage of height  Penis_Size  \\\n",
       "0       Ecuador     17.61 cm    1.67 m              10.54 %       17.61   \n",
       "1      Cameroon     16.67 cm    1.71 m               9.75 %       16.67   \n",
       "2       Bolivia     16.51 cm    1.68 m               9.84 %       16.51   \n",
       "3         Sudan     16.47 cm    1.71 m               9.63 %       16.47   \n",
       "4         Haiti     16.01 cm    1.72 m               9.32 %       16.01   \n",
       "..          ...          ...       ...                  ...         ...   \n",
       "83    Hong Kong     11.19 cm    1.74 m               6.42 %       11.19   \n",
       "84    Sri Lanka     10.89 cm    1.67 m               6.50 %       10.89   \n",
       "85  Philippines     10.85 cm    1.65 m               6.59 %       10.85   \n",
       "86        Burma     10.70 cm    1.66 m               6.45 %       10.70   \n",
       "87     Cambodia     10.04 cm    1.65 m               6.09 %       10.04   \n",
       "\n",
       "    Body_Size  Penis2Body  \n",
       "0       167.0       10.54  \n",
       "1       171.0        9.75  \n",
       "2       168.0        9.83  \n",
       "3       171.0        9.63  \n",
       "4       172.0        9.31  \n",
       "..        ...         ...  \n",
       "83      174.0        6.43  \n",
       "84      167.0        6.52  \n",
       "85      165.0        6.58  \n",
       "86      166.0        6.45  \n",
       "87      165.0        6.08  \n",
       "\n",
       "[88 rows x 7 columns]"
      ]
     },
     "execution_count": 28,
     "metadata": {},
     "output_type": "execute_result"
    }
   ],
   "source": [
    "df"
   ]
  },
  {
   "cell_type": "markdown",
   "id": "0f5c49e9",
   "metadata": {
    "heading_collapsed": true
   },
   "source": [
    "# Graphs & Analytics"
   ]
  },
  {
   "cell_type": "code",
   "execution_count": 30,
   "id": "8b35d5f2",
   "metadata": {
    "ExecuteTime": {
     "end_time": "2022-04-22T17:07:42.630864Z",
     "start_time": "2022-04-22T17:07:42.606857Z"
    },
    "hidden": true
   },
   "outputs": [
    {
     "data": {
      "text/html": [
       "<div>\n",
       "<style scoped>\n",
       "    .dataframe tbody tr th:only-of-type {\n",
       "        vertical-align: middle;\n",
       "    }\n",
       "\n",
       "    .dataframe tbody tr th {\n",
       "        vertical-align: top;\n",
       "    }\n",
       "\n",
       "    .dataframe thead th {\n",
       "        text-align: right;\n",
       "    }\n",
       "</style>\n",
       "<table border=\"1\" class=\"dataframe\">\n",
       "  <thead>\n",
       "    <tr style=\"text-align: right;\">\n",
       "      <th></th>\n",
       "      <th>Country</th>\n",
       "      <th>Erect length</th>\n",
       "      <th>Body­size</th>\n",
       "      <th>Percentage of height</th>\n",
       "      <th>Penis_Size</th>\n",
       "      <th>Body_Size</th>\n",
       "      <th>Penis2Body</th>\n",
       "    </tr>\n",
       "  </thead>\n",
       "  <tbody>\n",
       "    <tr>\n",
       "      <th>0</th>\n",
       "      <td>Ecuador</td>\n",
       "      <td>17.61 cm</td>\n",
       "      <td>1.67 m</td>\n",
       "      <td>10.54 %</td>\n",
       "      <td>17.61</td>\n",
       "      <td>167.0</td>\n",
       "      <td>10.54</td>\n",
       "    </tr>\n",
       "    <tr>\n",
       "      <th>1</th>\n",
       "      <td>Cameroon</td>\n",
       "      <td>16.67 cm</td>\n",
       "      <td>1.71 m</td>\n",
       "      <td>9.75 %</td>\n",
       "      <td>16.67</td>\n",
       "      <td>171.0</td>\n",
       "      <td>9.75</td>\n",
       "    </tr>\n",
       "    <tr>\n",
       "      <th>2</th>\n",
       "      <td>Bolivia</td>\n",
       "      <td>16.51 cm</td>\n",
       "      <td>1.68 m</td>\n",
       "      <td>9.84 %</td>\n",
       "      <td>16.51</td>\n",
       "      <td>168.0</td>\n",
       "      <td>9.83</td>\n",
       "    </tr>\n",
       "    <tr>\n",
       "      <th>3</th>\n",
       "      <td>Sudan</td>\n",
       "      <td>16.47 cm</td>\n",
       "      <td>1.71 m</td>\n",
       "      <td>9.63 %</td>\n",
       "      <td>16.47</td>\n",
       "      <td>171.0</td>\n",
       "      <td>9.63</td>\n",
       "    </tr>\n",
       "    <tr>\n",
       "      <th>4</th>\n",
       "      <td>Haiti</td>\n",
       "      <td>16.01 cm</td>\n",
       "      <td>1.72 m</td>\n",
       "      <td>9.32 %</td>\n",
       "      <td>16.01</td>\n",
       "      <td>172.0</td>\n",
       "      <td>9.31</td>\n",
       "    </tr>\n",
       "    <tr>\n",
       "      <th>...</th>\n",
       "      <td>...</td>\n",
       "      <td>...</td>\n",
       "      <td>...</td>\n",
       "      <td>...</td>\n",
       "      <td>...</td>\n",
       "      <td>...</td>\n",
       "      <td>...</td>\n",
       "    </tr>\n",
       "    <tr>\n",
       "      <th>83</th>\n",
       "      <td>Hong Kong</td>\n",
       "      <td>11.19 cm</td>\n",
       "      <td>1.74 m</td>\n",
       "      <td>6.42 %</td>\n",
       "      <td>11.19</td>\n",
       "      <td>174.0</td>\n",
       "      <td>6.43</td>\n",
       "    </tr>\n",
       "    <tr>\n",
       "      <th>84</th>\n",
       "      <td>Sri Lanka</td>\n",
       "      <td>10.89 cm</td>\n",
       "      <td>1.67 m</td>\n",
       "      <td>6.50 %</td>\n",
       "      <td>10.89</td>\n",
       "      <td>167.0</td>\n",
       "      <td>6.52</td>\n",
       "    </tr>\n",
       "    <tr>\n",
       "      <th>85</th>\n",
       "      <td>Philippines</td>\n",
       "      <td>10.85 cm</td>\n",
       "      <td>1.65 m</td>\n",
       "      <td>6.59 %</td>\n",
       "      <td>10.85</td>\n",
       "      <td>165.0</td>\n",
       "      <td>6.58</td>\n",
       "    </tr>\n",
       "    <tr>\n",
       "      <th>86</th>\n",
       "      <td>Burma</td>\n",
       "      <td>10.70 cm</td>\n",
       "      <td>1.66 m</td>\n",
       "      <td>6.45 %</td>\n",
       "      <td>10.70</td>\n",
       "      <td>166.0</td>\n",
       "      <td>6.45</td>\n",
       "    </tr>\n",
       "    <tr>\n",
       "      <th>87</th>\n",
       "      <td>Cambodia</td>\n",
       "      <td>10.04 cm</td>\n",
       "      <td>1.65 m</td>\n",
       "      <td>6.09 %</td>\n",
       "      <td>10.04</td>\n",
       "      <td>165.0</td>\n",
       "      <td>6.08</td>\n",
       "    </tr>\n",
       "  </tbody>\n",
       "</table>\n",
       "<p>88 rows × 7 columns</p>\n",
       "</div>"
      ],
      "text/plain": [
       "        Country Erect length Body­size Percentage of height  Penis_Size  \\\n",
       "0       Ecuador     17.61 cm    1.67 m              10.54 %       17.61   \n",
       "1      Cameroon     16.67 cm    1.71 m               9.75 %       16.67   \n",
       "2       Bolivia     16.51 cm    1.68 m               9.84 %       16.51   \n",
       "3         Sudan     16.47 cm    1.71 m               9.63 %       16.47   \n",
       "4         Haiti     16.01 cm    1.72 m               9.32 %       16.01   \n",
       "..          ...          ...       ...                  ...         ...   \n",
       "83    Hong Kong     11.19 cm    1.74 m               6.42 %       11.19   \n",
       "84    Sri Lanka     10.89 cm    1.67 m               6.50 %       10.89   \n",
       "85  Philippines     10.85 cm    1.65 m               6.59 %       10.85   \n",
       "86        Burma     10.70 cm    1.66 m               6.45 %       10.70   \n",
       "87     Cambodia     10.04 cm    1.65 m               6.09 %       10.04   \n",
       "\n",
       "    Body_Size  Penis2Body  \n",
       "0       167.0       10.54  \n",
       "1       171.0        9.75  \n",
       "2       168.0        9.83  \n",
       "3       171.0        9.63  \n",
       "4       172.0        9.31  \n",
       "..        ...         ...  \n",
       "83      174.0        6.43  \n",
       "84      167.0        6.52  \n",
       "85      165.0        6.58  \n",
       "86      166.0        6.45  \n",
       "87      165.0        6.08  \n",
       "\n",
       "[88 rows x 7 columns]"
      ]
     },
     "execution_count": 30,
     "metadata": {},
     "output_type": "execute_result"
    }
   ],
   "source": [
    "df"
   ]
  },
  {
   "cell_type": "code",
   "execution_count": 32,
   "id": "2c88b1c4",
   "metadata": {
    "ExecuteTime": {
     "end_time": "2022-04-22T17:08:30.806561Z",
     "start_time": "2022-04-22T17:08:30.782567Z"
    },
    "hidden": true
   },
   "outputs": [
    {
     "data": {
      "text/html": [
       "<div>\n",
       "<style scoped>\n",
       "    .dataframe tbody tr th:only-of-type {\n",
       "        vertical-align: middle;\n",
       "    }\n",
       "\n",
       "    .dataframe tbody tr th {\n",
       "        vertical-align: top;\n",
       "    }\n",
       "\n",
       "    .dataframe thead th {\n",
       "        text-align: right;\n",
       "    }\n",
       "</style>\n",
       "<table border=\"1\" class=\"dataframe\">\n",
       "  <thead>\n",
       "    <tr style=\"text-align: right;\">\n",
       "      <th></th>\n",
       "      <th>Penis_Size</th>\n",
       "      <th>Body_Size</th>\n",
       "      <th>Penis2Body</th>\n",
       "    </tr>\n",
       "  </thead>\n",
       "  <tbody>\n",
       "    <tr>\n",
       "      <th>count</th>\n",
       "      <td>88.000000</td>\n",
       "      <td>88.000000</td>\n",
       "      <td>88.000000</td>\n",
       "    </tr>\n",
       "    <tr>\n",
       "      <th>mean</th>\n",
       "      <td>14.082727</td>\n",
       "      <td>173.420455</td>\n",
       "      <td>8.121023</td>\n",
       "    </tr>\n",
       "    <tr>\n",
       "      <th>std</th>\n",
       "      <td>1.558572</td>\n",
       "      <td>4.779558</td>\n",
       "      <td>0.890286</td>\n",
       "    </tr>\n",
       "    <tr>\n",
       "      <th>min</th>\n",
       "      <td>10.040000</td>\n",
       "      <td>163.000000</td>\n",
       "      <td>6.080000</td>\n",
       "    </tr>\n",
       "    <tr>\n",
       "      <th>25%</th>\n",
       "      <td>13.155000</td>\n",
       "      <td>170.000000</td>\n",
       "      <td>7.517500</td>\n",
       "    </tr>\n",
       "    <tr>\n",
       "      <th>50%</th>\n",
       "      <td>14.365000</td>\n",
       "      <td>173.500000</td>\n",
       "      <td>8.155000</td>\n",
       "    </tr>\n",
       "    <tr>\n",
       "      <th>75%</th>\n",
       "      <td>15.220000</td>\n",
       "      <td>177.250000</td>\n",
       "      <td>8.790000</td>\n",
       "    </tr>\n",
       "    <tr>\n",
       "      <th>max</th>\n",
       "      <td>17.610000</td>\n",
       "      <td>184.000000</td>\n",
       "      <td>10.540000</td>\n",
       "    </tr>\n",
       "  </tbody>\n",
       "</table>\n",
       "</div>"
      ],
      "text/plain": [
       "       Penis_Size   Body_Size  Penis2Body\n",
       "count   88.000000   88.000000   88.000000\n",
       "mean    14.082727  173.420455    8.121023\n",
       "std      1.558572    4.779558    0.890286\n",
       "min     10.040000  163.000000    6.080000\n",
       "25%     13.155000  170.000000    7.517500\n",
       "50%     14.365000  173.500000    8.155000\n",
       "75%     15.220000  177.250000    8.790000\n",
       "max     17.610000  184.000000   10.540000"
      ]
     },
     "execution_count": 32,
     "metadata": {},
     "output_type": "execute_result"
    }
   ],
   "source": [
    "df.describe()"
   ]
  },
  {
   "cell_type": "code",
   "execution_count": 37,
   "id": "067eb8ae",
   "metadata": {
    "ExecuteTime": {
     "end_time": "2022-04-22T17:12:03.319184Z",
     "start_time": "2022-04-22T17:12:03.287194Z"
    },
    "hidden": true
   },
   "outputs": [
    {
     "data": {
      "application/vnd.plotly.v1+json": {
       "config": {
        "plotlyServerURL": "https://plot.ly"
       },
       "data": [
        {
         "autobinx": false,
         "histnorm": "probability density",
         "legendgroup": "Penis_Size",
         "marker": {
          "color": "rgb(31, 119, 180)"
         },
         "name": "Penis_Size",
         "opacity": 0.7,
         "type": "histogram",
         "x": [
          17.61,
          16.67,
          16.51,
          16.47,
          16.01,
          15.89,
          15.88,
          15.87,
          15.87,
          15.78,
          15.74,
          15.73,
          15.71,
          15.69,
          15.68,
          15.61,
          15.53,
          15.39,
          15.35,
          15.33,
          15.26,
          15.22,
          15.22,
          15.08,
          15.02,
          15.01,
          15,
          14.99,
          14.92,
          14.88,
          14.88,
          14.88,
          14.87,
          14.77,
          14.77,
          14.69,
          14.63,
          14.59,
          14.53,
          14.52,
          14.49,
          14.48,
          14.46,
          14.38,
          14.35,
          14.34,
          14.29,
          14.19,
          14.05,
          13.99,
          13.98,
          13.97,
          13.85,
          13.77,
          13.74,
          13.72,
          13.71,
          13.69,
          13.6,
          13.58,
          13.56,
          13.48,
          13.33,
          13.3,
          13.21,
          13.16,
          13.14,
          13.13,
          13.07,
          12.99,
          12.78,
          12.77,
          12.73,
          12.72,
          12.6,
          12.2,
          11.95,
          11.67,
          11.53,
          11.49,
          11.47,
          11.45,
          11.2,
          11.19,
          10.89,
          10.85,
          10.7,
          10.04
         ],
         "xaxis": "x",
         "xbins": {
          "end": 17.61,
          "size": 0.3,
          "start": 10.04
         },
         "yaxis": "y"
        },
        {
         "legendgroup": "Penis_Size",
         "marker": {
          "color": "rgb(31, 119, 180)"
         },
         "mode": "lines",
         "name": "Penis_Size",
         "showlegend": false,
         "type": "scatter",
         "x": [
          10.04,
          10.05514,
          10.070279999999999,
          10.08542,
          10.10056,
          10.115699999999999,
          10.13084,
          10.14598,
          10.161119999999999,
          10.17626,
          10.1914,
          10.206539999999999,
          10.22168,
          10.23682,
          10.251959999999999,
          10.2671,
          10.28224,
          10.297379999999999,
          10.31252,
          10.32766,
          10.342799999999999,
          10.35794,
          10.37308,
          10.388219999999999,
          10.40336,
          10.4185,
          10.433639999999999,
          10.44878,
          10.46392,
          10.479059999999999,
          10.4942,
          10.50934,
          10.524479999999999,
          10.53962,
          10.55476,
          10.569899999999999,
          10.58504,
          10.60018,
          10.615319999999999,
          10.63046,
          10.6456,
          10.660739999999999,
          10.67588,
          10.691019999999998,
          10.706159999999999,
          10.7213,
          10.73644,
          10.751579999999999,
          10.76672,
          10.781859999999998,
          10.796999999999999,
          10.81214,
          10.827279999999998,
          10.842419999999999,
          10.85756,
          10.872699999999998,
          10.887839999999999,
          10.90298,
          10.918119999999998,
          10.933259999999999,
          10.9484,
          10.963539999999998,
          10.978679999999999,
          10.99382,
          11.008959999999998,
          11.024099999999999,
          11.03924,
          11.054379999999998,
          11.069519999999999,
          11.08466,
          11.099799999999998,
          11.114939999999999,
          11.13008,
          11.145219999999998,
          11.160359999999999,
          11.1755,
          11.190639999999998,
          11.205779999999999,
          11.22092,
          11.236059999999998,
          11.251199999999999,
          11.26634,
          11.281479999999998,
          11.296619999999999,
          11.31176,
          11.326899999999998,
          11.342039999999999,
          11.35718,
          11.372319999999998,
          11.387459999999999,
          11.4026,
          11.417739999999998,
          11.432879999999999,
          11.44802,
          11.463159999999998,
          11.478299999999999,
          11.49344,
          11.508579999999998,
          11.523719999999999,
          11.53886,
          11.553999999999998,
          11.569139999999999,
          11.58428,
          11.599419999999999,
          11.614559999999999,
          11.6297,
          11.644839999999999,
          11.65998,
          11.67512,
          11.690259999999999,
          11.7054,
          11.72054,
          11.735679999999999,
          11.75082,
          11.76596,
          11.781099999999999,
          11.79624,
          11.81138,
          11.826519999999999,
          11.84166,
          11.8568,
          11.871939999999999,
          11.88708,
          11.90222,
          11.917359999999999,
          11.9325,
          11.94764,
          11.962779999999999,
          11.97792,
          11.99306,
          12.008199999999999,
          12.02334,
          12.03848,
          12.053619999999999,
          12.06876,
          12.0839,
          12.099039999999999,
          12.11418,
          12.12932,
          12.144459999999999,
          12.1596,
          12.17474,
          12.189879999999999,
          12.20502,
          12.22016,
          12.235299999999999,
          12.25044,
          12.26558,
          12.280719999999999,
          12.29586,
          12.311,
          12.326139999999999,
          12.34128,
          12.35642,
          12.371559999999999,
          12.3867,
          12.40184,
          12.416979999999999,
          12.43212,
          12.44726,
          12.462399999999999,
          12.47754,
          12.49268,
          12.507819999999999,
          12.52296,
          12.5381,
          12.553239999999999,
          12.56838,
          12.58352,
          12.598659999999999,
          12.6138,
          12.62894,
          12.644079999999999,
          12.65922,
          12.67436,
          12.689499999999999,
          12.70464,
          12.71978,
          12.734919999999999,
          12.75006,
          12.7652,
          12.780339999999999,
          12.79548,
          12.81062,
          12.825759999999999,
          12.8409,
          12.85604,
          12.871179999999999,
          12.88632,
          12.90146,
          12.916599999999999,
          12.93174,
          12.94688,
          12.962019999999999,
          12.97716,
          12.9923,
          13.007439999999999,
          13.02258,
          13.03772,
          13.052859999999999,
          13.068,
          13.08314,
          13.098279999999999,
          13.11342,
          13.128559999999998,
          13.143699999999999,
          13.15884,
          13.17398,
          13.189119999999999,
          13.20426,
          13.2194,
          13.234539999999999,
          13.24968,
          13.26482,
          13.279959999999999,
          13.2951,
          13.31024,
          13.32538,
          13.34052,
          13.35566,
          13.3708,
          13.38594,
          13.401079999999999,
          13.41622,
          13.43136,
          13.446499999999999,
          13.46164,
          13.47678,
          13.491919999999999,
          13.50706,
          13.5222,
          13.53734,
          13.55248,
          13.56762,
          13.58276,
          13.5979,
          13.613039999999998,
          13.62818,
          13.64332,
          13.65846,
          13.6736,
          13.68874,
          13.70388,
          13.719019999999999,
          13.73416,
          13.7493,
          13.764439999999999,
          13.77958,
          13.79472,
          13.809859999999999,
          13.825,
          13.84014,
          13.855279999999999,
          13.87042,
          13.885559999999998,
          13.9007,
          13.91584,
          13.930979999999998,
          13.94612,
          13.96126,
          13.976399999999998,
          13.991539999999999,
          14.00668,
          14.02182,
          14.036959999999999,
          14.0521,
          14.067239999999998,
          14.08238,
          14.09752,
          14.112659999999998,
          14.1278,
          14.14294,
          14.158079999999998,
          14.17322,
          14.18836,
          14.203499999999998,
          14.21864,
          14.23378,
          14.248919999999998,
          14.26406,
          14.2792,
          14.294339999999998,
          14.30948,
          14.32462,
          14.339759999999998,
          14.3549,
          14.37004,
          14.385179999999998,
          14.400319999999999,
          14.41546,
          14.430599999999998,
          14.445739999999999,
          14.46088,
          14.476019999999998,
          14.491159999999999,
          14.5063,
          14.521439999999998,
          14.536579999999999,
          14.55172,
          14.56686,
          14.581999999999999,
          14.59714,
          14.612279999999998,
          14.627419999999999,
          14.64256,
          14.657699999999998,
          14.672839999999999,
          14.68798,
          14.703119999999998,
          14.718259999999999,
          14.7334,
          14.748539999999998,
          14.763679999999999,
          14.77882,
          14.793959999999998,
          14.8091,
          14.82424,
          14.839379999999998,
          14.85452,
          14.86966,
          14.884799999999998,
          14.89994,
          14.91508,
          14.930219999999998,
          14.94536,
          14.9605,
          14.975639999999999,
          14.990779999999999,
          15.00592,
          15.021059999999999,
          15.0362,
          15.05134,
          15.066479999999999,
          15.08162,
          15.09676,
          15.111899999999999,
          15.12704,
          15.14218,
          15.157319999999999,
          15.17246,
          15.1876,
          15.202739999999999,
          15.21788,
          15.23302,
          15.248159999999999,
          15.2633,
          15.27844,
          15.293579999999999,
          15.30872,
          15.32386,
          15.338999999999999,
          15.35414,
          15.36928,
          15.384419999999999,
          15.39956,
          15.4147,
          15.429839999999999,
          15.44498,
          15.46012,
          15.475259999999999,
          15.4904,
          15.50554,
          15.520679999999999,
          15.535820000000001,
          15.55096,
          15.566099999999999,
          15.58124,
          15.59638,
          15.611519999999999,
          15.62666,
          15.6418,
          15.656939999999999,
          15.67208,
          15.68722,
          15.702359999999999,
          15.7175,
          15.73264,
          15.747779999999999,
          15.76292,
          15.77806,
          15.793199999999999,
          15.80834,
          15.82348,
          15.838619999999999,
          15.85376,
          15.8689,
          15.884039999999999,
          15.89918,
          15.91432,
          15.929459999999999,
          15.9446,
          15.95974,
          15.974879999999999,
          15.99002,
          16.00516,
          16.0203,
          16.03544,
          16.05058,
          16.06572,
          16.08086,
          16.096,
          16.11114,
          16.12628,
          16.14142,
          16.15656,
          16.171699999999998,
          16.18684,
          16.20198,
          16.217119999999998,
          16.23226,
          16.2474,
          16.26254,
          16.27768,
          16.29282,
          16.30796,
          16.3231,
          16.33824,
          16.35338,
          16.36852,
          16.38366,
          16.3988,
          16.41394,
          16.42908,
          16.44422,
          16.45936,
          16.4745,
          16.48964,
          16.50478,
          16.51992,
          16.53506,
          16.5502,
          16.56534,
          16.58048,
          16.59562,
          16.61076,
          16.6259,
          16.64104,
          16.65618,
          16.67132,
          16.68646,
          16.7016,
          16.71674,
          16.73188,
          16.74702,
          16.762159999999998,
          16.7773,
          16.79244,
          16.807579999999998,
          16.82272,
          16.83786,
          16.852999999999998,
          16.86814,
          16.88328,
          16.898419999999998,
          16.91356,
          16.9287,
          16.943839999999998,
          16.95898,
          16.97412,
          16.98926,
          17.0044,
          17.01954,
          17.03468,
          17.04982,
          17.06496,
          17.0801,
          17.09524,
          17.11038,
          17.12552,
          17.140659999999997,
          17.1558,
          17.17094,
          17.186079999999997,
          17.20122,
          17.21636,
          17.231499999999997,
          17.24664,
          17.26178,
          17.27692,
          17.29206,
          17.3072,
          17.32234,
          17.33748,
          17.352619999999998,
          17.36776,
          17.3829,
          17.398039999999998,
          17.41318,
          17.42832,
          17.443459999999998,
          17.4586,
          17.47374,
          17.488879999999998,
          17.50402,
          17.51916,
          17.534299999999998,
          17.54944,
          17.56458,
          17.57972,
          17.59486
         ],
         "xaxis": "x",
         "y": [
          0.022669791875497353,
          0.023225484924577475,
          0.023789741190086977,
          0.024362524014933478,
          0.024943787422994752,
          0.025533475739039996,
          0.026131523214929654,
          0.026737853663764376,
          0.027352380103692366,
          0.027975004413114866,
          0.028605616999054916,
          0.029244096480474362,
          0.02989030938833603,
          0.030544109884211825,
          0.03120533949923735,
          0.03187382689520499,
          0.032549387649568225,
          0.033231824066108785,
          0.03392092501298696,
          0.034616465789853834,
          0.03531820802566056,
          0.03602589960874608,
          0.03673927465072067,
          0.03745805348559685,
          0.03818194270554379,
          0.0389106352345552,
          0.03964381044123459,
          0.04038113429180483,
          0.04112225954434364,
          0.04186682598514056,
          0.042614460707956096,
          0.04336477843683936,
          0.0441173818930411,
          0.04487186220642155,
          0.0456277993716219,
          0.04638476274912762,
          0.04714231161120618,
          0.047899995732557515,
          0.048657356025365917,
          0.04941392521828674,
          0.050169228578750016,
          0.05092278467780698,
          0.05167410619658555,
          0.05242270077326602,
          0.0531680718893307,
          0.053909719793680456,
          0.0546471424630581,
          0.055379836597063276,
          0.05610729864588778,
          0.056829025868752645,
          0.05754451742088094,
          0.058253275466693816,
          0.058954806316780496,
          0.059648621586057986,
          0.06033423937040436,
          0.06101118543892805,
          0.061678994438918236,
          0.06233721111040883,
          0.06298539150718693,
          0.0636231042209828,
          0.06424993160548738,
          0.06486547099677088,
          0.0654693359266026,
          0.0660611573251162,
          0.06664058470921624,
          0.06720728735308204,
          0.0677609554370993,
          0.06830130117153599,
          0.06882805989127182,
          0.06934099111790214,
          0.06983987958555674,
          0.07032453622680584,
          0.07079479911507311,
          0.07125053436003362,
          0.07169163695254498,
          0.0721180315557459,
          0.07252967323905345,
          0.0729265481518994,
          0.07330867413417085,
          0.07367610126045535,
          0.07402891231533947,
          0.0743672231971682,
          0.07469118324784932,
          0.07500097550646626,
          0.07529681688465976,
          0.07557895826194594,
          0.07584768449935095,
          0.07610331436996993,
          0.07634620040529064,
          0.07657672865636576,
          0.07679531836916535,
          0.07700242157369878,
          0.07719852258675688,
          0.0773841374283907,
          0.07755981315251562,
          0.07772612709230133,
          0.07788368602128536,
          0.07803312523142243,
          0.07817510752956024,
          0.07831032215410529,
          0.07843948361391674,
          0.07856333045173494,
          0.07868262393471612,
          0.07879814667490415,
          0.07891070118272324,
          0.07902110835681941,
          0.07913020591381552,
          0.07923884676176951,
          0.07934789732134213,
          0.07945823579888243,
          0.07957075041582995,
          0.07968633759901024,
          0.07980590013656064,
          0.07993034530437186,
          0.08006058296805973,
          0.08019752366559726,
          0.08034207667583122,
          0.0804951480781884,
          0.0806576388089351,
          0.08083044271939607,
          0.08101444464155981,
          0.08121051846650316,
          0.0814195252410486,
          0.08164231128803456,
          0.0818797063555233,
          0.0821325218001965,
          0.08240154881009566,
          0.08268755667175344,
          0.08299129108663142,
          0.0833134725416311,
          0.08365479473828237,
          0.08401592308502975,
          0.08439749325684047,
          0.08480010982614554,
          0.08522434496890008,
          0.08567073724930631,
          0.08613979048649287,
          0.08663197270618155,
          0.08714771518009604,
          0.087687411555588,
          0.08825141707766512,
          0.08884004790530765,
          0.08945358052365876,
          0.09009225125337042,
          0.09075625585807223,
          0.09144574925062517,
          0.09216084529850983,
          0.09290161672838718,
          0.09366809512956431,
          0.09446027105579458,
          0.09527809422453644,
          0.09612147381251003,
          0.09699027884609493,
          0.09788433868483966,
          0.09880344359608179,
          0.09974734541841625,
          0.10071575831150072,
          0.10170835958945332,
          0.10272479063486581,
          0.10376465789024955,
          0.10482753392353264,
          0.10591295856403951,
          0.10702044010521879,
          0.1081494565702322,
          0.10929945703637485,
          0.11046986301417822,
          0.11166006987694234,
          0.11286944833634634,
          0.11409734595971861,
          0.11534308872448572,
          0.11660598260527767,
          0.11788531518913276,
          0.11918035731424491,
          0.12049036472768798,
          0.12181457975756606,
          0.12315223299508242,
          0.12450254498204875,
          0.12586472789941539,
          0.12723798725247984,
          0.12862152354849937,
          0.13001453396252757,
          0.13141621398739603,
          0.1328257590638715,
          0.13424236618713145,
          0.13566523548583184,
          0.13709357177017245,
          0.13852658604549822,
          0.13996349698812446,
          0.1414035323802215,
          0.14284593050074135,
          0.14428994146953247,
          0.14573482854194192,
          0.14717986935136385,
          0.14862435709735994,
          0.15006760167713604,
          0.1515089307583215,
          0.15294769079116508,
          0.15438324795842104,
          0.15581498906135802,
          0.15724232234049093,
          0.15866467822978786,
          0.16008151004326418,
          0.16149229459303616,
          0.1628965327380499,
          0.164293749862863,
          0.1656834962860016,
          0.16706534759756156,
          0.1684389049258698,
          0.16980379513316748,
          0.17115967094041298,
          0.17250621098144459,
          0.17384311978688605,
          0.17517012769830395,
          0.17648699071326976,
          0.17779349026211072,
          0.1790894329172657,
          0.18037465003629097,
          0.18164899733969928,
          0.1829123544249399,
          0.18416462421795363,
          0.18540573236387678,
          0.1866356265585856,
          0.1878542758229016,
          0.18906166972141392,
          0.19025781752798854,
          0.19144274734017058,
          0.1926165051448005,
          0.19377915383729646,
          0.19493077219717292,
          0.19607145382248176,
          0.19720130602598485,
          0.19832044869598198,
          0.19942901312482167,
          0.2005271408082414,
          0.20161498221877786,
          0.20269269555659242,
          0.20376044548114922,
          0.20481840182726868,
          0.2058667383091631,
          0.20690563121613267,
          0.2079352581036646,
          0.20895579648373647,
          0.20996742251817133,
          0.210970309718927,
          0.21196462765922996,
          0.21295054069947697,
          0.2139282067318313,
          0.21489777594742795,
          0.21585938963007778,
          0.21681317898032454,
          0.21775926397365716,
          0.21869775225660812,
          0.21962873808439143,
          0.22055230130363804,
          0.22146850638366747,
          0.2223774014996152,
          0.2232790176705866,
          0.2241733679558531,
          0.2250604467119343,
          0.225940228913216,
          0.22681266953856594,
          0.2276777030261773,
          0.2285352427986557,
          0.22938518086011964,
          0.23022738746683355,
          0.23106171087263117,
          0.23188797715011866,
          0.23270599008836373,
          0.23351553116749624,
          0.23431635961035144,
          0.23510821251099545,
          0.23589080503966392,
          0.2366638307233658,
          0.23742696180108472,
          0.23817984965222203,
          0.23892212529663956,
          0.23965339996435764,
          0.24037326573269094,
          0.24108129622833518,
          0.24177704739164482,
          0.24246005830009512,
          0.24312985204768994,
          0.2437859366768396,
          0.24442780615903636,
          0.24505494142045992,
          0.2456668114084737,
          0.24626287419481693,
          0.24684257811117696,
          0.24740536291269868,
          0.24795066096491689,
          0.24847789844952212,
          0.2489864965843341,
          0.24947587285283931,
          0.24994544223865342,
          0.25039461846030614,
          0.25082281520179617,
          0.2512294473344489,
          0.25161393212570493,
          0.25197569043060486,
          0.2523141478618741,
          0.2526287359346855,
          0.2529188931823716,
          0.2531840662395597,
          0.25342371088944177,
          0.2536372930721234,
          0.2538242898512671,
          0.2539841903365115,
          0.2541164965594328,
          0.25422072430111314,
          0.25429640386968183,
          0.25434308082649976,
          0.25436031665997844,
          0.2543476894063314,
          0.25430479421687563,
          0.25423124387181145,
          0.2541266692407153,
          0.25399071969028864,
          0.2538230634401872,
          0.25362338786805444,
          0.2533913997651408,
          0.25312682554415267,
          0.25282941140121895,
          0.25249892343408736,
          0.25213514771885776,
          0.2517378903477691,
          0.25130697743069164,
          0.25084225506314556,
          0.25034358926376765,
          0.24981086588424994,
          0.24924399049485224,
          0.24864288824861838,
          0.24800750372746783,
          0.24733780077331663,
          0.2466337623073575,
          0.24589539014057823,
          0.24512270477851597,
          0.24431574522314756,
          0.24347456877469537,
          0.2425992508359803,
          0.24168988472179323,
          0.24074658147557207,
          0.23976946969547522,
          0.2387586953717215,
          0.23771442173684595,
          0.23663682913026962,
          0.2355261148783436,
          0.23438249319075763,
          0.2332061950739439,
          0.23199746826183898,
          0.23075657716409573,
          0.22948380283156278,
          0.22817944293859188,
          0.22684381178146154,
          0.22547724029195096,
          0.22408007606485858,
          0.22265268339801336,
          0.2211954433431072,
          0.21970875376547214,
          0.21819302941072194,
          0.2166487019760087,
          0.21507622018348863,
          0.2134760498534487,
          0.2118486739744308,
          0.21019459276759705,
          0.20851432374251447,
          0.20680840174146892,
          0.20507737896941777,
          0.20332182500667734,
          0.20154232680145895,
          0.19973948863942614,
          0.19791393208750852,
          0.19606629590929997,
          0.1941972359494828,
          0.19230742498486084,
          0.19039755253973487,
          0.1884683246635241,
          0.18652046366874397,
          0.1845547078276432,
          0.18257181102603373,
          0.1805725423730839,
          0.17855768576608766,
          0.17652803940948197,
          0.17448441528764633,
          0.17242763859129073,
          0.17035854709750317,
          0.168277990503815,
          0.16618682971690318,
          0.16408593609682345,
          0.1619761906579463,
          0.15985848322800905,
          0.15773371156696833,
          0.15560278044757234,
          0.1534666006998025,
          0.15132608822155952,
          0.14918216295817324,
          0.14703574785349538,
          0.14488776777552348,
          0.14273914841965044,
          0.14059081519275987,
          0.13844369208153456,
          0.13629870050841397,
          0.13415675817871747,
          0.13201877792253294,
          0.12988566653497138,
          0.12775832361841927,
          0.12563764043042502,
          0.12352449874081192,
          0.12141976970157538,
          0.11932431273305216,
          0.11723897442978246,
          0.11516458748936446,
          0.1131019696674915,
          0.11105192276225319,
          0.10901523163059221,
          0.1069926632396928,
          0.1049849657558864,
          0.10299286767346952,
          0.10101707698566774,
          0.09905828039975818,
          0.09711714259816702,
          0.09519430554715948,
          0.09329038785451729,
          0.09140598417739092,
          0.08954166468130674,
          0.08769797455108863,
          0.08587543355424833,
          0.08407453565719678,
          0.08229574869442349,
          0.08053951409059372,
          0.0788062466353339,
          0.07709633431028808,
          0.07541013816785691,
          0.07374799226087268,
          0.07211020362231013,
          0.07049705229398578,
          0.06890879140307737,
          0.06734564728516848,
          0.06580781965241495,
          0.06429548180534034,
          0.06280878088667641,
          0.06134783817559183,
          0.05991274942059603,
          0.05850358520935027,
          0.05712039137357602,
          0.055763189427229735,
          0.05443197703608531,
          0.053126728516861545,
          0.05184739536402606,
          0.05059390680242109,
          0.04936617036386546,
          0.048164072485909926,
          0.04698747913095596,
          0.04583623642397622,
          0.04471017130711196,
          0.04360909220947555,
          0.042532789730518834,
          0.04148103733538061,
          0.04045359206068626,
          0.039450195229309,
          0.03847057317266198,
          0.0375144379591501,
          0.03658148812744437,
          0.035671409423312546,
          0.03478387553877681,
          0.03391854885242001,
          0.033075081169713506,
          0.03225311446227709,
          0.03145228160502519,
          0.030672207110195034,
          0.02991250785728545,
          0.029172793817966496,
          0.028452668775060846,
          0.02775173103470879,
          0.027069574130869863,
          0.026405787521331558,
          0.025759957274408433,
          0.025131666745544994,
          0.024520497243048323,
          0.023926028682183752,
          0.02334784022689325,
          0.02278551091839947,
          0.022238620289974878,
          0.02170674896716463,
          0.021189479252766836,
          0.020686395695883396,
          0.0201970856443686,
          0.01972113978001671,
          0.019258152635845235,
          0.018807723094847413,
          0.01836945486960536,
          0.017942956962178284,
          0.017527844103702152,
          0.01712373717316221,
          0.016730263594830916,
          0.016347057713892534,
          0.015973761149811024,
          0.015610023127034914,
          0.01525550078267278,
          0.014909859450814982,
          0.014572772923224547
         ],
         "yaxis": "y"
        },
        {
         "legendgroup": "Penis_Size",
         "marker": {
          "color": "rgb(31, 119, 180)",
          "symbol": "line-ns-open"
         },
         "mode": "markers",
         "name": "Penis_Size",
         "showlegend": false,
         "type": "scatter",
         "x": [
          17.61,
          16.67,
          16.51,
          16.47,
          16.01,
          15.89,
          15.88,
          15.87,
          15.87,
          15.78,
          15.74,
          15.73,
          15.71,
          15.69,
          15.68,
          15.61,
          15.53,
          15.39,
          15.35,
          15.33,
          15.26,
          15.22,
          15.22,
          15.08,
          15.02,
          15.01,
          15,
          14.99,
          14.92,
          14.88,
          14.88,
          14.88,
          14.87,
          14.77,
          14.77,
          14.69,
          14.63,
          14.59,
          14.53,
          14.52,
          14.49,
          14.48,
          14.46,
          14.38,
          14.35,
          14.34,
          14.29,
          14.19,
          14.05,
          13.99,
          13.98,
          13.97,
          13.85,
          13.77,
          13.74,
          13.72,
          13.71,
          13.69,
          13.6,
          13.58,
          13.56,
          13.48,
          13.33,
          13.3,
          13.21,
          13.16,
          13.14,
          13.13,
          13.07,
          12.99,
          12.78,
          12.77,
          12.73,
          12.72,
          12.6,
          12.2,
          11.95,
          11.67,
          11.53,
          11.49,
          11.47,
          11.45,
          11.2,
          11.19,
          10.89,
          10.85,
          10.7,
          10.04
         ],
         "xaxis": "x",
         "y": [
          "Penis_Size",
          "Penis_Size",
          "Penis_Size",
          "Penis_Size",
          "Penis_Size",
          "Penis_Size",
          "Penis_Size",
          "Penis_Size",
          "Penis_Size",
          "Penis_Size",
          "Penis_Size",
          "Penis_Size",
          "Penis_Size",
          "Penis_Size",
          "Penis_Size",
          "Penis_Size",
          "Penis_Size",
          "Penis_Size",
          "Penis_Size",
          "Penis_Size",
          "Penis_Size",
          "Penis_Size",
          "Penis_Size",
          "Penis_Size",
          "Penis_Size",
          "Penis_Size",
          "Penis_Size",
          "Penis_Size",
          "Penis_Size",
          "Penis_Size",
          "Penis_Size",
          "Penis_Size",
          "Penis_Size",
          "Penis_Size",
          "Penis_Size",
          "Penis_Size",
          "Penis_Size",
          "Penis_Size",
          "Penis_Size",
          "Penis_Size",
          "Penis_Size",
          "Penis_Size",
          "Penis_Size",
          "Penis_Size",
          "Penis_Size",
          "Penis_Size",
          "Penis_Size",
          "Penis_Size",
          "Penis_Size",
          "Penis_Size",
          "Penis_Size",
          "Penis_Size",
          "Penis_Size",
          "Penis_Size",
          "Penis_Size",
          "Penis_Size",
          "Penis_Size",
          "Penis_Size",
          "Penis_Size",
          "Penis_Size",
          "Penis_Size",
          "Penis_Size",
          "Penis_Size",
          "Penis_Size",
          "Penis_Size",
          "Penis_Size",
          "Penis_Size",
          "Penis_Size",
          "Penis_Size",
          "Penis_Size",
          "Penis_Size",
          "Penis_Size",
          "Penis_Size",
          "Penis_Size",
          "Penis_Size",
          "Penis_Size",
          "Penis_Size",
          "Penis_Size",
          "Penis_Size",
          "Penis_Size",
          "Penis_Size",
          "Penis_Size",
          "Penis_Size",
          "Penis_Size",
          "Penis_Size",
          "Penis_Size",
          "Penis_Size",
          "Penis_Size"
         ],
         "yaxis": "y2"
        }
       ],
       "layout": {
        "barmode": "overlay",
        "hovermode": "closest",
        "legend": {
         "traceorder": "reversed"
        },
        "template": {
         "data": {
          "bar": [
           {
            "error_x": {
             "color": "#2a3f5f"
            },
            "error_y": {
             "color": "#2a3f5f"
            },
            "marker": {
             "line": {
              "color": "#E5ECF6",
              "width": 0.5
             },
             "pattern": {
              "fillmode": "overlay",
              "size": 10,
              "solidity": 0.2
             }
            },
            "type": "bar"
           }
          ],
          "barpolar": [
           {
            "marker": {
             "line": {
              "color": "#E5ECF6",
              "width": 0.5
             },
             "pattern": {
              "fillmode": "overlay",
              "size": 10,
              "solidity": 0.2
             }
            },
            "type": "barpolar"
           }
          ],
          "carpet": [
           {
            "aaxis": {
             "endlinecolor": "#2a3f5f",
             "gridcolor": "white",
             "linecolor": "white",
             "minorgridcolor": "white",
             "startlinecolor": "#2a3f5f"
            },
            "baxis": {
             "endlinecolor": "#2a3f5f",
             "gridcolor": "white",
             "linecolor": "white",
             "minorgridcolor": "white",
             "startlinecolor": "#2a3f5f"
            },
            "type": "carpet"
           }
          ],
          "choropleth": [
           {
            "colorbar": {
             "outlinewidth": 0,
             "ticks": ""
            },
            "type": "choropleth"
           }
          ],
          "contour": [
           {
            "colorbar": {
             "outlinewidth": 0,
             "ticks": ""
            },
            "colorscale": [
             [
              0,
              "#0d0887"
             ],
             [
              0.1111111111111111,
              "#46039f"
             ],
             [
              0.2222222222222222,
              "#7201a8"
             ],
             [
              0.3333333333333333,
              "#9c179e"
             ],
             [
              0.4444444444444444,
              "#bd3786"
             ],
             [
              0.5555555555555556,
              "#d8576b"
             ],
             [
              0.6666666666666666,
              "#ed7953"
             ],
             [
              0.7777777777777778,
              "#fb9f3a"
             ],
             [
              0.8888888888888888,
              "#fdca26"
             ],
             [
              1,
              "#f0f921"
             ]
            ],
            "type": "contour"
           }
          ],
          "contourcarpet": [
           {
            "colorbar": {
             "outlinewidth": 0,
             "ticks": ""
            },
            "type": "contourcarpet"
           }
          ],
          "heatmap": [
           {
            "colorbar": {
             "outlinewidth": 0,
             "ticks": ""
            },
            "colorscale": [
             [
              0,
              "#0d0887"
             ],
             [
              0.1111111111111111,
              "#46039f"
             ],
             [
              0.2222222222222222,
              "#7201a8"
             ],
             [
              0.3333333333333333,
              "#9c179e"
             ],
             [
              0.4444444444444444,
              "#bd3786"
             ],
             [
              0.5555555555555556,
              "#d8576b"
             ],
             [
              0.6666666666666666,
              "#ed7953"
             ],
             [
              0.7777777777777778,
              "#fb9f3a"
             ],
             [
              0.8888888888888888,
              "#fdca26"
             ],
             [
              1,
              "#f0f921"
             ]
            ],
            "type": "heatmap"
           }
          ],
          "heatmapgl": [
           {
            "colorbar": {
             "outlinewidth": 0,
             "ticks": ""
            },
            "colorscale": [
             [
              0,
              "#0d0887"
             ],
             [
              0.1111111111111111,
              "#46039f"
             ],
             [
              0.2222222222222222,
              "#7201a8"
             ],
             [
              0.3333333333333333,
              "#9c179e"
             ],
             [
              0.4444444444444444,
              "#bd3786"
             ],
             [
              0.5555555555555556,
              "#d8576b"
             ],
             [
              0.6666666666666666,
              "#ed7953"
             ],
             [
              0.7777777777777778,
              "#fb9f3a"
             ],
             [
              0.8888888888888888,
              "#fdca26"
             ],
             [
              1,
              "#f0f921"
             ]
            ],
            "type": "heatmapgl"
           }
          ],
          "histogram": [
           {
            "marker": {
             "pattern": {
              "fillmode": "overlay",
              "size": 10,
              "solidity": 0.2
             }
            },
            "type": "histogram"
           }
          ],
          "histogram2d": [
           {
            "colorbar": {
             "outlinewidth": 0,
             "ticks": ""
            },
            "colorscale": [
             [
              0,
              "#0d0887"
             ],
             [
              0.1111111111111111,
              "#46039f"
             ],
             [
              0.2222222222222222,
              "#7201a8"
             ],
             [
              0.3333333333333333,
              "#9c179e"
             ],
             [
              0.4444444444444444,
              "#bd3786"
             ],
             [
              0.5555555555555556,
              "#d8576b"
             ],
             [
              0.6666666666666666,
              "#ed7953"
             ],
             [
              0.7777777777777778,
              "#fb9f3a"
             ],
             [
              0.8888888888888888,
              "#fdca26"
             ],
             [
              1,
              "#f0f921"
             ]
            ],
            "type": "histogram2d"
           }
          ],
          "histogram2dcontour": [
           {
            "colorbar": {
             "outlinewidth": 0,
             "ticks": ""
            },
            "colorscale": [
             [
              0,
              "#0d0887"
             ],
             [
              0.1111111111111111,
              "#46039f"
             ],
             [
              0.2222222222222222,
              "#7201a8"
             ],
             [
              0.3333333333333333,
              "#9c179e"
             ],
             [
              0.4444444444444444,
              "#bd3786"
             ],
             [
              0.5555555555555556,
              "#d8576b"
             ],
             [
              0.6666666666666666,
              "#ed7953"
             ],
             [
              0.7777777777777778,
              "#fb9f3a"
             ],
             [
              0.8888888888888888,
              "#fdca26"
             ],
             [
              1,
              "#f0f921"
             ]
            ],
            "type": "histogram2dcontour"
           }
          ],
          "mesh3d": [
           {
            "colorbar": {
             "outlinewidth": 0,
             "ticks": ""
            },
            "type": "mesh3d"
           }
          ],
          "parcoords": [
           {
            "line": {
             "colorbar": {
              "outlinewidth": 0,
              "ticks": ""
             }
            },
            "type": "parcoords"
           }
          ],
          "pie": [
           {
            "automargin": true,
            "type": "pie"
           }
          ],
          "scatter": [
           {
            "fillpattern": {
             "fillmode": "overlay",
             "size": 10,
             "solidity": 0.2
            },
            "type": "scatter"
           }
          ],
          "scatter3d": [
           {
            "line": {
             "colorbar": {
              "outlinewidth": 0,
              "ticks": ""
             }
            },
            "marker": {
             "colorbar": {
              "outlinewidth": 0,
              "ticks": ""
             }
            },
            "type": "scatter3d"
           }
          ],
          "scattercarpet": [
           {
            "marker": {
             "colorbar": {
              "outlinewidth": 0,
              "ticks": ""
             }
            },
            "type": "scattercarpet"
           }
          ],
          "scattergeo": [
           {
            "marker": {
             "colorbar": {
              "outlinewidth": 0,
              "ticks": ""
             }
            },
            "type": "scattergeo"
           }
          ],
          "scattergl": [
           {
            "marker": {
             "colorbar": {
              "outlinewidth": 0,
              "ticks": ""
             }
            },
            "type": "scattergl"
           }
          ],
          "scattermapbox": [
           {
            "marker": {
             "colorbar": {
              "outlinewidth": 0,
              "ticks": ""
             }
            },
            "type": "scattermapbox"
           }
          ],
          "scatterpolar": [
           {
            "marker": {
             "colorbar": {
              "outlinewidth": 0,
              "ticks": ""
             }
            },
            "type": "scatterpolar"
           }
          ],
          "scatterpolargl": [
           {
            "marker": {
             "colorbar": {
              "outlinewidth": 0,
              "ticks": ""
             }
            },
            "type": "scatterpolargl"
           }
          ],
          "scatterternary": [
           {
            "marker": {
             "colorbar": {
              "outlinewidth": 0,
              "ticks": ""
             }
            },
            "type": "scatterternary"
           }
          ],
          "surface": [
           {
            "colorbar": {
             "outlinewidth": 0,
             "ticks": ""
            },
            "colorscale": [
             [
              0,
              "#0d0887"
             ],
             [
              0.1111111111111111,
              "#46039f"
             ],
             [
              0.2222222222222222,
              "#7201a8"
             ],
             [
              0.3333333333333333,
              "#9c179e"
             ],
             [
              0.4444444444444444,
              "#bd3786"
             ],
             [
              0.5555555555555556,
              "#d8576b"
             ],
             [
              0.6666666666666666,
              "#ed7953"
             ],
             [
              0.7777777777777778,
              "#fb9f3a"
             ],
             [
              0.8888888888888888,
              "#fdca26"
             ],
             [
              1,
              "#f0f921"
             ]
            ],
            "type": "surface"
           }
          ],
          "table": [
           {
            "cells": {
             "fill": {
              "color": "#EBF0F8"
             },
             "line": {
              "color": "white"
             }
            },
            "header": {
             "fill": {
              "color": "#C8D4E3"
             },
             "line": {
              "color": "white"
             }
            },
            "type": "table"
           }
          ]
         },
         "layout": {
          "annotationdefaults": {
           "arrowcolor": "#2a3f5f",
           "arrowhead": 0,
           "arrowwidth": 1
          },
          "autotypenumbers": "strict",
          "coloraxis": {
           "colorbar": {
            "outlinewidth": 0,
            "ticks": ""
           }
          },
          "colorscale": {
           "diverging": [
            [
             0,
             "#8e0152"
            ],
            [
             0.1,
             "#c51b7d"
            ],
            [
             0.2,
             "#de77ae"
            ],
            [
             0.3,
             "#f1b6da"
            ],
            [
             0.4,
             "#fde0ef"
            ],
            [
             0.5,
             "#f7f7f7"
            ],
            [
             0.6,
             "#e6f5d0"
            ],
            [
             0.7,
             "#b8e186"
            ],
            [
             0.8,
             "#7fbc41"
            ],
            [
             0.9,
             "#4d9221"
            ],
            [
             1,
             "#276419"
            ]
           ],
           "sequential": [
            [
             0,
             "#0d0887"
            ],
            [
             0.1111111111111111,
             "#46039f"
            ],
            [
             0.2222222222222222,
             "#7201a8"
            ],
            [
             0.3333333333333333,
             "#9c179e"
            ],
            [
             0.4444444444444444,
             "#bd3786"
            ],
            [
             0.5555555555555556,
             "#d8576b"
            ],
            [
             0.6666666666666666,
             "#ed7953"
            ],
            [
             0.7777777777777778,
             "#fb9f3a"
            ],
            [
             0.8888888888888888,
             "#fdca26"
            ],
            [
             1,
             "#f0f921"
            ]
           ],
           "sequentialminus": [
            [
             0,
             "#0d0887"
            ],
            [
             0.1111111111111111,
             "#46039f"
            ],
            [
             0.2222222222222222,
             "#7201a8"
            ],
            [
             0.3333333333333333,
             "#9c179e"
            ],
            [
             0.4444444444444444,
             "#bd3786"
            ],
            [
             0.5555555555555556,
             "#d8576b"
            ],
            [
             0.6666666666666666,
             "#ed7953"
            ],
            [
             0.7777777777777778,
             "#fb9f3a"
            ],
            [
             0.8888888888888888,
             "#fdca26"
            ],
            [
             1,
             "#f0f921"
            ]
           ]
          },
          "colorway": [
           "#636efa",
           "#EF553B",
           "#00cc96",
           "#ab63fa",
           "#FFA15A",
           "#19d3f3",
           "#FF6692",
           "#B6E880",
           "#FF97FF",
           "#FECB52"
          ],
          "font": {
           "color": "#2a3f5f"
          },
          "geo": {
           "bgcolor": "white",
           "lakecolor": "white",
           "landcolor": "#E5ECF6",
           "showlakes": true,
           "showland": true,
           "subunitcolor": "white"
          },
          "hoverlabel": {
           "align": "left"
          },
          "hovermode": "closest",
          "mapbox": {
           "style": "light"
          },
          "paper_bgcolor": "white",
          "plot_bgcolor": "#E5ECF6",
          "polar": {
           "angularaxis": {
            "gridcolor": "white",
            "linecolor": "white",
            "ticks": ""
           },
           "bgcolor": "#E5ECF6",
           "radialaxis": {
            "gridcolor": "white",
            "linecolor": "white",
            "ticks": ""
           }
          },
          "scene": {
           "xaxis": {
            "backgroundcolor": "#E5ECF6",
            "gridcolor": "white",
            "gridwidth": 2,
            "linecolor": "white",
            "showbackground": true,
            "ticks": "",
            "zerolinecolor": "white"
           },
           "yaxis": {
            "backgroundcolor": "#E5ECF6",
            "gridcolor": "white",
            "gridwidth": 2,
            "linecolor": "white",
            "showbackground": true,
            "ticks": "",
            "zerolinecolor": "white"
           },
           "zaxis": {
            "backgroundcolor": "#E5ECF6",
            "gridcolor": "white",
            "gridwidth": 2,
            "linecolor": "white",
            "showbackground": true,
            "ticks": "",
            "zerolinecolor": "white"
           }
          },
          "shapedefaults": {
           "line": {
            "color": "#2a3f5f"
           }
          },
          "ternary": {
           "aaxis": {
            "gridcolor": "white",
            "linecolor": "white",
            "ticks": ""
           },
           "baxis": {
            "gridcolor": "white",
            "linecolor": "white",
            "ticks": ""
           },
           "bgcolor": "#E5ECF6",
           "caxis": {
            "gridcolor": "white",
            "linecolor": "white",
            "ticks": ""
           }
          },
          "title": {
           "x": 0.05
          },
          "xaxis": {
           "automargin": true,
           "gridcolor": "white",
           "linecolor": "white",
           "ticks": "",
           "title": {
            "standoff": 15
           },
           "zerolinecolor": "white",
           "zerolinewidth": 2
          },
          "yaxis": {
           "automargin": true,
           "gridcolor": "white",
           "linecolor": "white",
           "ticks": "",
           "title": {
            "standoff": 15
           },
           "zerolinecolor": "white",
           "zerolinewidth": 2
          }
         }
        },
        "xaxis": {
         "anchor": "y2",
         "domain": [
          0,
          1
         ],
         "zeroline": false
        },
        "yaxis": {
         "anchor": "free",
         "domain": [
          0.35,
          1
         ],
         "position": 0
        },
        "yaxis2": {
         "anchor": "x",
         "domain": [
          0,
          0.25
         ],
         "dtick": 1,
         "showticklabels": false
        }
       }
      },
      "text/html": [
       "<div>                            <div id=\"8aa1887e-a4e2-4a38-8794-7ba78eeb56c1\" class=\"plotly-graph-div\" style=\"height:525px; width:100%;\"></div>            <script type=\"text/javascript\">                require([\"plotly\"], function(Plotly) {                    window.PLOTLYENV=window.PLOTLYENV || {};                                    if (document.getElementById(\"8aa1887e-a4e2-4a38-8794-7ba78eeb56c1\")) {                    Plotly.newPlot(                        \"8aa1887e-a4e2-4a38-8794-7ba78eeb56c1\",                        [{\"autobinx\":false,\"histnorm\":\"probability density\",\"legendgroup\":\"Penis_Size\",\"marker\":{\"color\":\"rgb(31, 119, 180)\"},\"name\":\"Penis_Size\",\"opacity\":0.7,\"x\":[17.61,16.67,16.51,16.47,16.01,15.89,15.88,15.87,15.87,15.78,15.74,15.73,15.71,15.69,15.68,15.61,15.53,15.39,15.35,15.33,15.26,15.22,15.22,15.08,15.02,15.01,15.0,14.99,14.92,14.88,14.88,14.88,14.87,14.77,14.77,14.69,14.63,14.59,14.53,14.52,14.49,14.48,14.46,14.38,14.35,14.34,14.29,14.19,14.05,13.99,13.98,13.97,13.85,13.77,13.74,13.72,13.71,13.69,13.6,13.58,13.56,13.48,13.33,13.3,13.21,13.16,13.14,13.13,13.07,12.99,12.78,12.77,12.73,12.72,12.6,12.2,11.95,11.67,11.53,11.49,11.47,11.45,11.2,11.19,10.89,10.85,10.7,10.04],\"xaxis\":\"x\",\"xbins\":{\"end\":17.61,\"size\":0.3,\"start\":10.04},\"yaxis\":\"y\",\"type\":\"histogram\"},{\"legendgroup\":\"Penis_Size\",\"marker\":{\"color\":\"rgb(31, 119, 180)\"},\"mode\":\"lines\",\"name\":\"Penis_Size\",\"showlegend\":false,\"x\":[10.04,10.05514,10.070279999999999,10.08542,10.10056,10.115699999999999,10.13084,10.14598,10.161119999999999,10.17626,10.1914,10.206539999999999,10.22168,10.23682,10.251959999999999,10.2671,10.28224,10.297379999999999,10.31252,10.32766,10.342799999999999,10.35794,10.37308,10.388219999999999,10.40336,10.4185,10.433639999999999,10.44878,10.46392,10.479059999999999,10.4942,10.50934,10.524479999999999,10.53962,10.55476,10.569899999999999,10.58504,10.60018,10.615319999999999,10.63046,10.6456,10.660739999999999,10.67588,10.691019999999998,10.706159999999999,10.7213,10.73644,10.751579999999999,10.76672,10.781859999999998,10.796999999999999,10.81214,10.827279999999998,10.842419999999999,10.85756,10.872699999999998,10.887839999999999,10.90298,10.918119999999998,10.933259999999999,10.9484,10.963539999999998,10.978679999999999,10.99382,11.008959999999998,11.024099999999999,11.03924,11.054379999999998,11.069519999999999,11.08466,11.099799999999998,11.114939999999999,11.13008,11.145219999999998,11.160359999999999,11.1755,11.190639999999998,11.205779999999999,11.22092,11.236059999999998,11.251199999999999,11.26634,11.281479999999998,11.296619999999999,11.31176,11.326899999999998,11.342039999999999,11.35718,11.372319999999998,11.387459999999999,11.4026,11.417739999999998,11.432879999999999,11.44802,11.463159999999998,11.478299999999999,11.49344,11.508579999999998,11.523719999999999,11.53886,11.553999999999998,11.569139999999999,11.58428,11.599419999999999,11.614559999999999,11.6297,11.644839999999999,11.65998,11.67512,11.690259999999999,11.7054,11.72054,11.735679999999999,11.75082,11.76596,11.781099999999999,11.79624,11.81138,11.826519999999999,11.84166,11.8568,11.871939999999999,11.88708,11.90222,11.917359999999999,11.9325,11.94764,11.962779999999999,11.97792,11.99306,12.008199999999999,12.02334,12.03848,12.053619999999999,12.06876,12.0839,12.099039999999999,12.11418,12.12932,12.144459999999999,12.1596,12.17474,12.189879999999999,12.20502,12.22016,12.235299999999999,12.25044,12.26558,12.280719999999999,12.29586,12.311,12.326139999999999,12.34128,12.35642,12.371559999999999,12.3867,12.40184,12.416979999999999,12.43212,12.44726,12.462399999999999,12.47754,12.49268,12.507819999999999,12.52296,12.5381,12.553239999999999,12.56838,12.58352,12.598659999999999,12.6138,12.62894,12.644079999999999,12.65922,12.67436,12.689499999999999,12.70464,12.71978,12.734919999999999,12.75006,12.7652,12.780339999999999,12.79548,12.81062,12.825759999999999,12.8409,12.85604,12.871179999999999,12.88632,12.90146,12.916599999999999,12.93174,12.94688,12.962019999999999,12.97716,12.9923,13.007439999999999,13.02258,13.03772,13.052859999999999,13.068,13.08314,13.098279999999999,13.11342,13.128559999999998,13.143699999999999,13.15884,13.17398,13.189119999999999,13.20426,13.2194,13.234539999999999,13.24968,13.26482,13.279959999999999,13.2951,13.31024,13.32538,13.34052,13.35566,13.3708,13.38594,13.401079999999999,13.41622,13.43136,13.446499999999999,13.46164,13.47678,13.491919999999999,13.50706,13.5222,13.53734,13.55248,13.56762,13.58276,13.5979,13.613039999999998,13.62818,13.64332,13.65846,13.6736,13.68874,13.70388,13.719019999999999,13.73416,13.7493,13.764439999999999,13.77958,13.79472,13.809859999999999,13.825,13.84014,13.855279999999999,13.87042,13.885559999999998,13.9007,13.91584,13.930979999999998,13.94612,13.96126,13.976399999999998,13.991539999999999,14.00668,14.02182,14.036959999999999,14.0521,14.067239999999998,14.08238,14.09752,14.112659999999998,14.1278,14.14294,14.158079999999998,14.17322,14.18836,14.203499999999998,14.21864,14.23378,14.248919999999998,14.26406,14.2792,14.294339999999998,14.30948,14.32462,14.339759999999998,14.3549,14.37004,14.385179999999998,14.400319999999999,14.41546,14.430599999999998,14.445739999999999,14.46088,14.476019999999998,14.491159999999999,14.5063,14.521439999999998,14.536579999999999,14.55172,14.56686,14.581999999999999,14.59714,14.612279999999998,14.627419999999999,14.64256,14.657699999999998,14.672839999999999,14.68798,14.703119999999998,14.718259999999999,14.7334,14.748539999999998,14.763679999999999,14.77882,14.793959999999998,14.8091,14.82424,14.839379999999998,14.85452,14.86966,14.884799999999998,14.89994,14.91508,14.930219999999998,14.94536,14.9605,14.975639999999999,14.990779999999999,15.00592,15.021059999999999,15.0362,15.05134,15.066479999999999,15.08162,15.09676,15.111899999999999,15.12704,15.14218,15.157319999999999,15.17246,15.1876,15.202739999999999,15.21788,15.23302,15.248159999999999,15.2633,15.27844,15.293579999999999,15.30872,15.32386,15.338999999999999,15.35414,15.36928,15.384419999999999,15.39956,15.4147,15.429839999999999,15.44498,15.46012,15.475259999999999,15.4904,15.50554,15.520679999999999,15.535820000000001,15.55096,15.566099999999999,15.58124,15.59638,15.611519999999999,15.62666,15.6418,15.656939999999999,15.67208,15.68722,15.702359999999999,15.7175,15.73264,15.747779999999999,15.76292,15.77806,15.793199999999999,15.80834,15.82348,15.838619999999999,15.85376,15.8689,15.884039999999999,15.89918,15.91432,15.929459999999999,15.9446,15.95974,15.974879999999999,15.99002,16.00516,16.0203,16.03544,16.05058,16.06572,16.08086,16.096,16.11114,16.12628,16.14142,16.15656,16.171699999999998,16.18684,16.20198,16.217119999999998,16.23226,16.2474,16.26254,16.27768,16.29282,16.30796,16.3231,16.33824,16.35338,16.36852,16.38366,16.3988,16.41394,16.42908,16.44422,16.45936,16.4745,16.48964,16.50478,16.51992,16.53506,16.5502,16.56534,16.58048,16.59562,16.61076,16.6259,16.64104,16.65618,16.67132,16.68646,16.7016,16.71674,16.73188,16.74702,16.762159999999998,16.7773,16.79244,16.807579999999998,16.82272,16.83786,16.852999999999998,16.86814,16.88328,16.898419999999998,16.91356,16.9287,16.943839999999998,16.95898,16.97412,16.98926,17.0044,17.01954,17.03468,17.04982,17.06496,17.0801,17.09524,17.11038,17.12552,17.140659999999997,17.1558,17.17094,17.186079999999997,17.20122,17.21636,17.231499999999997,17.24664,17.26178,17.27692,17.29206,17.3072,17.32234,17.33748,17.352619999999998,17.36776,17.3829,17.398039999999998,17.41318,17.42832,17.443459999999998,17.4586,17.47374,17.488879999999998,17.50402,17.51916,17.534299999999998,17.54944,17.56458,17.57972,17.59486],\"xaxis\":\"x\",\"y\":[0.022669791875497353,0.023225484924577475,0.023789741190086977,0.024362524014933478,0.024943787422994752,0.025533475739039996,0.026131523214929654,0.026737853663764376,0.027352380103692366,0.027975004413114866,0.028605616999054916,0.029244096480474362,0.02989030938833603,0.030544109884211825,0.03120533949923735,0.03187382689520499,0.032549387649568225,0.033231824066108785,0.03392092501298696,0.034616465789853834,0.03531820802566056,0.03602589960874608,0.03673927465072067,0.03745805348559685,0.03818194270554379,0.0389106352345552,0.03964381044123459,0.04038113429180483,0.04112225954434364,0.04186682598514056,0.042614460707956096,0.04336477843683936,0.0441173818930411,0.04487186220642155,0.0456277993716219,0.04638476274912762,0.04714231161120618,0.047899995732557515,0.048657356025365917,0.04941392521828674,0.050169228578750016,0.05092278467780698,0.05167410619658555,0.05242270077326602,0.0531680718893307,0.053909719793680456,0.0546471424630581,0.055379836597063276,0.05610729864588778,0.056829025868752645,0.05754451742088094,0.058253275466693816,0.058954806316780496,0.059648621586057986,0.06033423937040436,0.06101118543892805,0.061678994438918236,0.06233721111040883,0.06298539150718693,0.0636231042209828,0.06424993160548738,0.06486547099677088,0.0654693359266026,0.0660611573251162,0.06664058470921624,0.06720728735308204,0.0677609554370993,0.06830130117153599,0.06882805989127182,0.06934099111790214,0.06983987958555674,0.07032453622680584,0.07079479911507311,0.07125053436003362,0.07169163695254498,0.0721180315557459,0.07252967323905345,0.0729265481518994,0.07330867413417085,0.07367610126045535,0.07402891231533947,0.0743672231971682,0.07469118324784932,0.07500097550646626,0.07529681688465976,0.07557895826194594,0.07584768449935095,0.07610331436996993,0.07634620040529064,0.07657672865636576,0.07679531836916535,0.07700242157369878,0.07719852258675688,0.0773841374283907,0.07755981315251562,0.07772612709230133,0.07788368602128536,0.07803312523142243,0.07817510752956024,0.07831032215410529,0.07843948361391674,0.07856333045173494,0.07868262393471612,0.07879814667490415,0.07891070118272324,0.07902110835681941,0.07913020591381552,0.07923884676176951,0.07934789732134213,0.07945823579888243,0.07957075041582995,0.07968633759901024,0.07980590013656064,0.07993034530437186,0.08006058296805973,0.08019752366559726,0.08034207667583122,0.0804951480781884,0.0806576388089351,0.08083044271939607,0.08101444464155981,0.08121051846650316,0.0814195252410486,0.08164231128803456,0.0818797063555233,0.0821325218001965,0.08240154881009566,0.08268755667175344,0.08299129108663142,0.0833134725416311,0.08365479473828237,0.08401592308502975,0.08439749325684047,0.08480010982614554,0.08522434496890008,0.08567073724930631,0.08613979048649287,0.08663197270618155,0.08714771518009604,0.087687411555588,0.08825141707766512,0.08884004790530765,0.08945358052365876,0.09009225125337042,0.09075625585807223,0.09144574925062517,0.09216084529850983,0.09290161672838718,0.09366809512956431,0.09446027105579458,0.09527809422453644,0.09612147381251003,0.09699027884609493,0.09788433868483966,0.09880344359608179,0.09974734541841625,0.10071575831150072,0.10170835958945332,0.10272479063486581,0.10376465789024955,0.10482753392353264,0.10591295856403951,0.10702044010521879,0.1081494565702322,0.10929945703637485,0.11046986301417822,0.11166006987694234,0.11286944833634634,0.11409734595971861,0.11534308872448572,0.11660598260527767,0.11788531518913276,0.11918035731424491,0.12049036472768798,0.12181457975756606,0.12315223299508242,0.12450254498204875,0.12586472789941539,0.12723798725247984,0.12862152354849937,0.13001453396252757,0.13141621398739603,0.1328257590638715,0.13424236618713145,0.13566523548583184,0.13709357177017245,0.13852658604549822,0.13996349698812446,0.1414035323802215,0.14284593050074135,0.14428994146953247,0.14573482854194192,0.14717986935136385,0.14862435709735994,0.15006760167713604,0.1515089307583215,0.15294769079116508,0.15438324795842104,0.15581498906135802,0.15724232234049093,0.15866467822978786,0.16008151004326418,0.16149229459303616,0.1628965327380499,0.164293749862863,0.1656834962860016,0.16706534759756156,0.1684389049258698,0.16980379513316748,0.17115967094041298,0.17250621098144459,0.17384311978688605,0.17517012769830395,0.17648699071326976,0.17779349026211072,0.1790894329172657,0.18037465003629097,0.18164899733969928,0.1829123544249399,0.18416462421795363,0.18540573236387678,0.1866356265585856,0.1878542758229016,0.18906166972141392,0.19025781752798854,0.19144274734017058,0.1926165051448005,0.19377915383729646,0.19493077219717292,0.19607145382248176,0.19720130602598485,0.19832044869598198,0.19942901312482167,0.2005271408082414,0.20161498221877786,0.20269269555659242,0.20376044548114922,0.20481840182726868,0.2058667383091631,0.20690563121613267,0.2079352581036646,0.20895579648373647,0.20996742251817133,0.210970309718927,0.21196462765922996,0.21295054069947697,0.2139282067318313,0.21489777594742795,0.21585938963007778,0.21681317898032454,0.21775926397365716,0.21869775225660812,0.21962873808439143,0.22055230130363804,0.22146850638366747,0.2223774014996152,0.2232790176705866,0.2241733679558531,0.2250604467119343,0.225940228913216,0.22681266953856594,0.2276777030261773,0.2285352427986557,0.22938518086011964,0.23022738746683355,0.23106171087263117,0.23188797715011866,0.23270599008836373,0.23351553116749624,0.23431635961035144,0.23510821251099545,0.23589080503966392,0.2366638307233658,0.23742696180108472,0.23817984965222203,0.23892212529663956,0.23965339996435764,0.24037326573269094,0.24108129622833518,0.24177704739164482,0.24246005830009512,0.24312985204768994,0.2437859366768396,0.24442780615903636,0.24505494142045992,0.2456668114084737,0.24626287419481693,0.24684257811117696,0.24740536291269868,0.24795066096491689,0.24847789844952212,0.2489864965843341,0.24947587285283931,0.24994544223865342,0.25039461846030614,0.25082281520179617,0.2512294473344489,0.25161393212570493,0.25197569043060486,0.2523141478618741,0.2526287359346855,0.2529188931823716,0.2531840662395597,0.25342371088944177,0.2536372930721234,0.2538242898512671,0.2539841903365115,0.2541164965594328,0.25422072430111314,0.25429640386968183,0.25434308082649976,0.25436031665997844,0.2543476894063314,0.25430479421687563,0.25423124387181145,0.2541266692407153,0.25399071969028864,0.2538230634401872,0.25362338786805444,0.2533913997651408,0.25312682554415267,0.25282941140121895,0.25249892343408736,0.25213514771885776,0.2517378903477691,0.25130697743069164,0.25084225506314556,0.25034358926376765,0.24981086588424994,0.24924399049485224,0.24864288824861838,0.24800750372746783,0.24733780077331663,0.2466337623073575,0.24589539014057823,0.24512270477851597,0.24431574522314756,0.24347456877469537,0.2425992508359803,0.24168988472179323,0.24074658147557207,0.23976946969547522,0.2387586953717215,0.23771442173684595,0.23663682913026962,0.2355261148783436,0.23438249319075763,0.2332061950739439,0.23199746826183898,0.23075657716409573,0.22948380283156278,0.22817944293859188,0.22684381178146154,0.22547724029195096,0.22408007606485858,0.22265268339801336,0.2211954433431072,0.21970875376547214,0.21819302941072194,0.2166487019760087,0.21507622018348863,0.2134760498534487,0.2118486739744308,0.21019459276759705,0.20851432374251447,0.20680840174146892,0.20507737896941777,0.20332182500667734,0.20154232680145895,0.19973948863942614,0.19791393208750852,0.19606629590929997,0.1941972359494828,0.19230742498486084,0.19039755253973487,0.1884683246635241,0.18652046366874397,0.1845547078276432,0.18257181102603373,0.1805725423730839,0.17855768576608766,0.17652803940948197,0.17448441528764633,0.17242763859129073,0.17035854709750317,0.168277990503815,0.16618682971690318,0.16408593609682345,0.1619761906579463,0.15985848322800905,0.15773371156696833,0.15560278044757234,0.1534666006998025,0.15132608822155952,0.14918216295817324,0.14703574785349538,0.14488776777552348,0.14273914841965044,0.14059081519275987,0.13844369208153456,0.13629870050841397,0.13415675817871747,0.13201877792253294,0.12988566653497138,0.12775832361841927,0.12563764043042502,0.12352449874081192,0.12141976970157538,0.11932431273305216,0.11723897442978246,0.11516458748936446,0.1131019696674915,0.11105192276225319,0.10901523163059221,0.1069926632396928,0.1049849657558864,0.10299286767346952,0.10101707698566774,0.09905828039975818,0.09711714259816702,0.09519430554715948,0.09329038785451729,0.09140598417739092,0.08954166468130674,0.08769797455108863,0.08587543355424833,0.08407453565719678,0.08229574869442349,0.08053951409059372,0.0788062466353339,0.07709633431028808,0.07541013816785691,0.07374799226087268,0.07211020362231013,0.07049705229398578,0.06890879140307737,0.06734564728516848,0.06580781965241495,0.06429548180534034,0.06280878088667641,0.06134783817559183,0.05991274942059603,0.05850358520935027,0.05712039137357602,0.055763189427229735,0.05443197703608531,0.053126728516861545,0.05184739536402606,0.05059390680242109,0.04936617036386546,0.048164072485909926,0.04698747913095596,0.04583623642397622,0.04471017130711196,0.04360909220947555,0.042532789730518834,0.04148103733538061,0.04045359206068626,0.039450195229309,0.03847057317266198,0.0375144379591501,0.03658148812744437,0.035671409423312546,0.03478387553877681,0.03391854885242001,0.033075081169713506,0.03225311446227709,0.03145228160502519,0.030672207110195034,0.02991250785728545,0.029172793817966496,0.028452668775060846,0.02775173103470879,0.027069574130869863,0.026405787521331558,0.025759957274408433,0.025131666745544994,0.024520497243048323,0.023926028682183752,0.02334784022689325,0.02278551091839947,0.022238620289974878,0.02170674896716463,0.021189479252766836,0.020686395695883396,0.0201970856443686,0.01972113978001671,0.019258152635845235,0.018807723094847413,0.01836945486960536,0.017942956962178284,0.017527844103702152,0.01712373717316221,0.016730263594830916,0.016347057713892534,0.015973761149811024,0.015610023127034914,0.01525550078267278,0.014909859450814982,0.014572772923224547],\"yaxis\":\"y\",\"type\":\"scatter\"},{\"legendgroup\":\"Penis_Size\",\"marker\":{\"color\":\"rgb(31, 119, 180)\",\"symbol\":\"line-ns-open\"},\"mode\":\"markers\",\"name\":\"Penis_Size\",\"showlegend\":false,\"x\":[17.61,16.67,16.51,16.47,16.01,15.89,15.88,15.87,15.87,15.78,15.74,15.73,15.71,15.69,15.68,15.61,15.53,15.39,15.35,15.33,15.26,15.22,15.22,15.08,15.02,15.01,15.0,14.99,14.92,14.88,14.88,14.88,14.87,14.77,14.77,14.69,14.63,14.59,14.53,14.52,14.49,14.48,14.46,14.38,14.35,14.34,14.29,14.19,14.05,13.99,13.98,13.97,13.85,13.77,13.74,13.72,13.71,13.69,13.6,13.58,13.56,13.48,13.33,13.3,13.21,13.16,13.14,13.13,13.07,12.99,12.78,12.77,12.73,12.72,12.6,12.2,11.95,11.67,11.53,11.49,11.47,11.45,11.2,11.19,10.89,10.85,10.7,10.04],\"xaxis\":\"x\",\"y\":[\"Penis_Size\",\"Penis_Size\",\"Penis_Size\",\"Penis_Size\",\"Penis_Size\",\"Penis_Size\",\"Penis_Size\",\"Penis_Size\",\"Penis_Size\",\"Penis_Size\",\"Penis_Size\",\"Penis_Size\",\"Penis_Size\",\"Penis_Size\",\"Penis_Size\",\"Penis_Size\",\"Penis_Size\",\"Penis_Size\",\"Penis_Size\",\"Penis_Size\",\"Penis_Size\",\"Penis_Size\",\"Penis_Size\",\"Penis_Size\",\"Penis_Size\",\"Penis_Size\",\"Penis_Size\",\"Penis_Size\",\"Penis_Size\",\"Penis_Size\",\"Penis_Size\",\"Penis_Size\",\"Penis_Size\",\"Penis_Size\",\"Penis_Size\",\"Penis_Size\",\"Penis_Size\",\"Penis_Size\",\"Penis_Size\",\"Penis_Size\",\"Penis_Size\",\"Penis_Size\",\"Penis_Size\",\"Penis_Size\",\"Penis_Size\",\"Penis_Size\",\"Penis_Size\",\"Penis_Size\",\"Penis_Size\",\"Penis_Size\",\"Penis_Size\",\"Penis_Size\",\"Penis_Size\",\"Penis_Size\",\"Penis_Size\",\"Penis_Size\",\"Penis_Size\",\"Penis_Size\",\"Penis_Size\",\"Penis_Size\",\"Penis_Size\",\"Penis_Size\",\"Penis_Size\",\"Penis_Size\",\"Penis_Size\",\"Penis_Size\",\"Penis_Size\",\"Penis_Size\",\"Penis_Size\",\"Penis_Size\",\"Penis_Size\",\"Penis_Size\",\"Penis_Size\",\"Penis_Size\",\"Penis_Size\",\"Penis_Size\",\"Penis_Size\",\"Penis_Size\",\"Penis_Size\",\"Penis_Size\",\"Penis_Size\",\"Penis_Size\",\"Penis_Size\",\"Penis_Size\",\"Penis_Size\",\"Penis_Size\",\"Penis_Size\",\"Penis_Size\"],\"yaxis\":\"y2\",\"type\":\"scatter\"}],                        {\"barmode\":\"overlay\",\"hovermode\":\"closest\",\"legend\":{\"traceorder\":\"reversed\"},\"xaxis\":{\"anchor\":\"y2\",\"domain\":[0.0,1.0],\"zeroline\":false},\"yaxis\":{\"anchor\":\"free\",\"domain\":[0.35,1],\"position\":0.0},\"yaxis2\":{\"anchor\":\"x\",\"domain\":[0,0.25],\"dtick\":1,\"showticklabels\":false},\"template\":{\"data\":{\"histogram2dcontour\":[{\"type\":\"histogram2dcontour\",\"colorbar\":{\"outlinewidth\":0,\"ticks\":\"\"},\"colorscale\":[[0.0,\"#0d0887\"],[0.1111111111111111,\"#46039f\"],[0.2222222222222222,\"#7201a8\"],[0.3333333333333333,\"#9c179e\"],[0.4444444444444444,\"#bd3786\"],[0.5555555555555556,\"#d8576b\"],[0.6666666666666666,\"#ed7953\"],[0.7777777777777778,\"#fb9f3a\"],[0.8888888888888888,\"#fdca26\"],[1.0,\"#f0f921\"]]}],\"choropleth\":[{\"type\":\"choropleth\",\"colorbar\":{\"outlinewidth\":0,\"ticks\":\"\"}}],\"histogram2d\":[{\"type\":\"histogram2d\",\"colorbar\":{\"outlinewidth\":0,\"ticks\":\"\"},\"colorscale\":[[0.0,\"#0d0887\"],[0.1111111111111111,\"#46039f\"],[0.2222222222222222,\"#7201a8\"],[0.3333333333333333,\"#9c179e\"],[0.4444444444444444,\"#bd3786\"],[0.5555555555555556,\"#d8576b\"],[0.6666666666666666,\"#ed7953\"],[0.7777777777777778,\"#fb9f3a\"],[0.8888888888888888,\"#fdca26\"],[1.0,\"#f0f921\"]]}],\"heatmap\":[{\"type\":\"heatmap\",\"colorbar\":{\"outlinewidth\":0,\"ticks\":\"\"},\"colorscale\":[[0.0,\"#0d0887\"],[0.1111111111111111,\"#46039f\"],[0.2222222222222222,\"#7201a8\"],[0.3333333333333333,\"#9c179e\"],[0.4444444444444444,\"#bd3786\"],[0.5555555555555556,\"#d8576b\"],[0.6666666666666666,\"#ed7953\"],[0.7777777777777778,\"#fb9f3a\"],[0.8888888888888888,\"#fdca26\"],[1.0,\"#f0f921\"]]}],\"heatmapgl\":[{\"type\":\"heatmapgl\",\"colorbar\":{\"outlinewidth\":0,\"ticks\":\"\"},\"colorscale\":[[0.0,\"#0d0887\"],[0.1111111111111111,\"#46039f\"],[0.2222222222222222,\"#7201a8\"],[0.3333333333333333,\"#9c179e\"],[0.4444444444444444,\"#bd3786\"],[0.5555555555555556,\"#d8576b\"],[0.6666666666666666,\"#ed7953\"],[0.7777777777777778,\"#fb9f3a\"],[0.8888888888888888,\"#fdca26\"],[1.0,\"#f0f921\"]]}],\"contourcarpet\":[{\"type\":\"contourcarpet\",\"colorbar\":{\"outlinewidth\":0,\"ticks\":\"\"}}],\"contour\":[{\"type\":\"contour\",\"colorbar\":{\"outlinewidth\":0,\"ticks\":\"\"},\"colorscale\":[[0.0,\"#0d0887\"],[0.1111111111111111,\"#46039f\"],[0.2222222222222222,\"#7201a8\"],[0.3333333333333333,\"#9c179e\"],[0.4444444444444444,\"#bd3786\"],[0.5555555555555556,\"#d8576b\"],[0.6666666666666666,\"#ed7953\"],[0.7777777777777778,\"#fb9f3a\"],[0.8888888888888888,\"#fdca26\"],[1.0,\"#f0f921\"]]}],\"surface\":[{\"type\":\"surface\",\"colorbar\":{\"outlinewidth\":0,\"ticks\":\"\"},\"colorscale\":[[0.0,\"#0d0887\"],[0.1111111111111111,\"#46039f\"],[0.2222222222222222,\"#7201a8\"],[0.3333333333333333,\"#9c179e\"],[0.4444444444444444,\"#bd3786\"],[0.5555555555555556,\"#d8576b\"],[0.6666666666666666,\"#ed7953\"],[0.7777777777777778,\"#fb9f3a\"],[0.8888888888888888,\"#fdca26\"],[1.0,\"#f0f921\"]]}],\"mesh3d\":[{\"type\":\"mesh3d\",\"colorbar\":{\"outlinewidth\":0,\"ticks\":\"\"}}],\"scatter\":[{\"fillpattern\":{\"fillmode\":\"overlay\",\"size\":10,\"solidity\":0.2},\"type\":\"scatter\"}],\"parcoords\":[{\"type\":\"parcoords\",\"line\":{\"colorbar\":{\"outlinewidth\":0,\"ticks\":\"\"}}}],\"scatterpolargl\":[{\"type\":\"scatterpolargl\",\"marker\":{\"colorbar\":{\"outlinewidth\":0,\"ticks\":\"\"}}}],\"bar\":[{\"error_x\":{\"color\":\"#2a3f5f\"},\"error_y\":{\"color\":\"#2a3f5f\"},\"marker\":{\"line\":{\"color\":\"#E5ECF6\",\"width\":0.5},\"pattern\":{\"fillmode\":\"overlay\",\"size\":10,\"solidity\":0.2}},\"type\":\"bar\"}],\"scattergeo\":[{\"type\":\"scattergeo\",\"marker\":{\"colorbar\":{\"outlinewidth\":0,\"ticks\":\"\"}}}],\"scatterpolar\":[{\"type\":\"scatterpolar\",\"marker\":{\"colorbar\":{\"outlinewidth\":0,\"ticks\":\"\"}}}],\"histogram\":[{\"marker\":{\"pattern\":{\"fillmode\":\"overlay\",\"size\":10,\"solidity\":0.2}},\"type\":\"histogram\"}],\"scattergl\":[{\"type\":\"scattergl\",\"marker\":{\"colorbar\":{\"outlinewidth\":0,\"ticks\":\"\"}}}],\"scatter3d\":[{\"type\":\"scatter3d\",\"line\":{\"colorbar\":{\"outlinewidth\":0,\"ticks\":\"\"}},\"marker\":{\"colorbar\":{\"outlinewidth\":0,\"ticks\":\"\"}}}],\"scattermapbox\":[{\"type\":\"scattermapbox\",\"marker\":{\"colorbar\":{\"outlinewidth\":0,\"ticks\":\"\"}}}],\"scatterternary\":[{\"type\":\"scatterternary\",\"marker\":{\"colorbar\":{\"outlinewidth\":0,\"ticks\":\"\"}}}],\"scattercarpet\":[{\"type\":\"scattercarpet\",\"marker\":{\"colorbar\":{\"outlinewidth\":0,\"ticks\":\"\"}}}],\"carpet\":[{\"aaxis\":{\"endlinecolor\":\"#2a3f5f\",\"gridcolor\":\"white\",\"linecolor\":\"white\",\"minorgridcolor\":\"white\",\"startlinecolor\":\"#2a3f5f\"},\"baxis\":{\"endlinecolor\":\"#2a3f5f\",\"gridcolor\":\"white\",\"linecolor\":\"white\",\"minorgridcolor\":\"white\",\"startlinecolor\":\"#2a3f5f\"},\"type\":\"carpet\"}],\"table\":[{\"cells\":{\"fill\":{\"color\":\"#EBF0F8\"},\"line\":{\"color\":\"white\"}},\"header\":{\"fill\":{\"color\":\"#C8D4E3\"},\"line\":{\"color\":\"white\"}},\"type\":\"table\"}],\"barpolar\":[{\"marker\":{\"line\":{\"color\":\"#E5ECF6\",\"width\":0.5},\"pattern\":{\"fillmode\":\"overlay\",\"size\":10,\"solidity\":0.2}},\"type\":\"barpolar\"}],\"pie\":[{\"automargin\":true,\"type\":\"pie\"}]},\"layout\":{\"autotypenumbers\":\"strict\",\"colorway\":[\"#636efa\",\"#EF553B\",\"#00cc96\",\"#ab63fa\",\"#FFA15A\",\"#19d3f3\",\"#FF6692\",\"#B6E880\",\"#FF97FF\",\"#FECB52\"],\"font\":{\"color\":\"#2a3f5f\"},\"hovermode\":\"closest\",\"hoverlabel\":{\"align\":\"left\"},\"paper_bgcolor\":\"white\",\"plot_bgcolor\":\"#E5ECF6\",\"polar\":{\"bgcolor\":\"#E5ECF6\",\"angularaxis\":{\"gridcolor\":\"white\",\"linecolor\":\"white\",\"ticks\":\"\"},\"radialaxis\":{\"gridcolor\":\"white\",\"linecolor\":\"white\",\"ticks\":\"\"}},\"ternary\":{\"bgcolor\":\"#E5ECF6\",\"aaxis\":{\"gridcolor\":\"white\",\"linecolor\":\"white\",\"ticks\":\"\"},\"baxis\":{\"gridcolor\":\"white\",\"linecolor\":\"white\",\"ticks\":\"\"},\"caxis\":{\"gridcolor\":\"white\",\"linecolor\":\"white\",\"ticks\":\"\"}},\"coloraxis\":{\"colorbar\":{\"outlinewidth\":0,\"ticks\":\"\"}},\"colorscale\":{\"sequential\":[[0.0,\"#0d0887\"],[0.1111111111111111,\"#46039f\"],[0.2222222222222222,\"#7201a8\"],[0.3333333333333333,\"#9c179e\"],[0.4444444444444444,\"#bd3786\"],[0.5555555555555556,\"#d8576b\"],[0.6666666666666666,\"#ed7953\"],[0.7777777777777778,\"#fb9f3a\"],[0.8888888888888888,\"#fdca26\"],[1.0,\"#f0f921\"]],\"sequentialminus\":[[0.0,\"#0d0887\"],[0.1111111111111111,\"#46039f\"],[0.2222222222222222,\"#7201a8\"],[0.3333333333333333,\"#9c179e\"],[0.4444444444444444,\"#bd3786\"],[0.5555555555555556,\"#d8576b\"],[0.6666666666666666,\"#ed7953\"],[0.7777777777777778,\"#fb9f3a\"],[0.8888888888888888,\"#fdca26\"],[1.0,\"#f0f921\"]],\"diverging\":[[0,\"#8e0152\"],[0.1,\"#c51b7d\"],[0.2,\"#de77ae\"],[0.3,\"#f1b6da\"],[0.4,\"#fde0ef\"],[0.5,\"#f7f7f7\"],[0.6,\"#e6f5d0\"],[0.7,\"#b8e186\"],[0.8,\"#7fbc41\"],[0.9,\"#4d9221\"],[1,\"#276419\"]]},\"xaxis\":{\"gridcolor\":\"white\",\"linecolor\":\"white\",\"ticks\":\"\",\"title\":{\"standoff\":15},\"zerolinecolor\":\"white\",\"automargin\":true,\"zerolinewidth\":2},\"yaxis\":{\"gridcolor\":\"white\",\"linecolor\":\"white\",\"ticks\":\"\",\"title\":{\"standoff\":15},\"zerolinecolor\":\"white\",\"automargin\":true,\"zerolinewidth\":2},\"scene\":{\"xaxis\":{\"backgroundcolor\":\"#E5ECF6\",\"gridcolor\":\"white\",\"linecolor\":\"white\",\"showbackground\":true,\"ticks\":\"\",\"zerolinecolor\":\"white\",\"gridwidth\":2},\"yaxis\":{\"backgroundcolor\":\"#E5ECF6\",\"gridcolor\":\"white\",\"linecolor\":\"white\",\"showbackground\":true,\"ticks\":\"\",\"zerolinecolor\":\"white\",\"gridwidth\":2},\"zaxis\":{\"backgroundcolor\":\"#E5ECF6\",\"gridcolor\":\"white\",\"linecolor\":\"white\",\"showbackground\":true,\"ticks\":\"\",\"zerolinecolor\":\"white\",\"gridwidth\":2}},\"shapedefaults\":{\"line\":{\"color\":\"#2a3f5f\"}},\"annotationdefaults\":{\"arrowcolor\":\"#2a3f5f\",\"arrowhead\":0,\"arrowwidth\":1},\"geo\":{\"bgcolor\":\"white\",\"landcolor\":\"#E5ECF6\",\"subunitcolor\":\"white\",\"showland\":true,\"showlakes\":true,\"lakecolor\":\"white\"},\"title\":{\"x\":0.05},\"mapbox\":{\"style\":\"light\"}}}},                        {\"responsive\": true}                    ).then(function(){\n",
       "                            \n",
       "var gd = document.getElementById('8aa1887e-a4e2-4a38-8794-7ba78eeb56c1');\n",
       "var x = new MutationObserver(function (mutations, observer) {{\n",
       "        var display = window.getComputedStyle(gd).display;\n",
       "        if (!display || display === 'none') {{\n",
       "            console.log([gd, 'removed!']);\n",
       "            Plotly.purge(gd);\n",
       "            observer.disconnect();\n",
       "        }}\n",
       "}});\n",
       "\n",
       "// Listen for the removal of the full notebook cells\n",
       "var notebookContainer = gd.closest('#notebook-container');\n",
       "if (notebookContainer) {{\n",
       "    x.observe(notebookContainer, {childList: true});\n",
       "}}\n",
       "\n",
       "// Listen for the clearing of the current output cell\n",
       "var outputEl = gd.closest('.output');\n",
       "if (outputEl) {{\n",
       "    x.observe(outputEl, {childList: true});\n",
       "}}\n",
       "\n",
       "                        })                };                });            </script>        </div>"
      ]
     },
     "metadata": {},
     "output_type": "display_data"
    }
   ],
   "source": [
    "column = 'Penis_Size'\n",
    "\n",
    "ff.create_distplot([df[column].values], [column], bin_size = 0.3)"
   ]
  },
  {
   "cell_type": "code",
   "execution_count": 43,
   "id": "3a79a34a",
   "metadata": {
    "ExecuteTime": {
     "end_time": "2022-04-22T17:13:17.711216Z",
     "start_time": "2022-04-22T17:13:17.671238Z"
    },
    "hidden": true
   },
   "outputs": [
    {
     "data": {
      "application/vnd.plotly.v1+json": {
       "config": {
        "plotlyServerURL": "https://plot.ly"
       },
       "data": [
        {
         "autobinx": false,
         "histnorm": "probability density",
         "legendgroup": "Body_Size",
         "marker": {
          "color": "rgb(31, 119, 180)"
         },
         "name": "Body_Size",
         "opacity": 0.7,
         "type": "histogram",
         "x": [
          167,
          171,
          168,
          171,
          172,
          175,
          168,
          184,
          173,
          167,
          178,
          168,
          178,
          173,
          170,
          175,
          173,
          171,
          174,
          168,
          171,
          168,
          175,
          180,
          173,
          174,
          169,
          176,
          170,
          182,
          174,
          170,
          180,
          179,
          181,
          180,
          178,
          173,
          178,
          180,
          174,
          168,
          179,
          170,
          179,
          180,
          180,
          174,
          175,
          178,
          176,
          180,
          176,
          180,
          175,
          173,
          166,
          168,
          176,
          177,
          172,
          173,
          173,
          179,
          176,
          175,
          173,
          178,
          175,
          176,
          179,
          170,
          177,
          163,
          173,
          167,
          175,
          166,
          173,
          168,
          168,
          171,
          165,
          174,
          167,
          165,
          166,
          165
         ],
         "xaxis": "x",
         "xbins": {
          "end": 184,
          "size": 1,
          "start": 163
         },
         "yaxis": "y"
        },
        {
         "legendgroup": "Body_Size",
         "marker": {
          "color": "rgb(31, 119, 180)"
         },
         "mode": "lines",
         "name": "Body_Size",
         "showlegend": false,
         "type": "scatter",
         "x": [
          163,
          163.042,
          163.084,
          163.126,
          163.168,
          163.21,
          163.252,
          163.294,
          163.336,
          163.378,
          163.42,
          163.462,
          163.504,
          163.546,
          163.588,
          163.63,
          163.672,
          163.714,
          163.756,
          163.798,
          163.84,
          163.882,
          163.924,
          163.966,
          164.008,
          164.05,
          164.092,
          164.134,
          164.176,
          164.218,
          164.26,
          164.302,
          164.344,
          164.386,
          164.428,
          164.47,
          164.512,
          164.554,
          164.596,
          164.638,
          164.68,
          164.722,
          164.764,
          164.806,
          164.848,
          164.89,
          164.932,
          164.974,
          165.016,
          165.058,
          165.1,
          165.142,
          165.184,
          165.226,
          165.268,
          165.31,
          165.352,
          165.394,
          165.436,
          165.478,
          165.52,
          165.562,
          165.604,
          165.646,
          165.688,
          165.73,
          165.772,
          165.814,
          165.856,
          165.898,
          165.94,
          165.982,
          166.024,
          166.066,
          166.108,
          166.15,
          166.192,
          166.234,
          166.276,
          166.318,
          166.36,
          166.402,
          166.444,
          166.486,
          166.528,
          166.57,
          166.612,
          166.654,
          166.696,
          166.738,
          166.78,
          166.822,
          166.864,
          166.906,
          166.948,
          166.99,
          167.032,
          167.074,
          167.11599999999999,
          167.158,
          167.2,
          167.242,
          167.284,
          167.326,
          167.368,
          167.41,
          167.452,
          167.494,
          167.536,
          167.578,
          167.62,
          167.662,
          167.704,
          167.746,
          167.788,
          167.83,
          167.872,
          167.914,
          167.956,
          167.998,
          168.04,
          168.082,
          168.124,
          168.166,
          168.208,
          168.25,
          168.292,
          168.334,
          168.376,
          168.418,
          168.46,
          168.502,
          168.544,
          168.586,
          168.628,
          168.67,
          168.712,
          168.754,
          168.796,
          168.838,
          168.88,
          168.922,
          168.964,
          169.006,
          169.048,
          169.09,
          169.132,
          169.174,
          169.216,
          169.258,
          169.3,
          169.342,
          169.38400000000001,
          169.426,
          169.468,
          169.51,
          169.552,
          169.594,
          169.636,
          169.678,
          169.72,
          169.762,
          169.804,
          169.846,
          169.888,
          169.93,
          169.972,
          170.014,
          170.056,
          170.098,
          170.14,
          170.182,
          170.224,
          170.266,
          170.308,
          170.35,
          170.392,
          170.434,
          170.476,
          170.518,
          170.56,
          170.602,
          170.644,
          170.686,
          170.728,
          170.77,
          170.812,
          170.854,
          170.896,
          170.938,
          170.98,
          171.022,
          171.064,
          171.106,
          171.148,
          171.19,
          171.232,
          171.274,
          171.316,
          171.358,
          171.4,
          171.442,
          171.484,
          171.526,
          171.568,
          171.61,
          171.652,
          171.694,
          171.736,
          171.778,
          171.82,
          171.862,
          171.904,
          171.946,
          171.988,
          172.03,
          172.072,
          172.114,
          172.156,
          172.198,
          172.24,
          172.282,
          172.324,
          172.36599999999999,
          172.408,
          172.45,
          172.492,
          172.534,
          172.576,
          172.618,
          172.66,
          172.702,
          172.744,
          172.786,
          172.828,
          172.87,
          172.912,
          172.954,
          172.996,
          173.038,
          173.08,
          173.122,
          173.164,
          173.206,
          173.248,
          173.29,
          173.332,
          173.374,
          173.416,
          173.458,
          173.5,
          173.542,
          173.584,
          173.626,
          173.668,
          173.71,
          173.752,
          173.794,
          173.836,
          173.878,
          173.92,
          173.962,
          174.004,
          174.046,
          174.088,
          174.13,
          174.172,
          174.214,
          174.256,
          174.298,
          174.34,
          174.382,
          174.424,
          174.466,
          174.508,
          174.55,
          174.592,
          174.63400000000001,
          174.676,
          174.718,
          174.76,
          174.802,
          174.844,
          174.886,
          174.928,
          174.97,
          175.012,
          175.054,
          175.096,
          175.138,
          175.18,
          175.222,
          175.264,
          175.306,
          175.348,
          175.39,
          175.432,
          175.474,
          175.516,
          175.558,
          175.6,
          175.642,
          175.684,
          175.726,
          175.768,
          175.81,
          175.852,
          175.894,
          175.936,
          175.978,
          176.02,
          176.062,
          176.10399999999998,
          176.14600000000002,
          176.188,
          176.23,
          176.272,
          176.314,
          176.356,
          176.398,
          176.44,
          176.482,
          176.524,
          176.566,
          176.608,
          176.65,
          176.692,
          176.734,
          176.776,
          176.818,
          176.86,
          176.902,
          176.944,
          176.986,
          177.028,
          177.07,
          177.112,
          177.154,
          177.196,
          177.238,
          177.28,
          177.322,
          177.364,
          177.406,
          177.448,
          177.49,
          177.532,
          177.574,
          177.61599999999999,
          177.658,
          177.7,
          177.742,
          177.784,
          177.826,
          177.868,
          177.91,
          177.952,
          177.994,
          178.036,
          178.078,
          178.12,
          178.162,
          178.204,
          178.246,
          178.288,
          178.33,
          178.372,
          178.414,
          178.456,
          178.498,
          178.54,
          178.582,
          178.624,
          178.666,
          178.708,
          178.75,
          178.792,
          178.834,
          178.876,
          178.918,
          178.96,
          179.002,
          179.044,
          179.086,
          179.128,
          179.17000000000002,
          179.212,
          179.254,
          179.296,
          179.338,
          179.38,
          179.422,
          179.464,
          179.506,
          179.548,
          179.59,
          179.632,
          179.674,
          179.716,
          179.758,
          179.8,
          179.84199999999998,
          179.88400000000001,
          179.926,
          179.968,
          180.01,
          180.052,
          180.094,
          180.136,
          180.178,
          180.22,
          180.262,
          180.304,
          180.346,
          180.388,
          180.43,
          180.472,
          180.514,
          180.556,
          180.598,
          180.64,
          180.682,
          180.724,
          180.766,
          180.808,
          180.85,
          180.892,
          180.934,
          180.976,
          181.018,
          181.06,
          181.102,
          181.144,
          181.186,
          181.228,
          181.27,
          181.312,
          181.35399999999998,
          181.39600000000002,
          181.438,
          181.48,
          181.522,
          181.564,
          181.606,
          181.648,
          181.69,
          181.732,
          181.774,
          181.816,
          181.858,
          181.9,
          181.942,
          181.984,
          182.026,
          182.068,
          182.11,
          182.152,
          182.194,
          182.236,
          182.278,
          182.32,
          182.362,
          182.404,
          182.446,
          182.488,
          182.53,
          182.572,
          182.614,
          182.656,
          182.698,
          182.74,
          182.782,
          182.824,
          182.86599999999999,
          182.90800000000002,
          182.95,
          182.992,
          183.034,
          183.076,
          183.118,
          183.16,
          183.202,
          183.244,
          183.286,
          183.328,
          183.37,
          183.412,
          183.454,
          183.496,
          183.538,
          183.57999999999998,
          183.622,
          183.664,
          183.706,
          183.748,
          183.79,
          183.832,
          183.874,
          183.916,
          183.958
         ],
         "xaxis": "x",
         "y": [
          0.01054976587274882,
          0.010810064197203931,
          0.01107465165104349,
          0.011343533236249353,
          0.011616711435158371,
          0.011894186129951845,
          0.012175954522733262,
          0.012462011056349967,
          0.012752347336117863,
          0.013046952052611811,
          0.013345810905688973,
          0.013648906529911452,
          0.01395621842154458,
          0.014267722867303233,
          0.014583392875025395,
          0.014903198106453396,
          0.015227104812306044,
          0.015555075769826917,
          0.015887070222996395,
          0.01622304382559689,
          0.01656294858732234,
          0.016906732823124847,
          0.01725434110599255,
          0.017605714223353892,
          0.017960789137304436,
          0.018319498948853208,
          0.018681772866385442,
          0.01904753617853877,
          0.01941671023169271,
          0.019789212412260632,
          0.020164956133989557,
          0.020543850830454645,
          0.020925801952943877,
          0.021310710973922578,
          0.02169847539626563,
          0.022088988768441477,
          0.022482140705828664,
          0.022877816918341218,
          0.023275899244534,
          0.023676265692353697,
          0.02407879048669471,
          0.02448334412391204,
          0.02488979343343571,
          0.025298001646622093,
          0.025707828472968687,
          0.026119130183807928,
          0.026531759703586306,
          0.026945566708817537,
          0.02736039773479511,
          0.027776096290125438,
          0.028192502979135108,
          0.028609455632186358,
          0.02902678944392006,
          0.029444337119427046,
          0.02986192902832998,
          0.03027939336673961,
          0.03069655632702769,
          0.03111324227533902,
          0.03152927393674214,
          0.03194447258789663,
          0.03235865825709111,
          0.032771649931482204,
          0.033183265771340745,
          0.03359332333108537,
          0.03400163978686309,
          0.034408032170398506,
          0.03481231760882706,
          0.035214313570182766,
          0.03561383811419634,
          0.03601071014802969,
          0.036404749686548325,
          0.03679577811670723,
          0.03718361846560179,
          0.037568095671710156,
          0.03794903685883111,
          0.038326271612197746,
          0.038699632256226024,
          0.03906895413333696,
          0.03943407588327185,
          0.03979483972230066,
          0.04015109172170919,
          0.04050268208493407,
          0.0408494654227031,
          0.041191301025522695,
          0.041528053132852814,
          0.04185959119829278,
          0.04218579015010386,
          0.042506530646385335,
          0.042821699324224964,
          0.04313118904214149,
          0.04343489911514428,
          0.043732735541738746,
          0.04402461122221634,
          0.044310446167577885,
          0.04459016769845345,
          0.04486371063339647,
          0.04513101746595018,
          0.045392038529902846,
          0.04564673215217251,
          0.045895064792789146,
          0.046137011171462995,
          0.04637255438026788,
          0.04660168598199028,
          0.04682440609373353,
          0.04704072345540085,
          0.04725065548271812,
          0.04745422830449468,
          0.04765147678386185,
          0.047842444523269405,
          0.0480271838530618,
          0.04820575580349981,
          0.04837823006013661,
          0.048544684902501946,
          0.04870520712609146,
          0.04885989194770535,
          0.04900884289422165,
          0.04915217167493818,
          0.049289998037657934,
          0.04942244960873722,
          0.04954966171735902,
          0.04967177720433552,
          0.04978894621578433,
          0.04990132598206175,
          0.05000908058237557,
          0.050112380695535204,
          0.05021140333733157,
          0.05030633158507308,
          0.05039735428983337,
          0.050484665776996354,
          0.050568465535709727,
          0.05064895789788418,
          0.05072635170739522,
          0.05080085998016646,
          0.050872699555829466,
          0.05094209074167047,
          0.051009256949586995,
          0.05107442432678657,
          0.05113782138096975,
          0.051199678600742635,
          0.05126022807200798,
          0.051319703091085626,
          0.05137833777531074,
          0.0514363666718542,
          0.05149402436550621,
          0.051551545086154456,
          0.051609162316679225,
          0.051667108401978794,
          0.05172561415982301,
          0.051784908494220676,
          0.05184521801197074,
          0.0519067666430506,
          0.05196977526547576,
          0.05203446133524924,
          0.05210103852199636,
          0.052169716350863635,
          0.05224069985123616,
          0.052314189212811335,
          0.052390379449540246,
          0.052469460071930686,
          0.052551614768181515,
          0.05263702109459792,
          0.052725850175714614,
          0.052818266414533584,
          0.05291442721326119,
          0.053014482704909785,
          0.05311857549610787,
          0.05322684042144505,
          0.0533394043096548,
          0.053456385761926295,
          0.0535778949426099,
          0.053704033382573374,
          0.05383489379543896,
          0.0539705599069241,
          0.054111106297487256,
          0.05425659825846745,
          0.05440709166189221,
          0.05456263284411199,
          0.05472325850340844,
          0.054888995611709165,
          0.05505986134052752,
          0.05523586300123608,
          0.0554169979997669,
          0.055603253805821644,
          0.05579460793665896,
          0.05599102795551937,
          0.05619247148472845,
          0.056398886233511664,
          0.0566102100405393,
          0.05682637093120504,
          0.057047287189630785,
          0.05727286744537213,
          0.057503010774788955,
          0.05773760681702509,
          0.05797653590452884,
          0.05821966920802669,
          0.058466868895847686,
          0.05871798830747542,
          0.058972872141186815,
          0.059231356655618655,
          0.059493269885080066,
          0.05975843186840964,
          0.060026654891155246,
          0.06029774374082982,
          0.06057149597497594,
          0.060847702201747574,
          0.06112614637269328,
          0.061406606087403004,
          0.06168885290965144,
          0.06197265269465169,
          0.06225776592700498,
          0.06254394806890626,
          0.0628309499181425,
          0.06311851797539614,
          0.06340639482033787,
          0.06369431949597361,
          0.06398202790068243,
          0.06426925318736254,
          0.06455572616907684,
          0.06484117573057124,
          0.06512532924501417,
          0.06540791299529046,
          0.06568865259916079,
          0.06596727343758269,
          0.06624350108547179,
          0.06651706174416926,
          0.06678768267486579,
          0.067055092632224,
          0.06731902229743093,
          0.06757920470990153,
          0.06783537569685148,
          0.06808727429995355,
          0.068334643198284,
          0.0685772291267736,
          0.0688147832893716,
          0.06904706176613869,
          0.06927382591348971,
          0.06949484275681304,
          0.0697098853747051,
          0.06991873327406653,
          0.07012117275532315,
          0.07031699726704708,
          0.07050600774927168,
          0.07068801296481192,
          0.0708628298179219,
          0.07103028365964208,
          0.07119020857921568,
          0.07134244768097399,
          0.07148685334611808,
          0.07162328747885463,
          0.07175162173636723,
          0.07187173774213884,
          0.07198352728216957,
          0.07208689248366607,
          0.07218174597581185,
          0.07226801103226119,
          0.07234562169503263,
          0.07241452287951387,
          0.07247467046032394,
          0.07252603133781461,
          0.072568583485028,
          0.07260231597496558,
          0.07262722898805608,
          0.07264333379975084,
          0.07265065274820764,
          0.07264921918206187,
          0.07263907738832068,
          0.07262028250045047,
          0.07259290038676425,
          0.07255700751925234,
          0.07251269082303177,
          0.07246004750662897,
          0.07239918487334064,
          0.07233022011395515,
          0.07225328008114769,
          0.07216850104589786,
          0.0720760284363081,
          0.071976016559238,
          0.0718686283051948,
          0.07175403483695773,
          0.07163241526243945,
          0.07150395629231933,
          0.07136885188301428,
          0.07122730286557587,
          0.07107951656113722,
          0.07092570638355447,
          0.07076609142991676,
          0.07060089605962289,
          0.0704303494627496,
          0.07025468521845671,
          0.07007414084420172,
          0.06988895733655487,
          0.06969937870442956,
          0.0695056514955618,
          0.06930802431709178,
          0.06910674735111945,
          0.06890207186612288,
          0.06869424972514265,
          0.0684835328916527,
          0.068270172934049,
          0.0680544205297001,
          0.06783652496951559,
          0.0676167336639944,
          0.0673952916517258,
          0.06717244111131994,
          0.06694842087774805,
          0.06672346596407755,
          0.06649780708958503,
          0.06627167021523098,
          0.06604527608747507,
          0.06581883979140643,
          0.06559257031415647,
          0.06536667011955068,
          0.06514133473494575,
          0.0649167523511822,
          0.0646931034365729,
          0.064470560365816,
          0.06424928706471739,
          0.06402943867157024,
          0.06381116121602054,
          0.06359459131621883,
          0.06337985589502723,
          0.06316707191601767,
          0.06295634613996444,
          0.06274777490249484,
          0.06254144391352291,
          0.06233742807905062,
          0.062135791345874096,
          0.06193658656969106,
          0.06173985540705294,
          0.06154562823155827,
          0.0613539240746322,
          0.06116475059118157,
          0.06097810405036206,
          0.06079396935163748,
          0.06061232006625134,
          0.06043311850417418,
          0.06025631580652993,
          0.06008185206344177,
          0.059909656457179127,
          0.059739647430423176,
          0.05957173287940637,
          0.05940581037161984,
          0.0592417673877185,
          0.05907948158719114,
          0.05891882109730314,
          0.05875964482475345,
          0.05860180278943246,
          0.05844513647960174,
          0.05828947922776328,
          0.058134656606424355,
          0.05798048684291217,
          0.057826781252335334,
          0.05767334468773969,
          0.05751997600645479,
          0.05736646855158047,
          0.05721261064751756,
          0.057058186108404664,
          0.05690297475828317,
          0.05674675296177589,
          0.056589294164031724,
          0.056430369438658125,
          0.05626974804233543,
          0.05610719797478593,
          0.05594248654274774,
          0.055775380926589575,
          0.05560564874818968,
          0.05543305863869222,
          0.05525738080475187,
          0.0550783875918738,
          0.054895854043463865,
          0.05470955845420458,
          0.054519282916389473,
          0.05432481385786049,
          0.05412594257021241,
          0.053922465725951864,
          0.05371418588332481,
          0.053500911977557554,
          0.05328245979728914,
          0.05305865244501332,
          0.05282932078038759,
          0.052594303845312856,
          0.05235344926973491,
          0.05210661365717047,
          0.051853662949015326,
          0.05159447276674719,
          0.05132892873119936,
          0.05105692675814077,
          0.050778373329459926,
          0.050493185739326714,
          0.05020129231476187,
          0.0499026326101237,
          0.04959715757508894,
          0.04928482969577856,
          0.04896562310875283,
          0.0486395236876761,
          0.04830652910252335,
          0.04796664885128094,
          0.047619904264164764,
          0.0472663284804574,
          0.046905966398138925,
          0.04653887459656124,
          0.046165121232488,
          0.0457847859098936,
          0.04539795952399174,
          0.045004744080016555,
          0.04460525248737157,
          0.044199608329800695,
          0.04378794561231755,
          0.043370408485679766,
          0.042947150949255705,
          0.04251833653318583,
          0.04208413796079248,
          0.04164473679223988,
          0.04120032305049322,
          0.040751094830665226,
          0.040297257893878856,
          0.03983902524680864,
          0.03937661670809423,
          0.03891025846284606,
          0.03844018260648726,
          0.03796662667919248,
          0.03748983319220484,
          0.037010049147316725,
          0.03652752555080894,
          0.036042516923149796,
          0.03555528080574899,
          0.03506607726605899,
          0.03457516840230672,
          0.03408281784912532,
          0.03358929028533954,
          0.03309485094513621,
          0.0325997651338296,
          0.03210429774940101,
          0.03160871281096279,
          0.031113272995262585,
          0.030618239182304843,
          0.03012387001112788,
          0.029630421446731545,
          0.029138146359101457,
          0.02864729411523901,
          0.028158110185033332,
          0.02767083576179074,
          0.027185707398152417,
          0.026702956658096216,
          0.026222809785652182,
          0.02574548739090546,
          0.025271204153801175,
          0.02480016854620564,
          0.024332582572618416,
          0.02386864152986802,
          0.0234085337860647,
          0.02295244057902196,
          0.022500535834298445,
          0.022052986002952708,
          0.021609949919043536,
          0.021171578676849327,
          0.0207380155277291,
          0.02030939579647956,
          0.01988584681700521,
          0.019467487887049384,
          0.019054430241695657,
          0.018646777045293484,
          0.018244623401417647,
          0.01784805638042625,
          0.017457155064139078,
          0.017071990607119274,
          0.016692626314002843,
          0.016319117732286854,
          0.015951512759954326,
          0.01558985176728467,
          0.015234167732172054,
          0.014884486388249931,
          0.014540826385099558,
          0.01420319945980168,
          0.013871610619074113,
          0.013546058331231386,
          0.013226534727179487,
          0.01291302580967162,
          0.012605511670026716,
          0.012303966711525066,
          0.012008359878690094,
          0.011718654891670736,
          0.011434810484945162,
          0.011156780649574939,
          0.010884514878249886,
          0.010617958412377197,
          0.010357052490483281,
          0.010101734597214607,
          0.009851938712242717,
          0.009607595558399741,
          0.00936863284839364,
          0.0091349755294742,
          0.008906546025454407,
          0.008683264475503157,
          0.008465048969173024,
          0.008251815777138315,
          0.008043479577159656,
          0.007839953674816826,
          0.007641150218584614,
          0.007446980408857691
         ],
         "yaxis": "y"
        },
        {
         "legendgroup": "Body_Size",
         "marker": {
          "color": "rgb(31, 119, 180)",
          "symbol": "line-ns-open"
         },
         "mode": "markers",
         "name": "Body_Size",
         "showlegend": false,
         "type": "scatter",
         "x": [
          167,
          171,
          168,
          171,
          172,
          175,
          168,
          184,
          173,
          167,
          178,
          168,
          178,
          173,
          170,
          175,
          173,
          171,
          174,
          168,
          171,
          168,
          175,
          180,
          173,
          174,
          169,
          176,
          170,
          182,
          174,
          170,
          180,
          179,
          181,
          180,
          178,
          173,
          178,
          180,
          174,
          168,
          179,
          170,
          179,
          180,
          180,
          174,
          175,
          178,
          176,
          180,
          176,
          180,
          175,
          173,
          166,
          168,
          176,
          177,
          172,
          173,
          173,
          179,
          176,
          175,
          173,
          178,
          175,
          176,
          179,
          170,
          177,
          163,
          173,
          167,
          175,
          166,
          173,
          168,
          168,
          171,
          165,
          174,
          167,
          165,
          166,
          165
         ],
         "xaxis": "x",
         "y": [
          "Body_Size",
          "Body_Size",
          "Body_Size",
          "Body_Size",
          "Body_Size",
          "Body_Size",
          "Body_Size",
          "Body_Size",
          "Body_Size",
          "Body_Size",
          "Body_Size",
          "Body_Size",
          "Body_Size",
          "Body_Size",
          "Body_Size",
          "Body_Size",
          "Body_Size",
          "Body_Size",
          "Body_Size",
          "Body_Size",
          "Body_Size",
          "Body_Size",
          "Body_Size",
          "Body_Size",
          "Body_Size",
          "Body_Size",
          "Body_Size",
          "Body_Size",
          "Body_Size",
          "Body_Size",
          "Body_Size",
          "Body_Size",
          "Body_Size",
          "Body_Size",
          "Body_Size",
          "Body_Size",
          "Body_Size",
          "Body_Size",
          "Body_Size",
          "Body_Size",
          "Body_Size",
          "Body_Size",
          "Body_Size",
          "Body_Size",
          "Body_Size",
          "Body_Size",
          "Body_Size",
          "Body_Size",
          "Body_Size",
          "Body_Size",
          "Body_Size",
          "Body_Size",
          "Body_Size",
          "Body_Size",
          "Body_Size",
          "Body_Size",
          "Body_Size",
          "Body_Size",
          "Body_Size",
          "Body_Size",
          "Body_Size",
          "Body_Size",
          "Body_Size",
          "Body_Size",
          "Body_Size",
          "Body_Size",
          "Body_Size",
          "Body_Size",
          "Body_Size",
          "Body_Size",
          "Body_Size",
          "Body_Size",
          "Body_Size",
          "Body_Size",
          "Body_Size",
          "Body_Size",
          "Body_Size",
          "Body_Size",
          "Body_Size",
          "Body_Size",
          "Body_Size",
          "Body_Size",
          "Body_Size",
          "Body_Size",
          "Body_Size",
          "Body_Size",
          "Body_Size",
          "Body_Size"
         ],
         "yaxis": "y2"
        }
       ],
       "layout": {
        "barmode": "overlay",
        "hovermode": "closest",
        "legend": {
         "traceorder": "reversed"
        },
        "template": {
         "data": {
          "bar": [
           {
            "error_x": {
             "color": "#2a3f5f"
            },
            "error_y": {
             "color": "#2a3f5f"
            },
            "marker": {
             "line": {
              "color": "#E5ECF6",
              "width": 0.5
             },
             "pattern": {
              "fillmode": "overlay",
              "size": 10,
              "solidity": 0.2
             }
            },
            "type": "bar"
           }
          ],
          "barpolar": [
           {
            "marker": {
             "line": {
              "color": "#E5ECF6",
              "width": 0.5
             },
             "pattern": {
              "fillmode": "overlay",
              "size": 10,
              "solidity": 0.2
             }
            },
            "type": "barpolar"
           }
          ],
          "carpet": [
           {
            "aaxis": {
             "endlinecolor": "#2a3f5f",
             "gridcolor": "white",
             "linecolor": "white",
             "minorgridcolor": "white",
             "startlinecolor": "#2a3f5f"
            },
            "baxis": {
             "endlinecolor": "#2a3f5f",
             "gridcolor": "white",
             "linecolor": "white",
             "minorgridcolor": "white",
             "startlinecolor": "#2a3f5f"
            },
            "type": "carpet"
           }
          ],
          "choropleth": [
           {
            "colorbar": {
             "outlinewidth": 0,
             "ticks": ""
            },
            "type": "choropleth"
           }
          ],
          "contour": [
           {
            "colorbar": {
             "outlinewidth": 0,
             "ticks": ""
            },
            "colorscale": [
             [
              0,
              "#0d0887"
             ],
             [
              0.1111111111111111,
              "#46039f"
             ],
             [
              0.2222222222222222,
              "#7201a8"
             ],
             [
              0.3333333333333333,
              "#9c179e"
             ],
             [
              0.4444444444444444,
              "#bd3786"
             ],
             [
              0.5555555555555556,
              "#d8576b"
             ],
             [
              0.6666666666666666,
              "#ed7953"
             ],
             [
              0.7777777777777778,
              "#fb9f3a"
             ],
             [
              0.8888888888888888,
              "#fdca26"
             ],
             [
              1,
              "#f0f921"
             ]
            ],
            "type": "contour"
           }
          ],
          "contourcarpet": [
           {
            "colorbar": {
             "outlinewidth": 0,
             "ticks": ""
            },
            "type": "contourcarpet"
           }
          ],
          "heatmap": [
           {
            "colorbar": {
             "outlinewidth": 0,
             "ticks": ""
            },
            "colorscale": [
             [
              0,
              "#0d0887"
             ],
             [
              0.1111111111111111,
              "#46039f"
             ],
             [
              0.2222222222222222,
              "#7201a8"
             ],
             [
              0.3333333333333333,
              "#9c179e"
             ],
             [
              0.4444444444444444,
              "#bd3786"
             ],
             [
              0.5555555555555556,
              "#d8576b"
             ],
             [
              0.6666666666666666,
              "#ed7953"
             ],
             [
              0.7777777777777778,
              "#fb9f3a"
             ],
             [
              0.8888888888888888,
              "#fdca26"
             ],
             [
              1,
              "#f0f921"
             ]
            ],
            "type": "heatmap"
           }
          ],
          "heatmapgl": [
           {
            "colorbar": {
             "outlinewidth": 0,
             "ticks": ""
            },
            "colorscale": [
             [
              0,
              "#0d0887"
             ],
             [
              0.1111111111111111,
              "#46039f"
             ],
             [
              0.2222222222222222,
              "#7201a8"
             ],
             [
              0.3333333333333333,
              "#9c179e"
             ],
             [
              0.4444444444444444,
              "#bd3786"
             ],
             [
              0.5555555555555556,
              "#d8576b"
             ],
             [
              0.6666666666666666,
              "#ed7953"
             ],
             [
              0.7777777777777778,
              "#fb9f3a"
             ],
             [
              0.8888888888888888,
              "#fdca26"
             ],
             [
              1,
              "#f0f921"
             ]
            ],
            "type": "heatmapgl"
           }
          ],
          "histogram": [
           {
            "marker": {
             "pattern": {
              "fillmode": "overlay",
              "size": 10,
              "solidity": 0.2
             }
            },
            "type": "histogram"
           }
          ],
          "histogram2d": [
           {
            "colorbar": {
             "outlinewidth": 0,
             "ticks": ""
            },
            "colorscale": [
             [
              0,
              "#0d0887"
             ],
             [
              0.1111111111111111,
              "#46039f"
             ],
             [
              0.2222222222222222,
              "#7201a8"
             ],
             [
              0.3333333333333333,
              "#9c179e"
             ],
             [
              0.4444444444444444,
              "#bd3786"
             ],
             [
              0.5555555555555556,
              "#d8576b"
             ],
             [
              0.6666666666666666,
              "#ed7953"
             ],
             [
              0.7777777777777778,
              "#fb9f3a"
             ],
             [
              0.8888888888888888,
              "#fdca26"
             ],
             [
              1,
              "#f0f921"
             ]
            ],
            "type": "histogram2d"
           }
          ],
          "histogram2dcontour": [
           {
            "colorbar": {
             "outlinewidth": 0,
             "ticks": ""
            },
            "colorscale": [
             [
              0,
              "#0d0887"
             ],
             [
              0.1111111111111111,
              "#46039f"
             ],
             [
              0.2222222222222222,
              "#7201a8"
             ],
             [
              0.3333333333333333,
              "#9c179e"
             ],
             [
              0.4444444444444444,
              "#bd3786"
             ],
             [
              0.5555555555555556,
              "#d8576b"
             ],
             [
              0.6666666666666666,
              "#ed7953"
             ],
             [
              0.7777777777777778,
              "#fb9f3a"
             ],
             [
              0.8888888888888888,
              "#fdca26"
             ],
             [
              1,
              "#f0f921"
             ]
            ],
            "type": "histogram2dcontour"
           }
          ],
          "mesh3d": [
           {
            "colorbar": {
             "outlinewidth": 0,
             "ticks": ""
            },
            "type": "mesh3d"
           }
          ],
          "parcoords": [
           {
            "line": {
             "colorbar": {
              "outlinewidth": 0,
              "ticks": ""
             }
            },
            "type": "parcoords"
           }
          ],
          "pie": [
           {
            "automargin": true,
            "type": "pie"
           }
          ],
          "scatter": [
           {
            "fillpattern": {
             "fillmode": "overlay",
             "size": 10,
             "solidity": 0.2
            },
            "type": "scatter"
           }
          ],
          "scatter3d": [
           {
            "line": {
             "colorbar": {
              "outlinewidth": 0,
              "ticks": ""
             }
            },
            "marker": {
             "colorbar": {
              "outlinewidth": 0,
              "ticks": ""
             }
            },
            "type": "scatter3d"
           }
          ],
          "scattercarpet": [
           {
            "marker": {
             "colorbar": {
              "outlinewidth": 0,
              "ticks": ""
             }
            },
            "type": "scattercarpet"
           }
          ],
          "scattergeo": [
           {
            "marker": {
             "colorbar": {
              "outlinewidth": 0,
              "ticks": ""
             }
            },
            "type": "scattergeo"
           }
          ],
          "scattergl": [
           {
            "marker": {
             "colorbar": {
              "outlinewidth": 0,
              "ticks": ""
             }
            },
            "type": "scattergl"
           }
          ],
          "scattermapbox": [
           {
            "marker": {
             "colorbar": {
              "outlinewidth": 0,
              "ticks": ""
             }
            },
            "type": "scattermapbox"
           }
          ],
          "scatterpolar": [
           {
            "marker": {
             "colorbar": {
              "outlinewidth": 0,
              "ticks": ""
             }
            },
            "type": "scatterpolar"
           }
          ],
          "scatterpolargl": [
           {
            "marker": {
             "colorbar": {
              "outlinewidth": 0,
              "ticks": ""
             }
            },
            "type": "scatterpolargl"
           }
          ],
          "scatterternary": [
           {
            "marker": {
             "colorbar": {
              "outlinewidth": 0,
              "ticks": ""
             }
            },
            "type": "scatterternary"
           }
          ],
          "surface": [
           {
            "colorbar": {
             "outlinewidth": 0,
             "ticks": ""
            },
            "colorscale": [
             [
              0,
              "#0d0887"
             ],
             [
              0.1111111111111111,
              "#46039f"
             ],
             [
              0.2222222222222222,
              "#7201a8"
             ],
             [
              0.3333333333333333,
              "#9c179e"
             ],
             [
              0.4444444444444444,
              "#bd3786"
             ],
             [
              0.5555555555555556,
              "#d8576b"
             ],
             [
              0.6666666666666666,
              "#ed7953"
             ],
             [
              0.7777777777777778,
              "#fb9f3a"
             ],
             [
              0.8888888888888888,
              "#fdca26"
             ],
             [
              1,
              "#f0f921"
             ]
            ],
            "type": "surface"
           }
          ],
          "table": [
           {
            "cells": {
             "fill": {
              "color": "#EBF0F8"
             },
             "line": {
              "color": "white"
             }
            },
            "header": {
             "fill": {
              "color": "#C8D4E3"
             },
             "line": {
              "color": "white"
             }
            },
            "type": "table"
           }
          ]
         },
         "layout": {
          "annotationdefaults": {
           "arrowcolor": "#2a3f5f",
           "arrowhead": 0,
           "arrowwidth": 1
          },
          "autotypenumbers": "strict",
          "coloraxis": {
           "colorbar": {
            "outlinewidth": 0,
            "ticks": ""
           }
          },
          "colorscale": {
           "diverging": [
            [
             0,
             "#8e0152"
            ],
            [
             0.1,
             "#c51b7d"
            ],
            [
             0.2,
             "#de77ae"
            ],
            [
             0.3,
             "#f1b6da"
            ],
            [
             0.4,
             "#fde0ef"
            ],
            [
             0.5,
             "#f7f7f7"
            ],
            [
             0.6,
             "#e6f5d0"
            ],
            [
             0.7,
             "#b8e186"
            ],
            [
             0.8,
             "#7fbc41"
            ],
            [
             0.9,
             "#4d9221"
            ],
            [
             1,
             "#276419"
            ]
           ],
           "sequential": [
            [
             0,
             "#0d0887"
            ],
            [
             0.1111111111111111,
             "#46039f"
            ],
            [
             0.2222222222222222,
             "#7201a8"
            ],
            [
             0.3333333333333333,
             "#9c179e"
            ],
            [
             0.4444444444444444,
             "#bd3786"
            ],
            [
             0.5555555555555556,
             "#d8576b"
            ],
            [
             0.6666666666666666,
             "#ed7953"
            ],
            [
             0.7777777777777778,
             "#fb9f3a"
            ],
            [
             0.8888888888888888,
             "#fdca26"
            ],
            [
             1,
             "#f0f921"
            ]
           ],
           "sequentialminus": [
            [
             0,
             "#0d0887"
            ],
            [
             0.1111111111111111,
             "#46039f"
            ],
            [
             0.2222222222222222,
             "#7201a8"
            ],
            [
             0.3333333333333333,
             "#9c179e"
            ],
            [
             0.4444444444444444,
             "#bd3786"
            ],
            [
             0.5555555555555556,
             "#d8576b"
            ],
            [
             0.6666666666666666,
             "#ed7953"
            ],
            [
             0.7777777777777778,
             "#fb9f3a"
            ],
            [
             0.8888888888888888,
             "#fdca26"
            ],
            [
             1,
             "#f0f921"
            ]
           ]
          },
          "colorway": [
           "#636efa",
           "#EF553B",
           "#00cc96",
           "#ab63fa",
           "#FFA15A",
           "#19d3f3",
           "#FF6692",
           "#B6E880",
           "#FF97FF",
           "#FECB52"
          ],
          "font": {
           "color": "#2a3f5f"
          },
          "geo": {
           "bgcolor": "white",
           "lakecolor": "white",
           "landcolor": "#E5ECF6",
           "showlakes": true,
           "showland": true,
           "subunitcolor": "white"
          },
          "hoverlabel": {
           "align": "left"
          },
          "hovermode": "closest",
          "mapbox": {
           "style": "light"
          },
          "paper_bgcolor": "white",
          "plot_bgcolor": "#E5ECF6",
          "polar": {
           "angularaxis": {
            "gridcolor": "white",
            "linecolor": "white",
            "ticks": ""
           },
           "bgcolor": "#E5ECF6",
           "radialaxis": {
            "gridcolor": "white",
            "linecolor": "white",
            "ticks": ""
           }
          },
          "scene": {
           "xaxis": {
            "backgroundcolor": "#E5ECF6",
            "gridcolor": "white",
            "gridwidth": 2,
            "linecolor": "white",
            "showbackground": true,
            "ticks": "",
            "zerolinecolor": "white"
           },
           "yaxis": {
            "backgroundcolor": "#E5ECF6",
            "gridcolor": "white",
            "gridwidth": 2,
            "linecolor": "white",
            "showbackground": true,
            "ticks": "",
            "zerolinecolor": "white"
           },
           "zaxis": {
            "backgroundcolor": "#E5ECF6",
            "gridcolor": "white",
            "gridwidth": 2,
            "linecolor": "white",
            "showbackground": true,
            "ticks": "",
            "zerolinecolor": "white"
           }
          },
          "shapedefaults": {
           "line": {
            "color": "#2a3f5f"
           }
          },
          "ternary": {
           "aaxis": {
            "gridcolor": "white",
            "linecolor": "white",
            "ticks": ""
           },
           "baxis": {
            "gridcolor": "white",
            "linecolor": "white",
            "ticks": ""
           },
           "bgcolor": "#E5ECF6",
           "caxis": {
            "gridcolor": "white",
            "linecolor": "white",
            "ticks": ""
           }
          },
          "title": {
           "x": 0.05
          },
          "xaxis": {
           "automargin": true,
           "gridcolor": "white",
           "linecolor": "white",
           "ticks": "",
           "title": {
            "standoff": 15
           },
           "zerolinecolor": "white",
           "zerolinewidth": 2
          },
          "yaxis": {
           "automargin": true,
           "gridcolor": "white",
           "linecolor": "white",
           "ticks": "",
           "title": {
            "standoff": 15
           },
           "zerolinecolor": "white",
           "zerolinewidth": 2
          }
         }
        },
        "xaxis": {
         "anchor": "y2",
         "domain": [
          0,
          1
         ],
         "zeroline": false
        },
        "yaxis": {
         "anchor": "free",
         "domain": [
          0.35,
          1
         ],
         "position": 0
        },
        "yaxis2": {
         "anchor": "x",
         "domain": [
          0,
          0.25
         ],
         "dtick": 1,
         "showticklabels": false
        }
       }
      },
      "text/html": [
       "<div>                            <div id=\"8666f3a0-79b8-4d2a-97f9-aec18b5b5e8f\" class=\"plotly-graph-div\" style=\"height:525px; width:100%;\"></div>            <script type=\"text/javascript\">                require([\"plotly\"], function(Plotly) {                    window.PLOTLYENV=window.PLOTLYENV || {};                                    if (document.getElementById(\"8666f3a0-79b8-4d2a-97f9-aec18b5b5e8f\")) {                    Plotly.newPlot(                        \"8666f3a0-79b8-4d2a-97f9-aec18b5b5e8f\",                        [{\"autobinx\":false,\"histnorm\":\"probability density\",\"legendgroup\":\"Body_Size\",\"marker\":{\"color\":\"rgb(31, 119, 180)\"},\"name\":\"Body_Size\",\"opacity\":0.7,\"x\":[167.0,171.0,168.0,171.0,172.0,175.0,168.0,184.0,173.0,167.0,178.0,168.0,178.0,173.0,170.0,175.0,173.0,171.0,174.0,168.0,171.0,168.0,175.0,180.0,173.0,174.0,169.0,176.0,170.0,182.0,174.0,170.0,180.0,179.0,181.0,180.0,178.0,173.0,178.0,180.0,174.0,168.0,179.0,170.0,179.0,180.0,180.0,174.0,175.0,178.0,176.0,180.0,176.0,180.0,175.0,173.0,166.0,168.0,176.0,177.0,172.0,173.0,173.0,179.0,176.0,175.0,173.0,178.0,175.0,176.0,179.0,170.0,177.0,163.0,173.0,167.0,175.0,166.0,173.0,168.0,168.0,171.0,165.0,174.0,167.0,165.0,166.0,165.0],\"xaxis\":\"x\",\"xbins\":{\"end\":184.0,\"size\":1,\"start\":163.0},\"yaxis\":\"y\",\"type\":\"histogram\"},{\"legendgroup\":\"Body_Size\",\"marker\":{\"color\":\"rgb(31, 119, 180)\"},\"mode\":\"lines\",\"name\":\"Body_Size\",\"showlegend\":false,\"x\":[163.0,163.042,163.084,163.126,163.168,163.21,163.252,163.294,163.336,163.378,163.42,163.462,163.504,163.546,163.588,163.63,163.672,163.714,163.756,163.798,163.84,163.882,163.924,163.966,164.008,164.05,164.092,164.134,164.176,164.218,164.26,164.302,164.344,164.386,164.428,164.47,164.512,164.554,164.596,164.638,164.68,164.722,164.764,164.806,164.848,164.89,164.932,164.974,165.016,165.058,165.1,165.142,165.184,165.226,165.268,165.31,165.352,165.394,165.436,165.478,165.52,165.562,165.604,165.646,165.688,165.73,165.772,165.814,165.856,165.898,165.94,165.982,166.024,166.066,166.108,166.15,166.192,166.234,166.276,166.318,166.36,166.402,166.444,166.486,166.528,166.57,166.612,166.654,166.696,166.738,166.78,166.822,166.864,166.906,166.948,166.99,167.032,167.074,167.11599999999999,167.158,167.2,167.242,167.284,167.326,167.368,167.41,167.452,167.494,167.536,167.578,167.62,167.662,167.704,167.746,167.788,167.83,167.872,167.914,167.956,167.998,168.04,168.082,168.124,168.166,168.208,168.25,168.292,168.334,168.376,168.418,168.46,168.502,168.544,168.586,168.628,168.67,168.712,168.754,168.796,168.838,168.88,168.922,168.964,169.006,169.048,169.09,169.132,169.174,169.216,169.258,169.3,169.342,169.38400000000001,169.426,169.468,169.51,169.552,169.594,169.636,169.678,169.72,169.762,169.804,169.846,169.888,169.93,169.972,170.014,170.056,170.098,170.14,170.182,170.224,170.266,170.308,170.35,170.392,170.434,170.476,170.518,170.56,170.602,170.644,170.686,170.728,170.77,170.812,170.854,170.896,170.938,170.98,171.022,171.064,171.106,171.148,171.19,171.232,171.274,171.316,171.358,171.4,171.442,171.484,171.526,171.568,171.61,171.652,171.694,171.736,171.778,171.82,171.862,171.904,171.946,171.988,172.03,172.072,172.114,172.156,172.198,172.24,172.282,172.324,172.36599999999999,172.408,172.45,172.492,172.534,172.576,172.618,172.66,172.702,172.744,172.786,172.828,172.87,172.912,172.954,172.996,173.038,173.08,173.122,173.164,173.206,173.248,173.29,173.332,173.374,173.416,173.458,173.5,173.542,173.584,173.626,173.668,173.71,173.752,173.794,173.836,173.878,173.92,173.962,174.004,174.046,174.088,174.13,174.172,174.214,174.256,174.298,174.34,174.382,174.424,174.466,174.508,174.55,174.592,174.63400000000001,174.676,174.718,174.76,174.802,174.844,174.886,174.928,174.97,175.012,175.054,175.096,175.138,175.18,175.222,175.264,175.306,175.348,175.39,175.432,175.474,175.516,175.558,175.6,175.642,175.684,175.726,175.768,175.81,175.852,175.894,175.936,175.978,176.02,176.062,176.10399999999998,176.14600000000002,176.188,176.23,176.272,176.314,176.356,176.398,176.44,176.482,176.524,176.566,176.608,176.65,176.692,176.734,176.776,176.818,176.86,176.902,176.944,176.986,177.028,177.07,177.112,177.154,177.196,177.238,177.28,177.322,177.364,177.406,177.448,177.49,177.532,177.574,177.61599999999999,177.658,177.7,177.742,177.784,177.826,177.868,177.91,177.952,177.994,178.036,178.078,178.12,178.162,178.204,178.246,178.288,178.33,178.372,178.414,178.456,178.498,178.54,178.582,178.624,178.666,178.708,178.75,178.792,178.834,178.876,178.918,178.96,179.002,179.044,179.086,179.128,179.17000000000002,179.212,179.254,179.296,179.338,179.38,179.422,179.464,179.506,179.548,179.59,179.632,179.674,179.716,179.758,179.8,179.84199999999998,179.88400000000001,179.926,179.968,180.01,180.052,180.094,180.136,180.178,180.22,180.262,180.304,180.346,180.388,180.43,180.472,180.514,180.556,180.598,180.64,180.682,180.724,180.766,180.808,180.85,180.892,180.934,180.976,181.018,181.06,181.102,181.144,181.186,181.228,181.27,181.312,181.35399999999998,181.39600000000002,181.438,181.48,181.522,181.564,181.606,181.648,181.69,181.732,181.774,181.816,181.858,181.9,181.942,181.984,182.026,182.068,182.11,182.152,182.194,182.236,182.278,182.32,182.362,182.404,182.446,182.488,182.53,182.572,182.614,182.656,182.698,182.74,182.782,182.824,182.86599999999999,182.90800000000002,182.95,182.992,183.034,183.076,183.118,183.16,183.202,183.244,183.286,183.328,183.37,183.412,183.454,183.496,183.538,183.57999999999998,183.622,183.664,183.706,183.748,183.79,183.832,183.874,183.916,183.958],\"xaxis\":\"x\",\"y\":[0.01054976587274882,0.010810064197203931,0.01107465165104349,0.011343533236249353,0.011616711435158371,0.011894186129951845,0.012175954522733262,0.012462011056349967,0.012752347336117863,0.013046952052611811,0.013345810905688973,0.013648906529911452,0.01395621842154458,0.014267722867303233,0.014583392875025395,0.014903198106453396,0.015227104812306044,0.015555075769826917,0.015887070222996395,0.01622304382559689,0.01656294858732234,0.016906732823124847,0.01725434110599255,0.017605714223353892,0.017960789137304436,0.018319498948853208,0.018681772866385442,0.01904753617853877,0.01941671023169271,0.019789212412260632,0.020164956133989557,0.020543850830454645,0.020925801952943877,0.021310710973922578,0.02169847539626563,0.022088988768441477,0.022482140705828664,0.022877816918341218,0.023275899244534,0.023676265692353697,0.02407879048669471,0.02448334412391204,0.02488979343343571,0.025298001646622093,0.025707828472968687,0.026119130183807928,0.026531759703586306,0.026945566708817537,0.02736039773479511,0.027776096290125438,0.028192502979135108,0.028609455632186358,0.02902678944392006,0.029444337119427046,0.02986192902832998,0.03027939336673961,0.03069655632702769,0.03111324227533902,0.03152927393674214,0.03194447258789663,0.03235865825709111,0.032771649931482204,0.033183265771340745,0.03359332333108537,0.03400163978686309,0.034408032170398506,0.03481231760882706,0.035214313570182766,0.03561383811419634,0.03601071014802969,0.036404749686548325,0.03679577811670723,0.03718361846560179,0.037568095671710156,0.03794903685883111,0.038326271612197746,0.038699632256226024,0.03906895413333696,0.03943407588327185,0.03979483972230066,0.04015109172170919,0.04050268208493407,0.0408494654227031,0.041191301025522695,0.041528053132852814,0.04185959119829278,0.04218579015010386,0.042506530646385335,0.042821699324224964,0.04313118904214149,0.04343489911514428,0.043732735541738746,0.04402461122221634,0.044310446167577885,0.04459016769845345,0.04486371063339647,0.04513101746595018,0.045392038529902846,0.04564673215217251,0.045895064792789146,0.046137011171462995,0.04637255438026788,0.04660168598199028,0.04682440609373353,0.04704072345540085,0.04725065548271812,0.04745422830449468,0.04765147678386185,0.047842444523269405,0.0480271838530618,0.04820575580349981,0.04837823006013661,0.048544684902501946,0.04870520712609146,0.04885989194770535,0.04900884289422165,0.04915217167493818,0.049289998037657934,0.04942244960873722,0.04954966171735902,0.04967177720433552,0.04978894621578433,0.04990132598206175,0.05000908058237557,0.050112380695535204,0.05021140333733157,0.05030633158507308,0.05039735428983337,0.050484665776996354,0.050568465535709727,0.05064895789788418,0.05072635170739522,0.05080085998016646,0.050872699555829466,0.05094209074167047,0.051009256949586995,0.05107442432678657,0.05113782138096975,0.051199678600742635,0.05126022807200798,0.051319703091085626,0.05137833777531074,0.0514363666718542,0.05149402436550621,0.051551545086154456,0.051609162316679225,0.051667108401978794,0.05172561415982301,0.051784908494220676,0.05184521801197074,0.0519067666430506,0.05196977526547576,0.05203446133524924,0.05210103852199636,0.052169716350863635,0.05224069985123616,0.052314189212811335,0.052390379449540246,0.052469460071930686,0.052551614768181515,0.05263702109459792,0.052725850175714614,0.052818266414533584,0.05291442721326119,0.053014482704909785,0.05311857549610787,0.05322684042144505,0.0533394043096548,0.053456385761926295,0.0535778949426099,0.053704033382573374,0.05383489379543896,0.0539705599069241,0.054111106297487256,0.05425659825846745,0.05440709166189221,0.05456263284411199,0.05472325850340844,0.054888995611709165,0.05505986134052752,0.05523586300123608,0.0554169979997669,0.055603253805821644,0.05579460793665896,0.05599102795551937,0.05619247148472845,0.056398886233511664,0.0566102100405393,0.05682637093120504,0.057047287189630785,0.05727286744537213,0.057503010774788955,0.05773760681702509,0.05797653590452884,0.05821966920802669,0.058466868895847686,0.05871798830747542,0.058972872141186815,0.059231356655618655,0.059493269885080066,0.05975843186840964,0.060026654891155246,0.06029774374082982,0.06057149597497594,0.060847702201747574,0.06112614637269328,0.061406606087403004,0.06168885290965144,0.06197265269465169,0.06225776592700498,0.06254394806890626,0.0628309499181425,0.06311851797539614,0.06340639482033787,0.06369431949597361,0.06398202790068243,0.06426925318736254,0.06455572616907684,0.06484117573057124,0.06512532924501417,0.06540791299529046,0.06568865259916079,0.06596727343758269,0.06624350108547179,0.06651706174416926,0.06678768267486579,0.067055092632224,0.06731902229743093,0.06757920470990153,0.06783537569685148,0.06808727429995355,0.068334643198284,0.0685772291267736,0.0688147832893716,0.06904706176613869,0.06927382591348971,0.06949484275681304,0.0697098853747051,0.06991873327406653,0.07012117275532315,0.07031699726704708,0.07050600774927168,0.07068801296481192,0.0708628298179219,0.07103028365964208,0.07119020857921568,0.07134244768097399,0.07148685334611808,0.07162328747885463,0.07175162173636723,0.07187173774213884,0.07198352728216957,0.07208689248366607,0.07218174597581185,0.07226801103226119,0.07234562169503263,0.07241452287951387,0.07247467046032394,0.07252603133781461,0.072568583485028,0.07260231597496558,0.07262722898805608,0.07264333379975084,0.07265065274820764,0.07264921918206187,0.07263907738832068,0.07262028250045047,0.07259290038676425,0.07255700751925234,0.07251269082303177,0.07246004750662897,0.07239918487334064,0.07233022011395515,0.07225328008114769,0.07216850104589786,0.0720760284363081,0.071976016559238,0.0718686283051948,0.07175403483695773,0.07163241526243945,0.07150395629231933,0.07136885188301428,0.07122730286557587,0.07107951656113722,0.07092570638355447,0.07076609142991676,0.07060089605962289,0.0704303494627496,0.07025468521845671,0.07007414084420172,0.06988895733655487,0.06969937870442956,0.0695056514955618,0.06930802431709178,0.06910674735111945,0.06890207186612288,0.06869424972514265,0.0684835328916527,0.068270172934049,0.0680544205297001,0.06783652496951559,0.0676167336639944,0.0673952916517258,0.06717244111131994,0.06694842087774805,0.06672346596407755,0.06649780708958503,0.06627167021523098,0.06604527608747507,0.06581883979140643,0.06559257031415647,0.06536667011955068,0.06514133473494575,0.0649167523511822,0.0646931034365729,0.064470560365816,0.06424928706471739,0.06402943867157024,0.06381116121602054,0.06359459131621883,0.06337985589502723,0.06316707191601767,0.06295634613996444,0.06274777490249484,0.06254144391352291,0.06233742807905062,0.062135791345874096,0.06193658656969106,0.06173985540705294,0.06154562823155827,0.0613539240746322,0.06116475059118157,0.06097810405036206,0.06079396935163748,0.06061232006625134,0.06043311850417418,0.06025631580652993,0.06008185206344177,0.059909656457179127,0.059739647430423176,0.05957173287940637,0.05940581037161984,0.0592417673877185,0.05907948158719114,0.05891882109730314,0.05875964482475345,0.05860180278943246,0.05844513647960174,0.05828947922776328,0.058134656606424355,0.05798048684291217,0.057826781252335334,0.05767334468773969,0.05751997600645479,0.05736646855158047,0.05721261064751756,0.057058186108404664,0.05690297475828317,0.05674675296177589,0.056589294164031724,0.056430369438658125,0.05626974804233543,0.05610719797478593,0.05594248654274774,0.055775380926589575,0.05560564874818968,0.05543305863869222,0.05525738080475187,0.0550783875918738,0.054895854043463865,0.05470955845420458,0.054519282916389473,0.05432481385786049,0.05412594257021241,0.053922465725951864,0.05371418588332481,0.053500911977557554,0.05328245979728914,0.05305865244501332,0.05282932078038759,0.052594303845312856,0.05235344926973491,0.05210661365717047,0.051853662949015326,0.05159447276674719,0.05132892873119936,0.05105692675814077,0.050778373329459926,0.050493185739326714,0.05020129231476187,0.0499026326101237,0.04959715757508894,0.04928482969577856,0.04896562310875283,0.0486395236876761,0.04830652910252335,0.04796664885128094,0.047619904264164764,0.0472663284804574,0.046905966398138925,0.04653887459656124,0.046165121232488,0.0457847859098936,0.04539795952399174,0.045004744080016555,0.04460525248737157,0.044199608329800695,0.04378794561231755,0.043370408485679766,0.042947150949255705,0.04251833653318583,0.04208413796079248,0.04164473679223988,0.04120032305049322,0.040751094830665226,0.040297257893878856,0.03983902524680864,0.03937661670809423,0.03891025846284606,0.03844018260648726,0.03796662667919248,0.03748983319220484,0.037010049147316725,0.03652752555080894,0.036042516923149796,0.03555528080574899,0.03506607726605899,0.03457516840230672,0.03408281784912532,0.03358929028533954,0.03309485094513621,0.0325997651338296,0.03210429774940101,0.03160871281096279,0.031113272995262585,0.030618239182304843,0.03012387001112788,0.029630421446731545,0.029138146359101457,0.02864729411523901,0.028158110185033332,0.02767083576179074,0.027185707398152417,0.026702956658096216,0.026222809785652182,0.02574548739090546,0.025271204153801175,0.02480016854620564,0.024332582572618416,0.02386864152986802,0.0234085337860647,0.02295244057902196,0.022500535834298445,0.022052986002952708,0.021609949919043536,0.021171578676849327,0.0207380155277291,0.02030939579647956,0.01988584681700521,0.019467487887049384,0.019054430241695657,0.018646777045293484,0.018244623401417647,0.01784805638042625,0.017457155064139078,0.017071990607119274,0.016692626314002843,0.016319117732286854,0.015951512759954326,0.01558985176728467,0.015234167732172054,0.014884486388249931,0.014540826385099558,0.01420319945980168,0.013871610619074113,0.013546058331231386,0.013226534727179487,0.01291302580967162,0.012605511670026716,0.012303966711525066,0.012008359878690094,0.011718654891670736,0.011434810484945162,0.011156780649574939,0.010884514878249886,0.010617958412377197,0.010357052490483281,0.010101734597214607,0.009851938712242717,0.009607595558399741,0.00936863284839364,0.0091349755294742,0.008906546025454407,0.008683264475503157,0.008465048969173024,0.008251815777138315,0.008043479577159656,0.007839953674816826,0.007641150218584614,0.007446980408857691],\"yaxis\":\"y\",\"type\":\"scatter\"},{\"legendgroup\":\"Body_Size\",\"marker\":{\"color\":\"rgb(31, 119, 180)\",\"symbol\":\"line-ns-open\"},\"mode\":\"markers\",\"name\":\"Body_Size\",\"showlegend\":false,\"x\":[167.0,171.0,168.0,171.0,172.0,175.0,168.0,184.0,173.0,167.0,178.0,168.0,178.0,173.0,170.0,175.0,173.0,171.0,174.0,168.0,171.0,168.0,175.0,180.0,173.0,174.0,169.0,176.0,170.0,182.0,174.0,170.0,180.0,179.0,181.0,180.0,178.0,173.0,178.0,180.0,174.0,168.0,179.0,170.0,179.0,180.0,180.0,174.0,175.0,178.0,176.0,180.0,176.0,180.0,175.0,173.0,166.0,168.0,176.0,177.0,172.0,173.0,173.0,179.0,176.0,175.0,173.0,178.0,175.0,176.0,179.0,170.0,177.0,163.0,173.0,167.0,175.0,166.0,173.0,168.0,168.0,171.0,165.0,174.0,167.0,165.0,166.0,165.0],\"xaxis\":\"x\",\"y\":[\"Body_Size\",\"Body_Size\",\"Body_Size\",\"Body_Size\",\"Body_Size\",\"Body_Size\",\"Body_Size\",\"Body_Size\",\"Body_Size\",\"Body_Size\",\"Body_Size\",\"Body_Size\",\"Body_Size\",\"Body_Size\",\"Body_Size\",\"Body_Size\",\"Body_Size\",\"Body_Size\",\"Body_Size\",\"Body_Size\",\"Body_Size\",\"Body_Size\",\"Body_Size\",\"Body_Size\",\"Body_Size\",\"Body_Size\",\"Body_Size\",\"Body_Size\",\"Body_Size\",\"Body_Size\",\"Body_Size\",\"Body_Size\",\"Body_Size\",\"Body_Size\",\"Body_Size\",\"Body_Size\",\"Body_Size\",\"Body_Size\",\"Body_Size\",\"Body_Size\",\"Body_Size\",\"Body_Size\",\"Body_Size\",\"Body_Size\",\"Body_Size\",\"Body_Size\",\"Body_Size\",\"Body_Size\",\"Body_Size\",\"Body_Size\",\"Body_Size\",\"Body_Size\",\"Body_Size\",\"Body_Size\",\"Body_Size\",\"Body_Size\",\"Body_Size\",\"Body_Size\",\"Body_Size\",\"Body_Size\",\"Body_Size\",\"Body_Size\",\"Body_Size\",\"Body_Size\",\"Body_Size\",\"Body_Size\",\"Body_Size\",\"Body_Size\",\"Body_Size\",\"Body_Size\",\"Body_Size\",\"Body_Size\",\"Body_Size\",\"Body_Size\",\"Body_Size\",\"Body_Size\",\"Body_Size\",\"Body_Size\",\"Body_Size\",\"Body_Size\",\"Body_Size\",\"Body_Size\",\"Body_Size\",\"Body_Size\",\"Body_Size\",\"Body_Size\",\"Body_Size\",\"Body_Size\"],\"yaxis\":\"y2\",\"type\":\"scatter\"}],                        {\"barmode\":\"overlay\",\"hovermode\":\"closest\",\"legend\":{\"traceorder\":\"reversed\"},\"xaxis\":{\"anchor\":\"y2\",\"domain\":[0.0,1.0],\"zeroline\":false},\"yaxis\":{\"anchor\":\"free\",\"domain\":[0.35,1],\"position\":0.0},\"yaxis2\":{\"anchor\":\"x\",\"domain\":[0,0.25],\"dtick\":1,\"showticklabels\":false},\"template\":{\"data\":{\"histogram2dcontour\":[{\"type\":\"histogram2dcontour\",\"colorbar\":{\"outlinewidth\":0,\"ticks\":\"\"},\"colorscale\":[[0.0,\"#0d0887\"],[0.1111111111111111,\"#46039f\"],[0.2222222222222222,\"#7201a8\"],[0.3333333333333333,\"#9c179e\"],[0.4444444444444444,\"#bd3786\"],[0.5555555555555556,\"#d8576b\"],[0.6666666666666666,\"#ed7953\"],[0.7777777777777778,\"#fb9f3a\"],[0.8888888888888888,\"#fdca26\"],[1.0,\"#f0f921\"]]}],\"choropleth\":[{\"type\":\"choropleth\",\"colorbar\":{\"outlinewidth\":0,\"ticks\":\"\"}}],\"histogram2d\":[{\"type\":\"histogram2d\",\"colorbar\":{\"outlinewidth\":0,\"ticks\":\"\"},\"colorscale\":[[0.0,\"#0d0887\"],[0.1111111111111111,\"#46039f\"],[0.2222222222222222,\"#7201a8\"],[0.3333333333333333,\"#9c179e\"],[0.4444444444444444,\"#bd3786\"],[0.5555555555555556,\"#d8576b\"],[0.6666666666666666,\"#ed7953\"],[0.7777777777777778,\"#fb9f3a\"],[0.8888888888888888,\"#fdca26\"],[1.0,\"#f0f921\"]]}],\"heatmap\":[{\"type\":\"heatmap\",\"colorbar\":{\"outlinewidth\":0,\"ticks\":\"\"},\"colorscale\":[[0.0,\"#0d0887\"],[0.1111111111111111,\"#46039f\"],[0.2222222222222222,\"#7201a8\"],[0.3333333333333333,\"#9c179e\"],[0.4444444444444444,\"#bd3786\"],[0.5555555555555556,\"#d8576b\"],[0.6666666666666666,\"#ed7953\"],[0.7777777777777778,\"#fb9f3a\"],[0.8888888888888888,\"#fdca26\"],[1.0,\"#f0f921\"]]}],\"heatmapgl\":[{\"type\":\"heatmapgl\",\"colorbar\":{\"outlinewidth\":0,\"ticks\":\"\"},\"colorscale\":[[0.0,\"#0d0887\"],[0.1111111111111111,\"#46039f\"],[0.2222222222222222,\"#7201a8\"],[0.3333333333333333,\"#9c179e\"],[0.4444444444444444,\"#bd3786\"],[0.5555555555555556,\"#d8576b\"],[0.6666666666666666,\"#ed7953\"],[0.7777777777777778,\"#fb9f3a\"],[0.8888888888888888,\"#fdca26\"],[1.0,\"#f0f921\"]]}],\"contourcarpet\":[{\"type\":\"contourcarpet\",\"colorbar\":{\"outlinewidth\":0,\"ticks\":\"\"}}],\"contour\":[{\"type\":\"contour\",\"colorbar\":{\"outlinewidth\":0,\"ticks\":\"\"},\"colorscale\":[[0.0,\"#0d0887\"],[0.1111111111111111,\"#46039f\"],[0.2222222222222222,\"#7201a8\"],[0.3333333333333333,\"#9c179e\"],[0.4444444444444444,\"#bd3786\"],[0.5555555555555556,\"#d8576b\"],[0.6666666666666666,\"#ed7953\"],[0.7777777777777778,\"#fb9f3a\"],[0.8888888888888888,\"#fdca26\"],[1.0,\"#f0f921\"]]}],\"surface\":[{\"type\":\"surface\",\"colorbar\":{\"outlinewidth\":0,\"ticks\":\"\"},\"colorscale\":[[0.0,\"#0d0887\"],[0.1111111111111111,\"#46039f\"],[0.2222222222222222,\"#7201a8\"],[0.3333333333333333,\"#9c179e\"],[0.4444444444444444,\"#bd3786\"],[0.5555555555555556,\"#d8576b\"],[0.6666666666666666,\"#ed7953\"],[0.7777777777777778,\"#fb9f3a\"],[0.8888888888888888,\"#fdca26\"],[1.0,\"#f0f921\"]]}],\"mesh3d\":[{\"type\":\"mesh3d\",\"colorbar\":{\"outlinewidth\":0,\"ticks\":\"\"}}],\"scatter\":[{\"fillpattern\":{\"fillmode\":\"overlay\",\"size\":10,\"solidity\":0.2},\"type\":\"scatter\"}],\"parcoords\":[{\"type\":\"parcoords\",\"line\":{\"colorbar\":{\"outlinewidth\":0,\"ticks\":\"\"}}}],\"scatterpolargl\":[{\"type\":\"scatterpolargl\",\"marker\":{\"colorbar\":{\"outlinewidth\":0,\"ticks\":\"\"}}}],\"bar\":[{\"error_x\":{\"color\":\"#2a3f5f\"},\"error_y\":{\"color\":\"#2a3f5f\"},\"marker\":{\"line\":{\"color\":\"#E5ECF6\",\"width\":0.5},\"pattern\":{\"fillmode\":\"overlay\",\"size\":10,\"solidity\":0.2}},\"type\":\"bar\"}],\"scattergeo\":[{\"type\":\"scattergeo\",\"marker\":{\"colorbar\":{\"outlinewidth\":0,\"ticks\":\"\"}}}],\"scatterpolar\":[{\"type\":\"scatterpolar\",\"marker\":{\"colorbar\":{\"outlinewidth\":0,\"ticks\":\"\"}}}],\"histogram\":[{\"marker\":{\"pattern\":{\"fillmode\":\"overlay\",\"size\":10,\"solidity\":0.2}},\"type\":\"histogram\"}],\"scattergl\":[{\"type\":\"scattergl\",\"marker\":{\"colorbar\":{\"outlinewidth\":0,\"ticks\":\"\"}}}],\"scatter3d\":[{\"type\":\"scatter3d\",\"line\":{\"colorbar\":{\"outlinewidth\":0,\"ticks\":\"\"}},\"marker\":{\"colorbar\":{\"outlinewidth\":0,\"ticks\":\"\"}}}],\"scattermapbox\":[{\"type\":\"scattermapbox\",\"marker\":{\"colorbar\":{\"outlinewidth\":0,\"ticks\":\"\"}}}],\"scatterternary\":[{\"type\":\"scatterternary\",\"marker\":{\"colorbar\":{\"outlinewidth\":0,\"ticks\":\"\"}}}],\"scattercarpet\":[{\"type\":\"scattercarpet\",\"marker\":{\"colorbar\":{\"outlinewidth\":0,\"ticks\":\"\"}}}],\"carpet\":[{\"aaxis\":{\"endlinecolor\":\"#2a3f5f\",\"gridcolor\":\"white\",\"linecolor\":\"white\",\"minorgridcolor\":\"white\",\"startlinecolor\":\"#2a3f5f\"},\"baxis\":{\"endlinecolor\":\"#2a3f5f\",\"gridcolor\":\"white\",\"linecolor\":\"white\",\"minorgridcolor\":\"white\",\"startlinecolor\":\"#2a3f5f\"},\"type\":\"carpet\"}],\"table\":[{\"cells\":{\"fill\":{\"color\":\"#EBF0F8\"},\"line\":{\"color\":\"white\"}},\"header\":{\"fill\":{\"color\":\"#C8D4E3\"},\"line\":{\"color\":\"white\"}},\"type\":\"table\"}],\"barpolar\":[{\"marker\":{\"line\":{\"color\":\"#E5ECF6\",\"width\":0.5},\"pattern\":{\"fillmode\":\"overlay\",\"size\":10,\"solidity\":0.2}},\"type\":\"barpolar\"}],\"pie\":[{\"automargin\":true,\"type\":\"pie\"}]},\"layout\":{\"autotypenumbers\":\"strict\",\"colorway\":[\"#636efa\",\"#EF553B\",\"#00cc96\",\"#ab63fa\",\"#FFA15A\",\"#19d3f3\",\"#FF6692\",\"#B6E880\",\"#FF97FF\",\"#FECB52\"],\"font\":{\"color\":\"#2a3f5f\"},\"hovermode\":\"closest\",\"hoverlabel\":{\"align\":\"left\"},\"paper_bgcolor\":\"white\",\"plot_bgcolor\":\"#E5ECF6\",\"polar\":{\"bgcolor\":\"#E5ECF6\",\"angularaxis\":{\"gridcolor\":\"white\",\"linecolor\":\"white\",\"ticks\":\"\"},\"radialaxis\":{\"gridcolor\":\"white\",\"linecolor\":\"white\",\"ticks\":\"\"}},\"ternary\":{\"bgcolor\":\"#E5ECF6\",\"aaxis\":{\"gridcolor\":\"white\",\"linecolor\":\"white\",\"ticks\":\"\"},\"baxis\":{\"gridcolor\":\"white\",\"linecolor\":\"white\",\"ticks\":\"\"},\"caxis\":{\"gridcolor\":\"white\",\"linecolor\":\"white\",\"ticks\":\"\"}},\"coloraxis\":{\"colorbar\":{\"outlinewidth\":0,\"ticks\":\"\"}},\"colorscale\":{\"sequential\":[[0.0,\"#0d0887\"],[0.1111111111111111,\"#46039f\"],[0.2222222222222222,\"#7201a8\"],[0.3333333333333333,\"#9c179e\"],[0.4444444444444444,\"#bd3786\"],[0.5555555555555556,\"#d8576b\"],[0.6666666666666666,\"#ed7953\"],[0.7777777777777778,\"#fb9f3a\"],[0.8888888888888888,\"#fdca26\"],[1.0,\"#f0f921\"]],\"sequentialminus\":[[0.0,\"#0d0887\"],[0.1111111111111111,\"#46039f\"],[0.2222222222222222,\"#7201a8\"],[0.3333333333333333,\"#9c179e\"],[0.4444444444444444,\"#bd3786\"],[0.5555555555555556,\"#d8576b\"],[0.6666666666666666,\"#ed7953\"],[0.7777777777777778,\"#fb9f3a\"],[0.8888888888888888,\"#fdca26\"],[1.0,\"#f0f921\"]],\"diverging\":[[0,\"#8e0152\"],[0.1,\"#c51b7d\"],[0.2,\"#de77ae\"],[0.3,\"#f1b6da\"],[0.4,\"#fde0ef\"],[0.5,\"#f7f7f7\"],[0.6,\"#e6f5d0\"],[0.7,\"#b8e186\"],[0.8,\"#7fbc41\"],[0.9,\"#4d9221\"],[1,\"#276419\"]]},\"xaxis\":{\"gridcolor\":\"white\",\"linecolor\":\"white\",\"ticks\":\"\",\"title\":{\"standoff\":15},\"zerolinecolor\":\"white\",\"automargin\":true,\"zerolinewidth\":2},\"yaxis\":{\"gridcolor\":\"white\",\"linecolor\":\"white\",\"ticks\":\"\",\"title\":{\"standoff\":15},\"zerolinecolor\":\"white\",\"automargin\":true,\"zerolinewidth\":2},\"scene\":{\"xaxis\":{\"backgroundcolor\":\"#E5ECF6\",\"gridcolor\":\"white\",\"linecolor\":\"white\",\"showbackground\":true,\"ticks\":\"\",\"zerolinecolor\":\"white\",\"gridwidth\":2},\"yaxis\":{\"backgroundcolor\":\"#E5ECF6\",\"gridcolor\":\"white\",\"linecolor\":\"white\",\"showbackground\":true,\"ticks\":\"\",\"zerolinecolor\":\"white\",\"gridwidth\":2},\"zaxis\":{\"backgroundcolor\":\"#E5ECF6\",\"gridcolor\":\"white\",\"linecolor\":\"white\",\"showbackground\":true,\"ticks\":\"\",\"zerolinecolor\":\"white\",\"gridwidth\":2}},\"shapedefaults\":{\"line\":{\"color\":\"#2a3f5f\"}},\"annotationdefaults\":{\"arrowcolor\":\"#2a3f5f\",\"arrowhead\":0,\"arrowwidth\":1},\"geo\":{\"bgcolor\":\"white\",\"landcolor\":\"#E5ECF6\",\"subunitcolor\":\"white\",\"showland\":true,\"showlakes\":true,\"lakecolor\":\"white\"},\"title\":{\"x\":0.05},\"mapbox\":{\"style\":\"light\"}}}},                        {\"responsive\": true}                    ).then(function(){\n",
       "                            \n",
       "var gd = document.getElementById('8666f3a0-79b8-4d2a-97f9-aec18b5b5e8f');\n",
       "var x = new MutationObserver(function (mutations, observer) {{\n",
       "        var display = window.getComputedStyle(gd).display;\n",
       "        if (!display || display === 'none') {{\n",
       "            console.log([gd, 'removed!']);\n",
       "            Plotly.purge(gd);\n",
       "            observer.disconnect();\n",
       "        }}\n",
       "}});\n",
       "\n",
       "// Listen for the removal of the full notebook cells\n",
       "var notebookContainer = gd.closest('#notebook-container');\n",
       "if (notebookContainer) {{\n",
       "    x.observe(notebookContainer, {childList: true});\n",
       "}}\n",
       "\n",
       "// Listen for the clearing of the current output cell\n",
       "var outputEl = gd.closest('.output');\n",
       "if (outputEl) {{\n",
       "    x.observe(outputEl, {childList: true});\n",
       "}}\n",
       "\n",
       "                        })                };                });            </script>        </div>"
      ]
     },
     "metadata": {},
     "output_type": "display_data"
    }
   ],
   "source": [
    "column = 'Body_Size'\n",
    "\n",
    "ff.create_distplot([df[column].values], [column], bin_size = 1)"
   ]
  },
  {
   "cell_type": "code",
   "execution_count": 53,
   "id": "eeaaa8d5",
   "metadata": {
    "ExecuteTime": {
     "end_time": "2022-04-22T17:31:11.749440Z",
     "start_time": "2022-04-22T17:31:11.432541Z"
    },
    "hidden": true
   },
   "outputs": [
    {
     "data": {
      "application/vnd.plotly.v1+json": {
       "config": {
        "plotlyServerURL": "https://plot.ly"
       },
       "data": [
        {
         "hovertemplate": "<b>%{hovertext}</b><br><br>Penis_Size=%{x}<br>Body_Size=%{y}<br>Penis2Body=%{marker.color}<extra></extra>",
         "hovertext": [
          "Ecuador",
          "Cameroon",
          "Bolivia",
          "Sudan",
          "Haiti",
          "Senegal",
          "Gambia",
          "Netherlands",
          "Cuba",
          "Zambia",
          "France",
          "Angola",
          "Canada",
          "Egypt",
          "Zimbabwe",
          "Georgia",
          "Paraguay",
          "Chad",
          "Italy",
          "Central African Republic",
          "Colombia",
          "Ivory Coast",
          "Brazil",
          "Sweden",
          "Bulgaria",
          "Costa Rica",
          "Honduras",
          "Hungary",
          "Mexico",
          "Denmark",
          "Argentina",
          "El Salvador",
          "Serbia",
          "Belgium",
          "Croatia",
          "Latvia",
          "Belarus",
          "Chile",
          "Austria",
          "Germany",
          "Algeria",
          "Democratic Republic of the Congo",
          "Australia",
          "Nigeria",
          "Switzerland",
          "Norway",
          "Poland",
          "Albania",
          "Cape Verde",
          "New Zealand",
          "North Macedonia",
          "Ukraine",
          "Spain",
          "Finland",
          "Libya",
          "Azerbaijan",
          "India",
          "Afghanistan",
          "Israel",
          "United States",
          "Japan",
          "Turkmenistan",
          "Venezuela",
          "Greece",
          "Russia",
          "South Korea",
          "Armenia",
          "United Kingdom",
          "China",
          "Turkey",
          "Ireland",
          "Mongolia",
          "Romania",
          "Yemen",
          "Taiwan",
          "Pakistan",
          "Iran",
          "Indonesia",
          "Singapore",
          "Malaysia",
          "Vietnam",
          "Thailand",
          "Bangladesh",
          "Hong Kong",
          "Sri Lanka",
          "Philippines",
          "Burma",
          "Cambodia"
         ],
         "legendgroup": "",
         "marker": {
          "color": [
           10.54,
           9.75,
           9.83,
           9.63,
           9.31,
           9.08,
           9.45,
           8.62,
           9.17,
           9.45,
           8.84,
           9.36,
           8.83,
           9.07,
           9.22,
           8.92,
           8.98,
           9,
           8.82,
           9.12,
           8.92,
           9.06,
           8.7,
           8.38,
           8.68,
           8.63,
           8.88,
           8.52,
           8.78,
           8.18,
           8.55,
           8.75,
           8.26,
           8.25,
           8.16,
           8.16,
           8.22,
           8.43,
           8.16,
           8.07,
           8.33,
           8.62,
           8.08,
           8.46,
           8.02,
           7.97,
           7.94,
           8.16,
           8.03,
           7.86,
           7.94,
           7.76,
           7.87,
           7.65,
           7.85,
           7.93,
           8.26,
           8.15,
           7.73,
           7.67,
           7.88,
           7.79,
           7.71,
           7.43,
           7.51,
           7.52,
           7.6,
           7.38,
           7.47,
           7.38,
           7.14,
           7.51,
           7.19,
           7.8,
           7.28,
           7.31,
           6.83,
           7.03,
           6.66,
           6.84,
           6.83,
           6.7,
           6.79,
           6.43,
           6.52,
           6.58,
           6.45,
           6.08
          ],
          "coloraxis": "coloraxis",
          "symbol": "circle"
         },
         "mode": "markers",
         "name": "",
         "orientation": "v",
         "showlegend": false,
         "type": "scatter",
         "x": [
          17.61,
          16.67,
          16.51,
          16.47,
          16.01,
          15.89,
          15.88,
          15.87,
          15.87,
          15.78,
          15.74,
          15.73,
          15.71,
          15.69,
          15.68,
          15.61,
          15.53,
          15.39,
          15.35,
          15.33,
          15.26,
          15.22,
          15.22,
          15.08,
          15.02,
          15.01,
          15,
          14.99,
          14.92,
          14.88,
          14.88,
          14.88,
          14.87,
          14.77,
          14.77,
          14.69,
          14.63,
          14.59,
          14.53,
          14.52,
          14.49,
          14.48,
          14.46,
          14.38,
          14.35,
          14.34,
          14.29,
          14.19,
          14.05,
          13.99,
          13.98,
          13.97,
          13.85,
          13.77,
          13.74,
          13.72,
          13.71,
          13.69,
          13.6,
          13.58,
          13.56,
          13.48,
          13.33,
          13.3,
          13.21,
          13.16,
          13.14,
          13.13,
          13.07,
          12.99,
          12.78,
          12.77,
          12.73,
          12.72,
          12.6,
          12.2,
          11.95,
          11.67,
          11.53,
          11.49,
          11.47,
          11.45,
          11.2,
          11.19,
          10.89,
          10.85,
          10.7,
          10.04
         ],
         "xaxis": "x",
         "y": [
          167,
          171,
          168,
          171,
          172,
          175,
          168,
          184,
          173,
          167,
          178,
          168,
          178,
          173,
          170,
          175,
          173,
          171,
          174,
          168,
          171,
          168,
          175,
          180,
          173,
          174,
          169,
          176,
          170,
          182,
          174,
          170,
          180,
          179,
          181,
          180,
          178,
          173,
          178,
          180,
          174,
          168,
          179,
          170,
          179,
          180,
          180,
          174,
          175,
          178,
          176,
          180,
          176,
          180,
          175,
          173,
          166,
          168,
          176,
          177,
          172,
          173,
          173,
          179,
          176,
          175,
          173,
          178,
          175,
          176,
          179,
          170,
          177,
          163,
          173,
          167,
          175,
          166,
          173,
          168,
          168,
          171,
          165,
          174,
          167,
          165,
          166,
          165
         ],
         "yaxis": "y"
        },
        {
         "alignmentgroup": "True",
         "bingroup": "x",
         "hovertemplate": "Penis_Size=%{x}<br>count=%{y}<extra></extra>",
         "legendgroup": "",
         "marker": {
          "color": "#0d0887"
         },
         "name": "",
         "offsetgroup": "",
         "opacity": 0.5,
         "showlegend": false,
         "type": "histogram",
         "x": [
          17.61,
          16.67,
          16.51,
          16.47,
          16.01,
          15.89,
          15.88,
          15.87,
          15.87,
          15.78,
          15.74,
          15.73,
          15.71,
          15.69,
          15.68,
          15.61,
          15.53,
          15.39,
          15.35,
          15.33,
          15.26,
          15.22,
          15.22,
          15.08,
          15.02,
          15.01,
          15,
          14.99,
          14.92,
          14.88,
          14.88,
          14.88,
          14.87,
          14.77,
          14.77,
          14.69,
          14.63,
          14.59,
          14.53,
          14.52,
          14.49,
          14.48,
          14.46,
          14.38,
          14.35,
          14.34,
          14.29,
          14.19,
          14.05,
          13.99,
          13.98,
          13.97,
          13.85,
          13.77,
          13.74,
          13.72,
          13.71,
          13.69,
          13.6,
          13.58,
          13.56,
          13.48,
          13.33,
          13.3,
          13.21,
          13.16,
          13.14,
          13.13,
          13.07,
          12.99,
          12.78,
          12.77,
          12.73,
          12.72,
          12.6,
          12.2,
          11.95,
          11.67,
          11.53,
          11.49,
          11.47,
          11.45,
          11.2,
          11.19,
          10.89,
          10.85,
          10.7,
          10.04
         ],
         "xaxis": "x3",
         "yaxis": "y3"
        },
        {
         "alignmentgroup": "True",
         "bingroup": "y",
         "hovertemplate": "Body_Size=%{y}<br>count=%{x}<extra></extra>",
         "legendgroup": "",
         "marker": {
          "color": "#0d0887"
         },
         "name": "",
         "offsetgroup": "",
         "opacity": 0.5,
         "showlegend": false,
         "type": "histogram",
         "xaxis": "x2",
         "y": [
          167,
          171,
          168,
          171,
          172,
          175,
          168,
          184,
          173,
          167,
          178,
          168,
          178,
          173,
          170,
          175,
          173,
          171,
          174,
          168,
          171,
          168,
          175,
          180,
          173,
          174,
          169,
          176,
          170,
          182,
          174,
          170,
          180,
          179,
          181,
          180,
          178,
          173,
          178,
          180,
          174,
          168,
          179,
          170,
          179,
          180,
          180,
          174,
          175,
          178,
          176,
          180,
          176,
          180,
          175,
          173,
          166,
          168,
          176,
          177,
          172,
          173,
          173,
          179,
          176,
          175,
          173,
          178,
          175,
          176,
          179,
          170,
          177,
          163,
          173,
          167,
          175,
          166,
          173,
          168,
          168,
          171,
          165,
          174,
          167,
          165,
          166,
          165
         ],
         "yaxis": "y2"
        },
        {
         "hovertemplate": "<b>OLS trendline</b><br>Body_Size = 0.720177 * Penis_Size + 163.278<br>R<sup>2</sup>=0.055151<br><br>Penis_Size=%{x}<br>Body_Size=%{y} <b>(trend)</b><extra></extra>",
         "legendgroup": "",
         "marker": {
          "symbol": "circle"
         },
         "mode": "lines",
         "name": "",
         "showlegend": false,
         "type": "scatter",
         "x": [
          10.04,
          10.7,
          10.85,
          10.89,
          11.19,
          11.2,
          11.45,
          11.47,
          11.49,
          11.53,
          11.67,
          11.95,
          12.2,
          12.6,
          12.72,
          12.73,
          12.77,
          12.78,
          12.99,
          13.07,
          13.13,
          13.14,
          13.16,
          13.21,
          13.3,
          13.33,
          13.48,
          13.56,
          13.58,
          13.6,
          13.69,
          13.71,
          13.72,
          13.74,
          13.77,
          13.85,
          13.97,
          13.98,
          13.99,
          14.05,
          14.19,
          14.29,
          14.34,
          14.35,
          14.38,
          14.46,
          14.48,
          14.49,
          14.52,
          14.53,
          14.59,
          14.63,
          14.69,
          14.77,
          14.77,
          14.87,
          14.88,
          14.88,
          14.88,
          14.92,
          14.99,
          15,
          15.01,
          15.02,
          15.08,
          15.22,
          15.22,
          15.26,
          15.33,
          15.35,
          15.39,
          15.53,
          15.61,
          15.68,
          15.69,
          15.71,
          15.73,
          15.74,
          15.78,
          15.87,
          15.87,
          15.88,
          15.89,
          16.01,
          16.47,
          16.51,
          16.67,
          17.61
         ],
         "xaxis": "x",
         "y": [
          170.5089763457819,
          170.98429300262075,
          171.09231951553866,
          171.1211265856501,
          171.33717961148594,
          171.3443813790138,
          171.52442556721036,
          171.53882910226608,
          171.5532326373218,
          171.58203970743324,
          171.6828644528233,
          171.88451394360342,
          172.06455813179994,
          172.3526288329144,
          172.43905004324876,
          172.4462518107766,
          172.47505888088804,
          172.48226064841592,
          172.633497766501,
          172.6911119067239,
          172.73432251189107,
          172.7415242794189,
          172.75592781447466,
          172.79193665211395,
          172.8567525598647,
          172.8783578624483,
          172.9863843753662,
          173.0439985155891,
          173.05840205064482,
          173.07280558570056,
          173.1376214934513,
          173.152025028507,
          173.1592267960349,
          173.1736303310906,
          173.1952356336742,
          173.25284977389708,
          173.33927098423143,
          173.34647275175928,
          173.35367451928715,
          173.39688512445431,
          173.49770986984439,
          173.569727545123,
          173.6057363827623,
          173.61293815029015,
          173.63454345287374,
          173.69215759309662,
          173.70656112815234,
          173.71376289568022,
          173.7353681982638,
          173.74256996579166,
          173.78578057095882,
          173.81458764107026,
          173.85779824623745,
          173.91541238646033,
          173.91541238646033,
          173.98743006173896,
          173.9946318292668,
          173.9946318292668,
          173.9946318292668,
          174.02343889937825,
          174.07385127207328,
          174.08105303960116,
          174.088254807129,
          174.09545657465688,
          174.13866717982404,
          174.2394919252141,
          174.2394919252141,
          174.26829899532555,
          174.3187113680206,
          174.3331149030763,
          174.36192197318775,
          174.4627467185778,
          174.5203608588007,
          174.57077323149574,
          174.57797499902358,
          174.5923785340793,
          174.60678206913502,
          174.6139838366629,
          174.64279090677434,
          174.7076068145251,
          174.7076068145251,
          174.71480858205297,
          174.7220103495808,
          174.80843155991516,
          175.13971286619676,
          175.16851993630823,
          175.28374821675402,
          175.96071436437296
         ],
         "yaxis": "y"
        }
       ],
       "layout": {
        "barmode": "overlay",
        "coloraxis": {
         "colorbar": {
          "title": {
           "text": "Penis2Body"
          }
         },
         "colorscale": [
          [
           0,
           "#0d0887"
          ],
          [
           0.1111111111111111,
           "#46039f"
          ],
          [
           0.2222222222222222,
           "#7201a8"
          ],
          [
           0.3333333333333333,
           "#9c179e"
          ],
          [
           0.4444444444444444,
           "#bd3786"
          ],
          [
           0.5555555555555556,
           "#d8576b"
          ],
          [
           0.6666666666666666,
           "#ed7953"
          ],
          [
           0.7777777777777778,
           "#fb9f3a"
          ],
          [
           0.8888888888888888,
           "#fdca26"
          ],
          [
           1,
           "#f0f921"
          ]
         ]
        },
        "legend": {
         "tracegroupgap": 0
        },
        "margin": {
         "t": 60
        },
        "shapes": [
         {
          "line": {
           "dash": "dash"
          },
          "opacity": 0.2,
          "type": "line",
          "x0": 0,
          "x1": 1,
          "xref": "x domain",
          "y0": 173.42045454545453,
          "y1": 173.42045454545453,
          "yref": "y"
         },
         {
          "line": {
           "dash": "dash"
          },
          "opacity": 0.2,
          "type": "line",
          "x0": 0,
          "x1": 1,
          "xref": "x2 domain",
          "y0": 173.42045454545453,
          "y1": 173.42045454545453,
          "yref": "y2"
         },
         {
          "line": {
           "dash": "dash"
          },
          "opacity": 0.2,
          "type": "line",
          "x0": 0,
          "x1": 1,
          "xref": "x3 domain",
          "y0": 173.42045454545453,
          "y1": 173.42045454545453,
          "yref": "y3"
         },
         {
          "line": {
           "dash": "dash"
          },
          "opacity": 0.2,
          "type": "line",
          "x0": 14.08272727272727,
          "x1": 14.08272727272727,
          "xref": "x",
          "y0": 0,
          "y1": 1,
          "yref": "y domain"
         },
         {
          "line": {
           "dash": "dash"
          },
          "opacity": 0.2,
          "type": "line",
          "x0": 14.08272727272727,
          "x1": 14.08272727272727,
          "xref": "x2",
          "y0": 0,
          "y1": 1,
          "yref": "y2 domain"
         },
         {
          "line": {
           "dash": "dash"
          },
          "opacity": 0.2,
          "type": "line",
          "x0": 14.08272727272727,
          "x1": 14.08272727272727,
          "xref": "x3",
          "y0": 0,
          "y1": 1,
          "yref": "y3 domain"
         },
         {
          "fillcolor": "lightgreen",
          "line": {
           "width": 0
          },
          "opacity": 0.15,
          "type": "rect",
          "x0": 14.08272727272727,
          "x1": 17.61,
          "xref": "x",
          "y0": 0,
          "y1": 1,
          "yref": "y domain"
         },
         {
          "fillcolor": "lightgreen",
          "line": {
           "width": 0
          },
          "opacity": 0.15,
          "type": "rect",
          "x0": 14.08272727272727,
          "x1": 17.61,
          "xref": "x2",
          "y0": 0,
          "y1": 1,
          "yref": "y2 domain"
         },
         {
          "fillcolor": "lightgreen",
          "line": {
           "width": 0
          },
          "opacity": 0.15,
          "type": "rect",
          "x0": 14.08272727272727,
          "x1": 17.61,
          "xref": "x3",
          "y0": 0,
          "y1": 1,
          "yref": "y3 domain"
         },
         {
          "fillcolor": "lightgreen",
          "line": {
           "width": 0
          },
          "opacity": 0.15,
          "type": "rect",
          "x0": 0,
          "x1": 1,
          "xref": "x domain",
          "y0": 173.42045454545453,
          "y1": 184,
          "yref": "y"
         },
         {
          "fillcolor": "lightgreen",
          "line": {
           "width": 0
          },
          "opacity": 0.15,
          "type": "rect",
          "x0": 0,
          "x1": 1,
          "xref": "x2 domain",
          "y0": 173.42045454545453,
          "y1": 184,
          "yref": "y2"
         },
         {
          "fillcolor": "lightgreen",
          "line": {
           "width": 0
          },
          "opacity": 0.15,
          "type": "rect",
          "x0": 0,
          "x1": 1,
          "xref": "x3 domain",
          "y0": 173.42045454545453,
          "y1": 184,
          "yref": "y3"
         }
        ],
        "template": {
         "data": {
          "bar": [
           {
            "error_x": {
             "color": "#2a3f5f"
            },
            "error_y": {
             "color": "#2a3f5f"
            },
            "marker": {
             "line": {
              "color": "#E5ECF6",
              "width": 0.5
             },
             "pattern": {
              "fillmode": "overlay",
              "size": 10,
              "solidity": 0.2
             }
            },
            "type": "bar"
           }
          ],
          "barpolar": [
           {
            "marker": {
             "line": {
              "color": "#E5ECF6",
              "width": 0.5
             },
             "pattern": {
              "fillmode": "overlay",
              "size": 10,
              "solidity": 0.2
             }
            },
            "type": "barpolar"
           }
          ],
          "carpet": [
           {
            "aaxis": {
             "endlinecolor": "#2a3f5f",
             "gridcolor": "white",
             "linecolor": "white",
             "minorgridcolor": "white",
             "startlinecolor": "#2a3f5f"
            },
            "baxis": {
             "endlinecolor": "#2a3f5f",
             "gridcolor": "white",
             "linecolor": "white",
             "minorgridcolor": "white",
             "startlinecolor": "#2a3f5f"
            },
            "type": "carpet"
           }
          ],
          "choropleth": [
           {
            "colorbar": {
             "outlinewidth": 0,
             "ticks": ""
            },
            "type": "choropleth"
           }
          ],
          "contour": [
           {
            "colorbar": {
             "outlinewidth": 0,
             "ticks": ""
            },
            "colorscale": [
             [
              0,
              "#0d0887"
             ],
             [
              0.1111111111111111,
              "#46039f"
             ],
             [
              0.2222222222222222,
              "#7201a8"
             ],
             [
              0.3333333333333333,
              "#9c179e"
             ],
             [
              0.4444444444444444,
              "#bd3786"
             ],
             [
              0.5555555555555556,
              "#d8576b"
             ],
             [
              0.6666666666666666,
              "#ed7953"
             ],
             [
              0.7777777777777778,
              "#fb9f3a"
             ],
             [
              0.8888888888888888,
              "#fdca26"
             ],
             [
              1,
              "#f0f921"
             ]
            ],
            "type": "contour"
           }
          ],
          "contourcarpet": [
           {
            "colorbar": {
             "outlinewidth": 0,
             "ticks": ""
            },
            "type": "contourcarpet"
           }
          ],
          "heatmap": [
           {
            "colorbar": {
             "outlinewidth": 0,
             "ticks": ""
            },
            "colorscale": [
             [
              0,
              "#0d0887"
             ],
             [
              0.1111111111111111,
              "#46039f"
             ],
             [
              0.2222222222222222,
              "#7201a8"
             ],
             [
              0.3333333333333333,
              "#9c179e"
             ],
             [
              0.4444444444444444,
              "#bd3786"
             ],
             [
              0.5555555555555556,
              "#d8576b"
             ],
             [
              0.6666666666666666,
              "#ed7953"
             ],
             [
              0.7777777777777778,
              "#fb9f3a"
             ],
             [
              0.8888888888888888,
              "#fdca26"
             ],
             [
              1,
              "#f0f921"
             ]
            ],
            "type": "heatmap"
           }
          ],
          "heatmapgl": [
           {
            "colorbar": {
             "outlinewidth": 0,
             "ticks": ""
            },
            "colorscale": [
             [
              0,
              "#0d0887"
             ],
             [
              0.1111111111111111,
              "#46039f"
             ],
             [
              0.2222222222222222,
              "#7201a8"
             ],
             [
              0.3333333333333333,
              "#9c179e"
             ],
             [
              0.4444444444444444,
              "#bd3786"
             ],
             [
              0.5555555555555556,
              "#d8576b"
             ],
             [
              0.6666666666666666,
              "#ed7953"
             ],
             [
              0.7777777777777778,
              "#fb9f3a"
             ],
             [
              0.8888888888888888,
              "#fdca26"
             ],
             [
              1,
              "#f0f921"
             ]
            ],
            "type": "heatmapgl"
           }
          ],
          "histogram": [
           {
            "marker": {
             "pattern": {
              "fillmode": "overlay",
              "size": 10,
              "solidity": 0.2
             }
            },
            "type": "histogram"
           }
          ],
          "histogram2d": [
           {
            "colorbar": {
             "outlinewidth": 0,
             "ticks": ""
            },
            "colorscale": [
             [
              0,
              "#0d0887"
             ],
             [
              0.1111111111111111,
              "#46039f"
             ],
             [
              0.2222222222222222,
              "#7201a8"
             ],
             [
              0.3333333333333333,
              "#9c179e"
             ],
             [
              0.4444444444444444,
              "#bd3786"
             ],
             [
              0.5555555555555556,
              "#d8576b"
             ],
             [
              0.6666666666666666,
              "#ed7953"
             ],
             [
              0.7777777777777778,
              "#fb9f3a"
             ],
             [
              0.8888888888888888,
              "#fdca26"
             ],
             [
              1,
              "#f0f921"
             ]
            ],
            "type": "histogram2d"
           }
          ],
          "histogram2dcontour": [
           {
            "colorbar": {
             "outlinewidth": 0,
             "ticks": ""
            },
            "colorscale": [
             [
              0,
              "#0d0887"
             ],
             [
              0.1111111111111111,
              "#46039f"
             ],
             [
              0.2222222222222222,
              "#7201a8"
             ],
             [
              0.3333333333333333,
              "#9c179e"
             ],
             [
              0.4444444444444444,
              "#bd3786"
             ],
             [
              0.5555555555555556,
              "#d8576b"
             ],
             [
              0.6666666666666666,
              "#ed7953"
             ],
             [
              0.7777777777777778,
              "#fb9f3a"
             ],
             [
              0.8888888888888888,
              "#fdca26"
             ],
             [
              1,
              "#f0f921"
             ]
            ],
            "type": "histogram2dcontour"
           }
          ],
          "mesh3d": [
           {
            "colorbar": {
             "outlinewidth": 0,
             "ticks": ""
            },
            "type": "mesh3d"
           }
          ],
          "parcoords": [
           {
            "line": {
             "colorbar": {
              "outlinewidth": 0,
              "ticks": ""
             }
            },
            "type": "parcoords"
           }
          ],
          "pie": [
           {
            "automargin": true,
            "type": "pie"
           }
          ],
          "scatter": [
           {
            "fillpattern": {
             "fillmode": "overlay",
             "size": 10,
             "solidity": 0.2
            },
            "type": "scatter"
           }
          ],
          "scatter3d": [
           {
            "line": {
             "colorbar": {
              "outlinewidth": 0,
              "ticks": ""
             }
            },
            "marker": {
             "colorbar": {
              "outlinewidth": 0,
              "ticks": ""
             }
            },
            "type": "scatter3d"
           }
          ],
          "scattercarpet": [
           {
            "marker": {
             "colorbar": {
              "outlinewidth": 0,
              "ticks": ""
             }
            },
            "type": "scattercarpet"
           }
          ],
          "scattergeo": [
           {
            "marker": {
             "colorbar": {
              "outlinewidth": 0,
              "ticks": ""
             }
            },
            "type": "scattergeo"
           }
          ],
          "scattergl": [
           {
            "marker": {
             "colorbar": {
              "outlinewidth": 0,
              "ticks": ""
             }
            },
            "type": "scattergl"
           }
          ],
          "scattermapbox": [
           {
            "marker": {
             "colorbar": {
              "outlinewidth": 0,
              "ticks": ""
             }
            },
            "type": "scattermapbox"
           }
          ],
          "scatterpolar": [
           {
            "marker": {
             "colorbar": {
              "outlinewidth": 0,
              "ticks": ""
             }
            },
            "type": "scatterpolar"
           }
          ],
          "scatterpolargl": [
           {
            "marker": {
             "colorbar": {
              "outlinewidth": 0,
              "ticks": ""
             }
            },
            "type": "scatterpolargl"
           }
          ],
          "scatterternary": [
           {
            "marker": {
             "colorbar": {
              "outlinewidth": 0,
              "ticks": ""
             }
            },
            "type": "scatterternary"
           }
          ],
          "surface": [
           {
            "colorbar": {
             "outlinewidth": 0,
             "ticks": ""
            },
            "colorscale": [
             [
              0,
              "#0d0887"
             ],
             [
              0.1111111111111111,
              "#46039f"
             ],
             [
              0.2222222222222222,
              "#7201a8"
             ],
             [
              0.3333333333333333,
              "#9c179e"
             ],
             [
              0.4444444444444444,
              "#bd3786"
             ],
             [
              0.5555555555555556,
              "#d8576b"
             ],
             [
              0.6666666666666666,
              "#ed7953"
             ],
             [
              0.7777777777777778,
              "#fb9f3a"
             ],
             [
              0.8888888888888888,
              "#fdca26"
             ],
             [
              1,
              "#f0f921"
             ]
            ],
            "type": "surface"
           }
          ],
          "table": [
           {
            "cells": {
             "fill": {
              "color": "#EBF0F8"
             },
             "line": {
              "color": "white"
             }
            },
            "header": {
             "fill": {
              "color": "#C8D4E3"
             },
             "line": {
              "color": "white"
             }
            },
            "type": "table"
           }
          ]
         },
         "layout": {
          "annotationdefaults": {
           "arrowcolor": "#2a3f5f",
           "arrowhead": 0,
           "arrowwidth": 1
          },
          "autotypenumbers": "strict",
          "coloraxis": {
           "colorbar": {
            "outlinewidth": 0,
            "ticks": ""
           }
          },
          "colorscale": {
           "diverging": [
            [
             0,
             "#8e0152"
            ],
            [
             0.1,
             "#c51b7d"
            ],
            [
             0.2,
             "#de77ae"
            ],
            [
             0.3,
             "#f1b6da"
            ],
            [
             0.4,
             "#fde0ef"
            ],
            [
             0.5,
             "#f7f7f7"
            ],
            [
             0.6,
             "#e6f5d0"
            ],
            [
             0.7,
             "#b8e186"
            ],
            [
             0.8,
             "#7fbc41"
            ],
            [
             0.9,
             "#4d9221"
            ],
            [
             1,
             "#276419"
            ]
           ],
           "sequential": [
            [
             0,
             "#0d0887"
            ],
            [
             0.1111111111111111,
             "#46039f"
            ],
            [
             0.2222222222222222,
             "#7201a8"
            ],
            [
             0.3333333333333333,
             "#9c179e"
            ],
            [
             0.4444444444444444,
             "#bd3786"
            ],
            [
             0.5555555555555556,
             "#d8576b"
            ],
            [
             0.6666666666666666,
             "#ed7953"
            ],
            [
             0.7777777777777778,
             "#fb9f3a"
            ],
            [
             0.8888888888888888,
             "#fdca26"
            ],
            [
             1,
             "#f0f921"
            ]
           ],
           "sequentialminus": [
            [
             0,
             "#0d0887"
            ],
            [
             0.1111111111111111,
             "#46039f"
            ],
            [
             0.2222222222222222,
             "#7201a8"
            ],
            [
             0.3333333333333333,
             "#9c179e"
            ],
            [
             0.4444444444444444,
             "#bd3786"
            ],
            [
             0.5555555555555556,
             "#d8576b"
            ],
            [
             0.6666666666666666,
             "#ed7953"
            ],
            [
             0.7777777777777778,
             "#fb9f3a"
            ],
            [
             0.8888888888888888,
             "#fdca26"
            ],
            [
             1,
             "#f0f921"
            ]
           ]
          },
          "colorway": [
           "#636efa",
           "#EF553B",
           "#00cc96",
           "#ab63fa",
           "#FFA15A",
           "#19d3f3",
           "#FF6692",
           "#B6E880",
           "#FF97FF",
           "#FECB52"
          ],
          "font": {
           "color": "#2a3f5f"
          },
          "geo": {
           "bgcolor": "white",
           "lakecolor": "white",
           "landcolor": "#E5ECF6",
           "showlakes": true,
           "showland": true,
           "subunitcolor": "white"
          },
          "hoverlabel": {
           "align": "left"
          },
          "hovermode": "closest",
          "mapbox": {
           "style": "light"
          },
          "paper_bgcolor": "white",
          "plot_bgcolor": "#E5ECF6",
          "polar": {
           "angularaxis": {
            "gridcolor": "white",
            "linecolor": "white",
            "ticks": ""
           },
           "bgcolor": "#E5ECF6",
           "radialaxis": {
            "gridcolor": "white",
            "linecolor": "white",
            "ticks": ""
           }
          },
          "scene": {
           "xaxis": {
            "backgroundcolor": "#E5ECF6",
            "gridcolor": "white",
            "gridwidth": 2,
            "linecolor": "white",
            "showbackground": true,
            "ticks": "",
            "zerolinecolor": "white"
           },
           "yaxis": {
            "backgroundcolor": "#E5ECF6",
            "gridcolor": "white",
            "gridwidth": 2,
            "linecolor": "white",
            "showbackground": true,
            "ticks": "",
            "zerolinecolor": "white"
           },
           "zaxis": {
            "backgroundcolor": "#E5ECF6",
            "gridcolor": "white",
            "gridwidth": 2,
            "linecolor": "white",
            "showbackground": true,
            "ticks": "",
            "zerolinecolor": "white"
           }
          },
          "shapedefaults": {
           "line": {
            "color": "#2a3f5f"
           }
          },
          "ternary": {
           "aaxis": {
            "gridcolor": "white",
            "linecolor": "white",
            "ticks": ""
           },
           "baxis": {
            "gridcolor": "white",
            "linecolor": "white",
            "ticks": ""
           },
           "bgcolor": "#E5ECF6",
           "caxis": {
            "gridcolor": "white",
            "linecolor": "white",
            "ticks": ""
           }
          },
          "title": {
           "x": 0.05
          },
          "xaxis": {
           "automargin": true,
           "gridcolor": "white",
           "linecolor": "white",
           "ticks": "",
           "title": {
            "standoff": 15
           },
           "zerolinecolor": "white",
           "zerolinewidth": 2
          },
          "yaxis": {
           "automargin": true,
           "gridcolor": "white",
           "linecolor": "white",
           "ticks": "",
           "title": {
            "standoff": 15
           },
           "zerolinecolor": "white",
           "zerolinewidth": 2
          }
         }
        },
        "xaxis": {
         "anchor": "y",
         "domain": [
          0,
          0.7363
         ],
         "title": {
          "text": "Penis_Size"
         }
        },
        "xaxis2": {
         "anchor": "y2",
         "domain": [
          0.7413,
          1
         ],
         "matches": "x2",
         "showgrid": true,
         "showline": false,
         "showticklabels": false,
         "ticks": ""
        },
        "xaxis3": {
         "anchor": "y3",
         "domain": [
          0,
          0.7363
         ],
         "matches": "x",
         "showgrid": true,
         "showticklabels": false
        },
        "xaxis4": {
         "anchor": "y4",
         "domain": [
          0.7413,
          1
         ],
         "matches": "x2",
         "showgrid": true,
         "showline": false,
         "showticklabels": false,
         "ticks": ""
        },
        "yaxis": {
         "anchor": "x",
         "domain": [
          0,
          0.7326
         ],
         "title": {
          "text": "Body_Size"
         }
        },
        "yaxis2": {
         "anchor": "x2",
         "domain": [
          0,
          0.7326
         ],
         "matches": "y",
         "showgrid": true,
         "showticklabels": false
        },
        "yaxis3": {
         "anchor": "x3",
         "domain": [
          0.7426,
          1
         ],
         "matches": "y3",
         "showgrid": true,
         "showline": false,
         "showticklabels": false,
         "ticks": ""
        },
        "yaxis4": {
         "anchor": "x4",
         "domain": [
          0.7426,
          1
         ],
         "matches": "y3",
         "showgrid": true,
         "showline": false,
         "showticklabels": false,
         "ticks": ""
        }
       }
      },
      "text/html": [
       "<div>                            <div id=\"e60a9019-f6d2-4325-a3ac-8a32384d96e6\" class=\"plotly-graph-div\" style=\"height:525px; width:100%;\"></div>            <script type=\"text/javascript\">                require([\"plotly\"], function(Plotly) {                    window.PLOTLYENV=window.PLOTLYENV || {};                                    if (document.getElementById(\"e60a9019-f6d2-4325-a3ac-8a32384d96e6\")) {                    Plotly.newPlot(                        \"e60a9019-f6d2-4325-a3ac-8a32384d96e6\",                        [{\"hovertemplate\":\"<b>%{hovertext}</b><br><br>Penis_Size=%{x}<br>Body_Size=%{y}<br>Penis2Body=%{marker.color}<extra></extra>\",\"hovertext\":[\"Ecuador\",\"Cameroon\",\"Bolivia\",\"Sudan\",\"Haiti\",\"Senegal\",\"Gambia\",\"Netherlands\",\"Cuba\",\"Zambia\",\"France\",\"Angola\",\"Canada\",\"Egypt\",\"Zimbabwe\",\"Georgia\",\"Paraguay\",\"Chad\",\"Italy\",\"Central African Republic\",\"Colombia\",\"Ivory Coast\",\"Brazil\",\"Sweden\",\"Bulgaria\",\"Costa Rica\",\"Honduras\",\"Hungary\",\"Mexico\",\"Denmark\",\"Argentina\",\"El Salvador\",\"Serbia\",\"Belgium\",\"Croatia\",\"Latvia\",\"Belarus\",\"Chile\",\"Austria\",\"Germany\",\"Algeria\",\"Democratic Republic of the Congo\",\"Australia\",\"Nigeria\",\"Switzerland\",\"Norway\",\"Poland\",\"Albania\",\"Cape Verde\",\"New Zealand\",\"North Macedonia\",\"Ukraine\",\"Spain\",\"Finland\",\"Libya\",\"Azerbaijan\",\"India\",\"Afghanistan\",\"Israel\",\"United States\",\"Japan\",\"Turkmenistan\",\"Venezuela\",\"Greece\",\"Russia\",\"South Korea\",\"Armenia\",\"United Kingdom\",\"China\",\"Turkey\",\"Ireland\",\"Mongolia\",\"Romania\",\"Yemen\",\"Taiwan\",\"Pakistan\",\"Iran\",\"Indonesia\",\"Singapore\",\"Malaysia\",\"Vietnam\",\"Thailand\",\"Bangladesh\",\"Hong Kong\",\"Sri Lanka\",\"Philippines\",\"Burma\",\"Cambodia\"],\"legendgroup\":\"\",\"marker\":{\"color\":[10.54,9.75,9.83,9.63,9.31,9.08,9.45,8.62,9.17,9.45,8.84,9.36,8.83,9.07,9.22,8.92,8.98,9.0,8.82,9.12,8.92,9.06,8.7,8.38,8.68,8.63,8.88,8.52,8.78,8.18,8.55,8.75,8.26,8.25,8.16,8.16,8.22,8.43,8.16,8.07,8.33,8.62,8.08,8.46,8.02,7.97,7.94,8.16,8.03,7.86,7.94,7.76,7.87,7.65,7.85,7.93,8.26,8.15,7.73,7.67,7.88,7.79,7.71,7.43,7.51,7.52,7.6,7.38,7.47,7.38,7.14,7.51,7.19,7.8,7.28,7.31,6.83,7.03,6.66,6.84,6.83,6.7,6.79,6.43,6.52,6.58,6.45,6.08],\"coloraxis\":\"coloraxis\",\"symbol\":\"circle\"},\"mode\":\"markers\",\"name\":\"\",\"orientation\":\"v\",\"showlegend\":false,\"x\":[17.61,16.67,16.51,16.47,16.01,15.89,15.88,15.87,15.87,15.78,15.74,15.73,15.71,15.69,15.68,15.61,15.53,15.39,15.35,15.33,15.26,15.22,15.22,15.08,15.02,15.01,15.0,14.99,14.92,14.88,14.88,14.88,14.87,14.77,14.77,14.69,14.63,14.59,14.53,14.52,14.49,14.48,14.46,14.38,14.35,14.34,14.29,14.19,14.05,13.99,13.98,13.97,13.85,13.77,13.74,13.72,13.71,13.69,13.6,13.58,13.56,13.48,13.33,13.3,13.21,13.16,13.14,13.13,13.07,12.99,12.78,12.77,12.73,12.72,12.6,12.2,11.95,11.67,11.53,11.49,11.47,11.45,11.2,11.19,10.89,10.85,10.7,10.04],\"xaxis\":\"x\",\"y\":[167.0,171.0,168.0,171.0,172.0,175.0,168.0,184.0,173.0,167.0,178.0,168.0,178.0,173.0,170.0,175.0,173.0,171.0,174.0,168.0,171.0,168.0,175.0,180.0,173.0,174.0,169.0,176.0,170.0,182.0,174.0,170.0,180.0,179.0,181.0,180.0,178.0,173.0,178.0,180.0,174.0,168.0,179.0,170.0,179.0,180.0,180.0,174.0,175.0,178.0,176.0,180.0,176.0,180.0,175.0,173.0,166.0,168.0,176.0,177.0,172.0,173.0,173.0,179.0,176.0,175.0,173.0,178.0,175.0,176.0,179.0,170.0,177.0,163.0,173.0,167.0,175.0,166.0,173.0,168.0,168.0,171.0,165.0,174.0,167.0,165.0,166.0,165.0],\"yaxis\":\"y\",\"type\":\"scatter\"},{\"alignmentgroup\":\"True\",\"bingroup\":\"x\",\"hovertemplate\":\"Penis_Size=%{x}<br>count=%{y}<extra></extra>\",\"legendgroup\":\"\",\"marker\":{\"color\":\"#0d0887\"},\"name\":\"\",\"offsetgroup\":\"\",\"opacity\":0.5,\"showlegend\":false,\"x\":[17.61,16.67,16.51,16.47,16.01,15.89,15.88,15.87,15.87,15.78,15.74,15.73,15.71,15.69,15.68,15.61,15.53,15.39,15.35,15.33,15.26,15.22,15.22,15.08,15.02,15.01,15.0,14.99,14.92,14.88,14.88,14.88,14.87,14.77,14.77,14.69,14.63,14.59,14.53,14.52,14.49,14.48,14.46,14.38,14.35,14.34,14.29,14.19,14.05,13.99,13.98,13.97,13.85,13.77,13.74,13.72,13.71,13.69,13.6,13.58,13.56,13.48,13.33,13.3,13.21,13.16,13.14,13.13,13.07,12.99,12.78,12.77,12.73,12.72,12.6,12.2,11.95,11.67,11.53,11.49,11.47,11.45,11.2,11.19,10.89,10.85,10.7,10.04],\"xaxis\":\"x3\",\"yaxis\":\"y3\",\"type\":\"histogram\"},{\"alignmentgroup\":\"True\",\"bingroup\":\"y\",\"hovertemplate\":\"Body_Size=%{y}<br>count=%{x}<extra></extra>\",\"legendgroup\":\"\",\"marker\":{\"color\":\"#0d0887\"},\"name\":\"\",\"offsetgroup\":\"\",\"opacity\":0.5,\"showlegend\":false,\"xaxis\":\"x2\",\"y\":[167.0,171.0,168.0,171.0,172.0,175.0,168.0,184.0,173.0,167.0,178.0,168.0,178.0,173.0,170.0,175.0,173.0,171.0,174.0,168.0,171.0,168.0,175.0,180.0,173.0,174.0,169.0,176.0,170.0,182.0,174.0,170.0,180.0,179.0,181.0,180.0,178.0,173.0,178.0,180.0,174.0,168.0,179.0,170.0,179.0,180.0,180.0,174.0,175.0,178.0,176.0,180.0,176.0,180.0,175.0,173.0,166.0,168.0,176.0,177.0,172.0,173.0,173.0,179.0,176.0,175.0,173.0,178.0,175.0,176.0,179.0,170.0,177.0,163.0,173.0,167.0,175.0,166.0,173.0,168.0,168.0,171.0,165.0,174.0,167.0,165.0,166.0,165.0],\"yaxis\":\"y2\",\"type\":\"histogram\"},{\"hovertemplate\":\"<b>OLS trendline</b><br>Body_Size = 0.720177 * Penis_Size + 163.278<br>R<sup>2</sup>=0.055151<br><br>Penis_Size=%{x}<br>Body_Size=%{y} <b>(trend)</b><extra></extra>\",\"legendgroup\":\"\",\"marker\":{\"symbol\":\"circle\"},\"mode\":\"lines\",\"name\":\"\",\"showlegend\":false,\"x\":[10.04,10.7,10.85,10.89,11.19,11.2,11.45,11.47,11.49,11.53,11.67,11.95,12.2,12.6,12.72,12.73,12.77,12.78,12.99,13.07,13.13,13.14,13.16,13.21,13.3,13.33,13.48,13.56,13.58,13.6,13.69,13.71,13.72,13.74,13.77,13.85,13.97,13.98,13.99,14.05,14.19,14.29,14.34,14.35,14.38,14.46,14.48,14.49,14.52,14.53,14.59,14.63,14.69,14.77,14.77,14.87,14.88,14.88,14.88,14.92,14.99,15.0,15.01,15.02,15.08,15.22,15.22,15.26,15.33,15.35,15.39,15.53,15.61,15.68,15.69,15.71,15.73,15.74,15.78,15.87,15.87,15.88,15.89,16.01,16.47,16.51,16.67,17.61],\"xaxis\":\"x\",\"y\":[170.5089763457819,170.98429300262075,171.09231951553866,171.1211265856501,171.33717961148594,171.3443813790138,171.52442556721036,171.53882910226608,171.5532326373218,171.58203970743324,171.6828644528233,171.88451394360342,172.06455813179994,172.3526288329144,172.43905004324876,172.4462518107766,172.47505888088804,172.48226064841592,172.633497766501,172.6911119067239,172.73432251189107,172.7415242794189,172.75592781447466,172.79193665211395,172.8567525598647,172.8783578624483,172.9863843753662,173.0439985155891,173.05840205064482,173.07280558570056,173.1376214934513,173.152025028507,173.1592267960349,173.1736303310906,173.1952356336742,173.25284977389708,173.33927098423143,173.34647275175928,173.35367451928715,173.39688512445431,173.49770986984439,173.569727545123,173.6057363827623,173.61293815029015,173.63454345287374,173.69215759309662,173.70656112815234,173.71376289568022,173.7353681982638,173.74256996579166,173.78578057095882,173.81458764107026,173.85779824623745,173.91541238646033,173.91541238646033,173.98743006173896,173.9946318292668,173.9946318292668,173.9946318292668,174.02343889937825,174.07385127207328,174.08105303960116,174.088254807129,174.09545657465688,174.13866717982404,174.2394919252141,174.2394919252141,174.26829899532555,174.3187113680206,174.3331149030763,174.36192197318775,174.4627467185778,174.5203608588007,174.57077323149574,174.57797499902358,174.5923785340793,174.60678206913502,174.6139838366629,174.64279090677434,174.7076068145251,174.7076068145251,174.71480858205297,174.7220103495808,174.80843155991516,175.13971286619676,175.16851993630823,175.28374821675402,175.96071436437296],\"yaxis\":\"y\",\"type\":\"scatter\"}],                        {\"template\":{\"data\":{\"histogram2dcontour\":[{\"type\":\"histogram2dcontour\",\"colorbar\":{\"outlinewidth\":0,\"ticks\":\"\"},\"colorscale\":[[0.0,\"#0d0887\"],[0.1111111111111111,\"#46039f\"],[0.2222222222222222,\"#7201a8\"],[0.3333333333333333,\"#9c179e\"],[0.4444444444444444,\"#bd3786\"],[0.5555555555555556,\"#d8576b\"],[0.6666666666666666,\"#ed7953\"],[0.7777777777777778,\"#fb9f3a\"],[0.8888888888888888,\"#fdca26\"],[1.0,\"#f0f921\"]]}],\"choropleth\":[{\"type\":\"choropleth\",\"colorbar\":{\"outlinewidth\":0,\"ticks\":\"\"}}],\"histogram2d\":[{\"type\":\"histogram2d\",\"colorbar\":{\"outlinewidth\":0,\"ticks\":\"\"},\"colorscale\":[[0.0,\"#0d0887\"],[0.1111111111111111,\"#46039f\"],[0.2222222222222222,\"#7201a8\"],[0.3333333333333333,\"#9c179e\"],[0.4444444444444444,\"#bd3786\"],[0.5555555555555556,\"#d8576b\"],[0.6666666666666666,\"#ed7953\"],[0.7777777777777778,\"#fb9f3a\"],[0.8888888888888888,\"#fdca26\"],[1.0,\"#f0f921\"]]}],\"heatmap\":[{\"type\":\"heatmap\",\"colorbar\":{\"outlinewidth\":0,\"ticks\":\"\"},\"colorscale\":[[0.0,\"#0d0887\"],[0.1111111111111111,\"#46039f\"],[0.2222222222222222,\"#7201a8\"],[0.3333333333333333,\"#9c179e\"],[0.4444444444444444,\"#bd3786\"],[0.5555555555555556,\"#d8576b\"],[0.6666666666666666,\"#ed7953\"],[0.7777777777777778,\"#fb9f3a\"],[0.8888888888888888,\"#fdca26\"],[1.0,\"#f0f921\"]]}],\"heatmapgl\":[{\"type\":\"heatmapgl\",\"colorbar\":{\"outlinewidth\":0,\"ticks\":\"\"},\"colorscale\":[[0.0,\"#0d0887\"],[0.1111111111111111,\"#46039f\"],[0.2222222222222222,\"#7201a8\"],[0.3333333333333333,\"#9c179e\"],[0.4444444444444444,\"#bd3786\"],[0.5555555555555556,\"#d8576b\"],[0.6666666666666666,\"#ed7953\"],[0.7777777777777778,\"#fb9f3a\"],[0.8888888888888888,\"#fdca26\"],[1.0,\"#f0f921\"]]}],\"contourcarpet\":[{\"type\":\"contourcarpet\",\"colorbar\":{\"outlinewidth\":0,\"ticks\":\"\"}}],\"contour\":[{\"type\":\"contour\",\"colorbar\":{\"outlinewidth\":0,\"ticks\":\"\"},\"colorscale\":[[0.0,\"#0d0887\"],[0.1111111111111111,\"#46039f\"],[0.2222222222222222,\"#7201a8\"],[0.3333333333333333,\"#9c179e\"],[0.4444444444444444,\"#bd3786\"],[0.5555555555555556,\"#d8576b\"],[0.6666666666666666,\"#ed7953\"],[0.7777777777777778,\"#fb9f3a\"],[0.8888888888888888,\"#fdca26\"],[1.0,\"#f0f921\"]]}],\"surface\":[{\"type\":\"surface\",\"colorbar\":{\"outlinewidth\":0,\"ticks\":\"\"},\"colorscale\":[[0.0,\"#0d0887\"],[0.1111111111111111,\"#46039f\"],[0.2222222222222222,\"#7201a8\"],[0.3333333333333333,\"#9c179e\"],[0.4444444444444444,\"#bd3786\"],[0.5555555555555556,\"#d8576b\"],[0.6666666666666666,\"#ed7953\"],[0.7777777777777778,\"#fb9f3a\"],[0.8888888888888888,\"#fdca26\"],[1.0,\"#f0f921\"]]}],\"mesh3d\":[{\"type\":\"mesh3d\",\"colorbar\":{\"outlinewidth\":0,\"ticks\":\"\"}}],\"scatter\":[{\"fillpattern\":{\"fillmode\":\"overlay\",\"size\":10,\"solidity\":0.2},\"type\":\"scatter\"}],\"parcoords\":[{\"type\":\"parcoords\",\"line\":{\"colorbar\":{\"outlinewidth\":0,\"ticks\":\"\"}}}],\"scatterpolargl\":[{\"type\":\"scatterpolargl\",\"marker\":{\"colorbar\":{\"outlinewidth\":0,\"ticks\":\"\"}}}],\"bar\":[{\"error_x\":{\"color\":\"#2a3f5f\"},\"error_y\":{\"color\":\"#2a3f5f\"},\"marker\":{\"line\":{\"color\":\"#E5ECF6\",\"width\":0.5},\"pattern\":{\"fillmode\":\"overlay\",\"size\":10,\"solidity\":0.2}},\"type\":\"bar\"}],\"scattergeo\":[{\"type\":\"scattergeo\",\"marker\":{\"colorbar\":{\"outlinewidth\":0,\"ticks\":\"\"}}}],\"scatterpolar\":[{\"type\":\"scatterpolar\",\"marker\":{\"colorbar\":{\"outlinewidth\":0,\"ticks\":\"\"}}}],\"histogram\":[{\"marker\":{\"pattern\":{\"fillmode\":\"overlay\",\"size\":10,\"solidity\":0.2}},\"type\":\"histogram\"}],\"scattergl\":[{\"type\":\"scattergl\",\"marker\":{\"colorbar\":{\"outlinewidth\":0,\"ticks\":\"\"}}}],\"scatter3d\":[{\"type\":\"scatter3d\",\"line\":{\"colorbar\":{\"outlinewidth\":0,\"ticks\":\"\"}},\"marker\":{\"colorbar\":{\"outlinewidth\":0,\"ticks\":\"\"}}}],\"scattermapbox\":[{\"type\":\"scattermapbox\",\"marker\":{\"colorbar\":{\"outlinewidth\":0,\"ticks\":\"\"}}}],\"scatterternary\":[{\"type\":\"scatterternary\",\"marker\":{\"colorbar\":{\"outlinewidth\":0,\"ticks\":\"\"}}}],\"scattercarpet\":[{\"type\":\"scattercarpet\",\"marker\":{\"colorbar\":{\"outlinewidth\":0,\"ticks\":\"\"}}}],\"carpet\":[{\"aaxis\":{\"endlinecolor\":\"#2a3f5f\",\"gridcolor\":\"white\",\"linecolor\":\"white\",\"minorgridcolor\":\"white\",\"startlinecolor\":\"#2a3f5f\"},\"baxis\":{\"endlinecolor\":\"#2a3f5f\",\"gridcolor\":\"white\",\"linecolor\":\"white\",\"minorgridcolor\":\"white\",\"startlinecolor\":\"#2a3f5f\"},\"type\":\"carpet\"}],\"table\":[{\"cells\":{\"fill\":{\"color\":\"#EBF0F8\"},\"line\":{\"color\":\"white\"}},\"header\":{\"fill\":{\"color\":\"#C8D4E3\"},\"line\":{\"color\":\"white\"}},\"type\":\"table\"}],\"barpolar\":[{\"marker\":{\"line\":{\"color\":\"#E5ECF6\",\"width\":0.5},\"pattern\":{\"fillmode\":\"overlay\",\"size\":10,\"solidity\":0.2}},\"type\":\"barpolar\"}],\"pie\":[{\"automargin\":true,\"type\":\"pie\"}]},\"layout\":{\"autotypenumbers\":\"strict\",\"colorway\":[\"#636efa\",\"#EF553B\",\"#00cc96\",\"#ab63fa\",\"#FFA15A\",\"#19d3f3\",\"#FF6692\",\"#B6E880\",\"#FF97FF\",\"#FECB52\"],\"font\":{\"color\":\"#2a3f5f\"},\"hovermode\":\"closest\",\"hoverlabel\":{\"align\":\"left\"},\"paper_bgcolor\":\"white\",\"plot_bgcolor\":\"#E5ECF6\",\"polar\":{\"bgcolor\":\"#E5ECF6\",\"angularaxis\":{\"gridcolor\":\"white\",\"linecolor\":\"white\",\"ticks\":\"\"},\"radialaxis\":{\"gridcolor\":\"white\",\"linecolor\":\"white\",\"ticks\":\"\"}},\"ternary\":{\"bgcolor\":\"#E5ECF6\",\"aaxis\":{\"gridcolor\":\"white\",\"linecolor\":\"white\",\"ticks\":\"\"},\"baxis\":{\"gridcolor\":\"white\",\"linecolor\":\"white\",\"ticks\":\"\"},\"caxis\":{\"gridcolor\":\"white\",\"linecolor\":\"white\",\"ticks\":\"\"}},\"coloraxis\":{\"colorbar\":{\"outlinewidth\":0,\"ticks\":\"\"}},\"colorscale\":{\"sequential\":[[0.0,\"#0d0887\"],[0.1111111111111111,\"#46039f\"],[0.2222222222222222,\"#7201a8\"],[0.3333333333333333,\"#9c179e\"],[0.4444444444444444,\"#bd3786\"],[0.5555555555555556,\"#d8576b\"],[0.6666666666666666,\"#ed7953\"],[0.7777777777777778,\"#fb9f3a\"],[0.8888888888888888,\"#fdca26\"],[1.0,\"#f0f921\"]],\"sequentialminus\":[[0.0,\"#0d0887\"],[0.1111111111111111,\"#46039f\"],[0.2222222222222222,\"#7201a8\"],[0.3333333333333333,\"#9c179e\"],[0.4444444444444444,\"#bd3786\"],[0.5555555555555556,\"#d8576b\"],[0.6666666666666666,\"#ed7953\"],[0.7777777777777778,\"#fb9f3a\"],[0.8888888888888888,\"#fdca26\"],[1.0,\"#f0f921\"]],\"diverging\":[[0,\"#8e0152\"],[0.1,\"#c51b7d\"],[0.2,\"#de77ae\"],[0.3,\"#f1b6da\"],[0.4,\"#fde0ef\"],[0.5,\"#f7f7f7\"],[0.6,\"#e6f5d0\"],[0.7,\"#b8e186\"],[0.8,\"#7fbc41\"],[0.9,\"#4d9221\"],[1,\"#276419\"]]},\"xaxis\":{\"gridcolor\":\"white\",\"linecolor\":\"white\",\"ticks\":\"\",\"title\":{\"standoff\":15},\"zerolinecolor\":\"white\",\"automargin\":true,\"zerolinewidth\":2},\"yaxis\":{\"gridcolor\":\"white\",\"linecolor\":\"white\",\"ticks\":\"\",\"title\":{\"standoff\":15},\"zerolinecolor\":\"white\",\"automargin\":true,\"zerolinewidth\":2},\"scene\":{\"xaxis\":{\"backgroundcolor\":\"#E5ECF6\",\"gridcolor\":\"white\",\"linecolor\":\"white\",\"showbackground\":true,\"ticks\":\"\",\"zerolinecolor\":\"white\",\"gridwidth\":2},\"yaxis\":{\"backgroundcolor\":\"#E5ECF6\",\"gridcolor\":\"white\",\"linecolor\":\"white\",\"showbackground\":true,\"ticks\":\"\",\"zerolinecolor\":\"white\",\"gridwidth\":2},\"zaxis\":{\"backgroundcolor\":\"#E5ECF6\",\"gridcolor\":\"white\",\"linecolor\":\"white\",\"showbackground\":true,\"ticks\":\"\",\"zerolinecolor\":\"white\",\"gridwidth\":2}},\"shapedefaults\":{\"line\":{\"color\":\"#2a3f5f\"}},\"annotationdefaults\":{\"arrowcolor\":\"#2a3f5f\",\"arrowhead\":0,\"arrowwidth\":1},\"geo\":{\"bgcolor\":\"white\",\"landcolor\":\"#E5ECF6\",\"subunitcolor\":\"white\",\"showland\":true,\"showlakes\":true,\"lakecolor\":\"white\"},\"title\":{\"x\":0.05},\"mapbox\":{\"style\":\"light\"}}},\"xaxis\":{\"anchor\":\"y\",\"domain\":[0.0,0.7363],\"title\":{\"text\":\"Penis_Size\"}},\"yaxis\":{\"anchor\":\"x\",\"domain\":[0.0,0.7326],\"title\":{\"text\":\"Body_Size\"}},\"xaxis2\":{\"anchor\":\"y2\",\"domain\":[0.7413,1.0],\"matches\":\"x2\",\"showticklabels\":false,\"showline\":false,\"ticks\":\"\",\"showgrid\":true},\"yaxis2\":{\"anchor\":\"x2\",\"domain\":[0.0,0.7326],\"matches\":\"y\",\"showticklabels\":false,\"showgrid\":true},\"xaxis3\":{\"anchor\":\"y3\",\"domain\":[0.0,0.7363],\"matches\":\"x\",\"showticklabels\":false,\"showgrid\":true},\"yaxis3\":{\"anchor\":\"x3\",\"domain\":[0.7426,1.0],\"matches\":\"y3\",\"showticklabels\":false,\"showline\":false,\"ticks\":\"\",\"showgrid\":true},\"xaxis4\":{\"anchor\":\"y4\",\"domain\":[0.7413,1.0],\"matches\":\"x2\",\"showticklabels\":false,\"showgrid\":true,\"showline\":false,\"ticks\":\"\"},\"yaxis4\":{\"anchor\":\"x4\",\"domain\":[0.7426,1.0],\"matches\":\"y3\",\"showticklabels\":false,\"showline\":false,\"ticks\":\"\",\"showgrid\":true},\"coloraxis\":{\"colorbar\":{\"title\":{\"text\":\"Penis2Body\"}},\"colorscale\":[[0.0,\"#0d0887\"],[0.1111111111111111,\"#46039f\"],[0.2222222222222222,\"#7201a8\"],[0.3333333333333333,\"#9c179e\"],[0.4444444444444444,\"#bd3786\"],[0.5555555555555556,\"#d8576b\"],[0.6666666666666666,\"#ed7953\"],[0.7777777777777778,\"#fb9f3a\"],[0.8888888888888888,\"#fdca26\"],[1.0,\"#f0f921\"]]},\"legend\":{\"tracegroupgap\":0},\"margin\":{\"t\":60},\"barmode\":\"overlay\",\"shapes\":[{\"line\":{\"dash\":\"dash\"},\"opacity\":0.2,\"type\":\"line\",\"x0\":0,\"x1\":1,\"xref\":\"x domain\",\"y0\":173.42045454545453,\"y1\":173.42045454545453,\"yref\":\"y\"},{\"line\":{\"dash\":\"dash\"},\"opacity\":0.2,\"type\":\"line\",\"x0\":0,\"x1\":1,\"xref\":\"x2 domain\",\"y0\":173.42045454545453,\"y1\":173.42045454545453,\"yref\":\"y2\"},{\"line\":{\"dash\":\"dash\"},\"opacity\":0.2,\"type\":\"line\",\"x0\":0,\"x1\":1,\"xref\":\"x3 domain\",\"y0\":173.42045454545453,\"y1\":173.42045454545453,\"yref\":\"y3\"},{\"line\":{\"dash\":\"dash\"},\"opacity\":0.2,\"type\":\"line\",\"x0\":14.08272727272727,\"x1\":14.08272727272727,\"xref\":\"x\",\"y0\":0,\"y1\":1,\"yref\":\"y domain\"},{\"line\":{\"dash\":\"dash\"},\"opacity\":0.2,\"type\":\"line\",\"x0\":14.08272727272727,\"x1\":14.08272727272727,\"xref\":\"x2\",\"y0\":0,\"y1\":1,\"yref\":\"y2 domain\"},{\"line\":{\"dash\":\"dash\"},\"opacity\":0.2,\"type\":\"line\",\"x0\":14.08272727272727,\"x1\":14.08272727272727,\"xref\":\"x3\",\"y0\":0,\"y1\":1,\"yref\":\"y3 domain\"},{\"fillcolor\":\"lightgreen\",\"line\":{\"width\":0},\"opacity\":0.15,\"type\":\"rect\",\"x0\":14.08272727272727,\"x1\":17.61,\"xref\":\"x\",\"y0\":0,\"y1\":1,\"yref\":\"y domain\"},{\"fillcolor\":\"lightgreen\",\"line\":{\"width\":0},\"opacity\":0.15,\"type\":\"rect\",\"x0\":14.08272727272727,\"x1\":17.61,\"xref\":\"x2\",\"y0\":0,\"y1\":1,\"yref\":\"y2 domain\"},{\"fillcolor\":\"lightgreen\",\"line\":{\"width\":0},\"opacity\":0.15,\"type\":\"rect\",\"x0\":14.08272727272727,\"x1\":17.61,\"xref\":\"x3\",\"y0\":0,\"y1\":1,\"yref\":\"y3 domain\"},{\"fillcolor\":\"lightgreen\",\"line\":{\"width\":0},\"opacity\":0.15,\"type\":\"rect\",\"x0\":0,\"x1\":1,\"xref\":\"x domain\",\"y0\":173.42045454545453,\"y1\":184.0,\"yref\":\"y\"},{\"fillcolor\":\"lightgreen\",\"line\":{\"width\":0},\"opacity\":0.15,\"type\":\"rect\",\"x0\":0,\"x1\":1,\"xref\":\"x2 domain\",\"y0\":173.42045454545453,\"y1\":184.0,\"yref\":\"y2\"},{\"fillcolor\":\"lightgreen\",\"line\":{\"width\":0},\"opacity\":0.15,\"type\":\"rect\",\"x0\":0,\"x1\":1,\"xref\":\"x3 domain\",\"y0\":173.42045454545453,\"y1\":184.0,\"yref\":\"y3\"}]},                        {\"responsive\": true}                    ).then(function(){\n",
       "                            \n",
       "var gd = document.getElementById('e60a9019-f6d2-4325-a3ac-8a32384d96e6');\n",
       "var x = new MutationObserver(function (mutations, observer) {{\n",
       "        var display = window.getComputedStyle(gd).display;\n",
       "        if (!display || display === 'none') {{\n",
       "            console.log([gd, 'removed!']);\n",
       "            Plotly.purge(gd);\n",
       "            observer.disconnect();\n",
       "        }}\n",
       "}});\n",
       "\n",
       "// Listen for the removal of the full notebook cells\n",
       "var notebookContainer = gd.closest('#notebook-container');\n",
       "if (notebookContainer) {{\n",
       "    x.observe(notebookContainer, {childList: true});\n",
       "}}\n",
       "\n",
       "// Listen for the clearing of the current output cell\n",
       "var outputEl = gd.closest('.output');\n",
       "if (outputEl) {{\n",
       "    x.observe(outputEl, {childList: true});\n",
       "}}\n",
       "\n",
       "                        })                };                });            </script>        </div>"
      ]
     },
     "metadata": {},
     "output_type": "display_data"
    }
   ],
   "source": [
    "fig = px.scatter(df,\n",
    "                x='Penis_Size',\n",
    "                y= 'Body_Size',\n",
    "                marginal_x = 'histogram',\n",
    "                marginal_y = 'histogram',\n",
    "                color = 'Penis2Body',\n",
    "                hover_name = 'Country',\n",
    "                trendline = 'ols')\n",
    "\n",
    "fig.add_hline(df.Body_Size.mean(),  line_dash='dash',opacity=0.2)\n",
    "fig.add_vline(df.Penis_Size.mean(),  line_dash='dash',opacity=0.2)\n",
    "\n",
    "fig.add_vrect(x0=df.Penis_Size.mean(), x1=df.Penis_Size.max(), line_width=0, fillcolor=\"lightgreen\", opacity=0.15)\n",
    "fig.add_hrect(y0=df.Body_Size.mean(), y1=df.Body_Size.max(), line_width=0, fillcolor=\"lightgreen\", opacity=0.15)\n",
    "\n",
    "fig.show()"
   ]
  },
  {
   "cell_type": "code",
   "execution_count": null,
   "id": "10a6b312",
   "metadata": {
    "hidden": true
   },
   "outputs": [],
   "source": []
  }
 ],
 "metadata": {
  "hide_input": false,
  "kernelspec": {
   "display_name": "Python 3 (ipykernel)",
   "language": "python",
   "name": "python3"
  },
  "language_info": {
   "codemirror_mode": {
    "name": "ipython",
    "version": 3
   },
   "file_extension": ".py",
   "mimetype": "text/x-python",
   "name": "python",
   "nbconvert_exporter": "python",
   "pygments_lexer": "ipython3",
   "version": "3.8.13"
  }
 },
 "nbformat": 4,
 "nbformat_minor": 5
}
